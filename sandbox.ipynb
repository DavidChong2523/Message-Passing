{
 "cells": [
  {
   "cell_type": "code",
   "execution_count": 2,
   "metadata": {},
   "outputs": [],
   "source": [
    "%load_ext autoreload\n",
    "%autoreload 2"
   ]
  },
  {
   "cell_type": "code",
   "execution_count": 3,
   "metadata": {},
   "outputs": [],
   "source": [
    "import networkx as nx\n",
    "import numpy as np\n",
    "import pandas as pd\n",
    "import random\n",
    "import os\n",
    "import sklearn.cluster \n",
    "\n",
    "import msg_passing\n",
    "import utils\n",
    "import run\n",
    "import display\n",
    "import parse_data\n",
    "import run"
   ]
  },
  {
   "cell_type": "code",
   "execution_count": null,
   "metadata": {},
   "outputs": [],
   "source": [
    "\n",
    "def predict_links():\n",
    "    war_fname = \"output/gun_regulations_v2_raw_answer_processed_names_uniform_init_update_weights_30K_lr_3_dim_10.graphml\" \n",
    "    war_fname_hist = \"output/gun_regulations_v2_raw_answer_processed_names_uniform_init_update_weights_30K_lr_3_dim_10.pkl\" \n",
    "    war_fname = \"output/combined_v2_general_msg_passing_batch_10_path_10_100K_lr_3_dim_3.graphml\" \n",
    "    war_fname_hist = \"output/combined_v2_general_msg_passing_batch_10_path_10_100K_lr_3_dim_3.pkl\" \n",
    "    wg = msg_passing.load_graph_graphml(war_fname)\n",
    "    pg, aux = msg_passing.prune_graph(wg)\n",
    "    avg_g = msg_passing.avg_edge_weights(pg)\n",
    "    hist, diagnostic_hist = msg_passing.load_history(war_fname_hist)\n",
    "    def sign(n):\n",
    "        if(n > 0):\n",
    "            return 1\n",
    "        elif(n < 0):\n",
    "            return -1\n",
    "        else:\n",
    "            return 0\n",
    "\n",
    "    outliers = []\n",
    "    for n in pg.nodes():\n",
    "        for n2 in pg.neighbors(n):\n",
    "            weights = np.array([v[\"weight\"] for v in wg[n][n2].values()])\n",
    "            avg_weight = np.average(weights)\n",
    "\n",
    "            angle = utils.between_angle(pg.nodes()[n][\"value\"], pg.nodes()[n2][\"value\"])\n",
    "            if(abs(avg_weight) > 0.1 or abs(np.pi/2-angle) < 1):\n",
    "                continue\n",
    "            if(sign((np.pi/2) - angle) != sign(avg_weight)):\n",
    "                outliers.append((n, n2, avg_weight, (np.pi/2-angle)/1.5))\n",
    "\n",
    "    print(len(outliers))\n",
    "    print(outliers)"
   ]
  }
 ],
 "metadata": {
  "kernelspec": {
   "display_name": "Python 3.9.10 ('venv39': venv)",
   "language": "python",
   "name": "python3"
  },
  "language_info": {
   "codemirror_mode": {
    "name": "ipython",
    "version": 3
   },
   "file_extension": ".py",
   "mimetype": "text/x-python",
   "name": "python",
   "nbconvert_exporter": "python",
   "pygments_lexer": "ipython3",
   "version": "3.9.10"
  },
  "orig_nbformat": 4,
  "vscode": {
   "interpreter": {
    "hash": "b876fb38630d8b7eff3227a637f339eaf3b214f70cea0bf24c7a5b65f81667aa"
   }
  }
 },
 "nbformat": 4,
 "nbformat_minor": 2
}
