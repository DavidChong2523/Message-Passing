{
 "cells": [
  {
   "cell_type": "code",
   "execution_count": 1,
   "metadata": {},
   "outputs": [],
   "source": [
    "%load_ext autoreload\n",
    "%autoreload 2"
   ]
  },
  {
   "cell_type": "code",
   "execution_count": 2,
   "metadata": {},
   "outputs": [],
   "source": [
    "import networkx as nx\n",
    "import numpy as np\n",
    "import pandas as pd\n",
    "import random\n",
    "import os\n",
    "import sklearn.cluster \n",
    "import plotly.express as px\n",
    "\n",
    "import msg_passing\n",
    "import utils\n",
    "import run\n",
    "import display\n",
    "import parse_data"
   ]
  },
  {
   "cell_type": "code",
   "execution_count": 3,
   "metadata": {},
   "outputs": [],
   "source": [
    "def load_results(fdir, f_prefix):\n",
    "    g = msg_passing.load_graph_graphml(fdir + f_prefix + \".graphml\")\n",
    "    hist, diagnostic_hist = msg_passing.load_history(fdir + f_prefix + \".pkl\")\n",
    "    return g, hist, diagnostic_hist\n",
    "\n",
    "def view_history(fdir, f_prefix):\n",
    "    hist, _ = msg_passing.load_history(fdir + f_prefix + \".pkl\") \n",
    "    return hist.keys()\n",
    "\n",
    "def plot_run(fdir, f_prefix, target):\n",
    "    print(\"Plotting run for\", fdir + f_prefix)\n",
    "    g = msg_passing.load_graph_graphml(fdir + f_prefix + \".graphml\")\n",
    "    hist, diagnostic_hist = msg_passing.load_history(fdir + f_prefix + \".pkl\")\n",
    "    display.plot_diagnostic(diagnostic_hist)\n",
    "    display.plot_history(hist, target=target)"
   ]
  },
  {
   "cell_type": "code",
   "execution_count": 4,
   "metadata": {},
   "outputs": [
    {
     "data": {
      "application/vnd.plotly.v1+json": {
       "config": {
        "plotlyServerURL": "https://plot.ly"
       },
       "data": [
        {
         "alignmentgroup": "True",
         "bingroup": "x",
         "hovertemplate": "Node Degree=%{x}<br>count=%{y}<extra></extra>",
         "legendgroup": "",
         "marker": {
          "color": "#636efa",
          "pattern": {
           "shape": ""
          }
         },
         "name": "",
         "offsetgroup": "",
         "orientation": "v",
         "showlegend": false,
         "type": "histogram",
         "x": [
          1,
          1,
          1,
          1,
          1,
          4,
          1,
          4,
          1,
          1,
          2,
          1,
          1,
          7,
          3,
          7,
          1,
          5,
          1,
          1,
          5,
          1,
          2,
          3,
          1,
          3,
          2,
          2,
          1,
          1,
          4,
          1,
          1,
          4,
          4,
          1,
          15,
          1,
          3,
          1,
          1,
          7,
          1,
          6,
          6,
          4,
          1,
          8,
          1,
          1,
          1,
          2,
          2,
          1,
          1,
          3,
          1,
          2,
          10,
          1,
          4,
          3,
          1,
          1,
          1,
          1,
          1,
          9,
          1,
          2,
          1,
          12,
          1,
          3,
          3,
          2,
          3,
          3,
          2,
          1,
          1,
          3,
          2,
          1,
          1,
          1,
          1,
          2,
          1,
          22,
          2,
          1,
          1,
          1,
          1,
          1,
          2,
          2,
          3,
          2,
          1,
          5,
          2,
          1,
          3,
          1,
          2,
          5,
          1,
          1,
          1,
          3,
          1,
          3,
          1,
          1,
          1,
          8,
          1,
          1,
          1,
          3,
          2,
          2,
          1,
          1,
          1,
          4,
          2,
          1,
          5,
          1,
          2,
          1,
          2,
          2,
          1,
          9,
          3,
          1,
          1,
          2,
          2,
          2,
          1,
          1,
          3,
          2,
          1,
          2,
          1,
          1,
          1,
          1,
          2,
          1,
          1,
          1,
          1,
          3,
          3,
          4,
          4,
          1,
          6,
          2,
          1,
          2,
          1,
          1,
          2,
          1,
          2,
          1,
          1,
          1,
          1,
          3,
          5,
          2,
          1,
          4,
          3,
          1,
          4,
          1,
          5,
          39,
          2,
          21,
          6,
          2,
          1,
          5,
          5,
          2,
          1,
          2,
          1,
          2,
          1,
          5,
          1,
          1,
          1,
          1,
          4,
          5,
          1,
          2,
          1,
          5,
          1,
          5,
          1,
          5,
          10,
          1,
          2,
          1,
          1,
          1,
          8,
          1,
          1,
          2,
          1,
          2,
          2,
          2,
          1,
          2,
          1,
          1,
          1,
          1,
          1,
          1,
          6,
          4,
          10,
          1,
          2,
          5,
          1,
          4,
          7,
          4,
          1,
          1,
          1,
          1,
          3,
          1,
          2,
          2,
          1,
          1,
          5,
          2,
          1,
          6,
          2,
          1,
          1,
          1,
          1,
          2,
          6,
          1,
          1,
          1,
          1,
          1,
          4,
          1,
          2,
          3,
          24,
          10,
          1,
          2,
          1,
          1,
          2,
          1,
          3,
          2,
          2,
          3,
          4,
          4,
          1,
          1,
          1,
          1,
          6,
          2,
          1,
          1,
          2,
          1,
          2,
          1,
          1,
          1,
          2,
          5,
          2,
          3,
          2,
          2,
          3,
          2,
          1,
          1,
          1,
          3,
          1,
          1,
          4,
          1,
          1,
          6,
          1,
          1,
          2,
          3,
          8,
          1,
          1,
          1,
          1,
          1,
          1,
          1,
          1,
          1,
          1,
          3,
          2,
          1,
          1,
          1,
          1,
          1,
          1,
          3,
          1,
          2,
          1,
          1,
          1,
          1,
          1,
          1,
          2,
          2,
          1,
          6,
          1,
          1,
          10,
          2,
          2,
          1,
          1,
          1,
          1,
          1,
          1,
          1,
          1,
          3,
          1,
          1,
          1,
          8,
          1,
          3,
          4,
          1,
          1,
          2,
          4,
          1,
          2,
          1,
          1,
          1,
          1,
          1,
          1,
          8,
          6,
          10,
          2,
          1,
          6,
          1,
          1,
          2,
          1,
          2,
          2,
          2,
          3,
          1,
          2,
          1,
          1,
          1,
          2,
          3,
          1,
          1,
          4,
          1,
          1,
          6,
          1,
          1,
          1,
          1,
          5,
          2,
          1,
          1,
          2,
          1,
          2,
          1,
          1,
          5,
          1,
          1,
          1,
          6,
          1,
          1,
          1,
          1,
          2,
          5,
          1,
          2,
          3,
          1,
          1,
          5,
          3,
          3,
          2,
          1,
          1,
          2,
          2,
          1,
          2,
          1,
          1,
          7,
          2,
          2,
          1,
          1,
          2,
          1,
          3,
          1,
          1,
          2,
          4,
          1,
          2,
          1,
          1,
          1,
          2,
          2,
          1,
          2,
          2,
          2,
          2,
          2,
          2,
          4,
          1,
          3,
          1,
          1,
          1,
          3,
          5,
          1,
          2,
          9,
          1,
          2,
          1,
          3,
          3,
          5,
          1,
          2,
          1,
          1,
          2,
          1,
          3,
          13,
          1,
          1,
          1,
          4,
          2,
          1,
          1,
          1,
          2,
          2,
          1,
          1,
          2,
          4,
          1,
          1,
          3,
          2,
          1,
          2,
          2,
          1,
          2,
          1,
          1,
          1,
          1,
          1,
          3,
          1,
          1,
          3,
          7,
          1,
          2,
          5,
          1,
          3,
          1,
          2,
          1,
          1,
          1,
          2,
          1,
          1,
          1,
          4,
          1,
          12,
          1,
          1,
          2,
          1,
          4,
          1,
          1,
          1,
          1,
          2,
          1,
          2,
          4,
          1,
          2,
          1,
          2,
          1,
          2,
          2,
          1,
          1,
          2,
          1,
          1,
          1,
          1,
          1,
          4,
          2,
          1,
          1,
          1,
          12,
          2,
          4,
          1,
          1,
          3,
          1,
          2,
          5,
          18,
          2,
          1,
          5,
          1,
          1,
          5,
          2,
          1,
          1,
          1,
          3,
          2,
          1,
          3,
          1,
          1,
          12,
          2,
          2,
          3,
          1,
          3,
          1,
          2,
          1,
          1,
          1,
          1,
          4,
          1,
          1,
          8,
          1,
          5,
          4,
          1,
          2,
          1,
          6,
          1,
          6,
          4,
          9,
          3,
          1,
          1,
          2,
          4,
          2,
          1,
          1,
          1,
          6,
          1,
          11,
          1,
          1,
          8,
          1,
          1,
          3,
          1,
          1,
          2,
          1,
          1,
          1,
          1,
          1,
          1,
          1,
          1,
          6,
          4,
          4,
          1,
          3,
          1,
          3,
          5,
          1,
          1,
          1,
          1,
          1,
          1,
          6,
          4,
          1,
          1,
          2,
          2,
          1,
          4,
          7,
          1,
          1,
          1,
          3,
          2,
          1,
          3,
          2,
          1,
          1,
          3,
          6,
          1,
          3,
          2,
          1,
          1,
          1,
          13,
          1,
          1,
          5,
          1,
          5,
          1,
          1,
          3,
          4,
          2,
          19,
          1,
          1,
          1,
          2,
          1,
          2,
          1,
          1,
          5,
          4,
          1,
          1,
          7,
          1,
          1,
          7,
          12,
          5,
          2,
          2,
          2,
          1,
          5,
          1,
          1,
          2,
          2,
          2,
          2,
          1,
          1,
          1,
          2,
          1,
          1,
          2,
          2,
          1,
          4,
          2,
          5,
          1,
          2,
          1,
          1,
          1,
          1,
          2,
          1,
          1,
          1,
          6,
          5,
          2,
          2,
          3,
          1,
          1,
          4,
          3,
          1,
          1,
          5,
          2,
          5,
          1,
          4,
          2,
          3,
          1,
          3,
          8,
          17,
          9,
          2,
          1,
          9,
          1,
          1,
          12,
          3,
          1,
          1,
          2,
          1,
          1,
          1,
          2,
          1,
          1,
          1,
          1,
          4,
          2,
          2,
          2,
          2,
          1,
          1,
          1,
          5,
          1,
          1,
          1,
          2,
          1,
          1,
          1,
          1,
          1,
          2,
          1,
          1,
          1,
          3,
          1,
          1,
          1,
          1,
          1,
          3,
          2,
          1,
          2,
          1,
          1,
          3,
          1,
          2,
          1,
          1,
          3,
          2,
          2,
          1,
          1,
          1,
          3,
          2,
          1,
          1,
          2,
          1,
          1,
          1,
          2,
          4,
          5,
          4,
          5,
          15,
          3,
          1,
          2,
          2,
          1,
          4,
          1,
          1,
          2,
          10,
          6,
          15,
          1,
          4,
          1,
          2,
          1,
          1,
          1,
          1,
          1,
          1,
          1,
          1,
          1,
          2,
          1,
          1,
          1,
          1,
          2,
          1,
          1,
          1,
          1,
          2,
          22,
          1,
          1,
          2,
          2,
          2,
          1,
          2,
          2,
          1,
          1,
          10,
          1,
          1,
          1,
          3,
          5,
          2,
          2,
          2,
          1,
          2,
          1,
          1,
          1,
          2,
          1,
          2,
          2,
          1,
          2,
          1,
          2,
          5,
          2,
          4,
          1,
          1,
          1,
          14,
          1,
          1,
          2,
          2,
          5,
          2,
          3,
          6,
          2,
          1,
          3,
          5,
          1,
          2,
          3,
          1,
          1,
          1,
          1,
          1,
          1,
          1,
          1,
          1,
          1,
          2,
          3,
          3,
          2,
          1,
          3,
          1,
          1,
          5,
          1,
          2,
          26,
          1,
          2,
          1,
          3,
          1,
          1,
          3,
          4,
          1,
          1,
          3,
          10,
          1,
          2,
          2,
          5,
          1,
          5,
          2,
          1,
          1,
          2,
          2,
          1,
          7,
          2,
          1,
          8,
          10,
          3,
          1,
          1,
          1,
          1,
          1,
          1,
          2,
          2,
          1,
          1,
          9,
          1,
          1,
          1
         ],
         "xaxis": "x",
         "yaxis": "y"
        }
       ],
       "layout": {
        "barmode": "relative",
        "legend": {
         "tracegroupgap": 0
        },
        "template": {
         "data": {
          "bar": [
           {
            "error_x": {
             "color": "#2a3f5f"
            },
            "error_y": {
             "color": "#2a3f5f"
            },
            "marker": {
             "line": {
              "color": "#E5ECF6",
              "width": 0.5
             },
             "pattern": {
              "fillmode": "overlay",
              "size": 10,
              "solidity": 0.2
             }
            },
            "type": "bar"
           }
          ],
          "barpolar": [
           {
            "marker": {
             "line": {
              "color": "#E5ECF6",
              "width": 0.5
             },
             "pattern": {
              "fillmode": "overlay",
              "size": 10,
              "solidity": 0.2
             }
            },
            "type": "barpolar"
           }
          ],
          "carpet": [
           {
            "aaxis": {
             "endlinecolor": "#2a3f5f",
             "gridcolor": "white",
             "linecolor": "white",
             "minorgridcolor": "white",
             "startlinecolor": "#2a3f5f"
            },
            "baxis": {
             "endlinecolor": "#2a3f5f",
             "gridcolor": "white",
             "linecolor": "white",
             "minorgridcolor": "white",
             "startlinecolor": "#2a3f5f"
            },
            "type": "carpet"
           }
          ],
          "choropleth": [
           {
            "colorbar": {
             "outlinewidth": 0,
             "ticks": ""
            },
            "type": "choropleth"
           }
          ],
          "contour": [
           {
            "colorbar": {
             "outlinewidth": 0,
             "ticks": ""
            },
            "colorscale": [
             [
              0,
              "#0d0887"
             ],
             [
              0.1111111111111111,
              "#46039f"
             ],
             [
              0.2222222222222222,
              "#7201a8"
             ],
             [
              0.3333333333333333,
              "#9c179e"
             ],
             [
              0.4444444444444444,
              "#bd3786"
             ],
             [
              0.5555555555555556,
              "#d8576b"
             ],
             [
              0.6666666666666666,
              "#ed7953"
             ],
             [
              0.7777777777777778,
              "#fb9f3a"
             ],
             [
              0.8888888888888888,
              "#fdca26"
             ],
             [
              1,
              "#f0f921"
             ]
            ],
            "type": "contour"
           }
          ],
          "contourcarpet": [
           {
            "colorbar": {
             "outlinewidth": 0,
             "ticks": ""
            },
            "type": "contourcarpet"
           }
          ],
          "heatmap": [
           {
            "colorbar": {
             "outlinewidth": 0,
             "ticks": ""
            },
            "colorscale": [
             [
              0,
              "#0d0887"
             ],
             [
              0.1111111111111111,
              "#46039f"
             ],
             [
              0.2222222222222222,
              "#7201a8"
             ],
             [
              0.3333333333333333,
              "#9c179e"
             ],
             [
              0.4444444444444444,
              "#bd3786"
             ],
             [
              0.5555555555555556,
              "#d8576b"
             ],
             [
              0.6666666666666666,
              "#ed7953"
             ],
             [
              0.7777777777777778,
              "#fb9f3a"
             ],
             [
              0.8888888888888888,
              "#fdca26"
             ],
             [
              1,
              "#f0f921"
             ]
            ],
            "type": "heatmap"
           }
          ],
          "heatmapgl": [
           {
            "colorbar": {
             "outlinewidth": 0,
             "ticks": ""
            },
            "colorscale": [
             [
              0,
              "#0d0887"
             ],
             [
              0.1111111111111111,
              "#46039f"
             ],
             [
              0.2222222222222222,
              "#7201a8"
             ],
             [
              0.3333333333333333,
              "#9c179e"
             ],
             [
              0.4444444444444444,
              "#bd3786"
             ],
             [
              0.5555555555555556,
              "#d8576b"
             ],
             [
              0.6666666666666666,
              "#ed7953"
             ],
             [
              0.7777777777777778,
              "#fb9f3a"
             ],
             [
              0.8888888888888888,
              "#fdca26"
             ],
             [
              1,
              "#f0f921"
             ]
            ],
            "type": "heatmapgl"
           }
          ],
          "histogram": [
           {
            "marker": {
             "pattern": {
              "fillmode": "overlay",
              "size": 10,
              "solidity": 0.2
             }
            },
            "type": "histogram"
           }
          ],
          "histogram2d": [
           {
            "colorbar": {
             "outlinewidth": 0,
             "ticks": ""
            },
            "colorscale": [
             [
              0,
              "#0d0887"
             ],
             [
              0.1111111111111111,
              "#46039f"
             ],
             [
              0.2222222222222222,
              "#7201a8"
             ],
             [
              0.3333333333333333,
              "#9c179e"
             ],
             [
              0.4444444444444444,
              "#bd3786"
             ],
             [
              0.5555555555555556,
              "#d8576b"
             ],
             [
              0.6666666666666666,
              "#ed7953"
             ],
             [
              0.7777777777777778,
              "#fb9f3a"
             ],
             [
              0.8888888888888888,
              "#fdca26"
             ],
             [
              1,
              "#f0f921"
             ]
            ],
            "type": "histogram2d"
           }
          ],
          "histogram2dcontour": [
           {
            "colorbar": {
             "outlinewidth": 0,
             "ticks": ""
            },
            "colorscale": [
             [
              0,
              "#0d0887"
             ],
             [
              0.1111111111111111,
              "#46039f"
             ],
             [
              0.2222222222222222,
              "#7201a8"
             ],
             [
              0.3333333333333333,
              "#9c179e"
             ],
             [
              0.4444444444444444,
              "#bd3786"
             ],
             [
              0.5555555555555556,
              "#d8576b"
             ],
             [
              0.6666666666666666,
              "#ed7953"
             ],
             [
              0.7777777777777778,
              "#fb9f3a"
             ],
             [
              0.8888888888888888,
              "#fdca26"
             ],
             [
              1,
              "#f0f921"
             ]
            ],
            "type": "histogram2dcontour"
           }
          ],
          "mesh3d": [
           {
            "colorbar": {
             "outlinewidth": 0,
             "ticks": ""
            },
            "type": "mesh3d"
           }
          ],
          "parcoords": [
           {
            "line": {
             "colorbar": {
              "outlinewidth": 0,
              "ticks": ""
             }
            },
            "type": "parcoords"
           }
          ],
          "pie": [
           {
            "automargin": true,
            "type": "pie"
           }
          ],
          "scatter": [
           {
            "fillpattern": {
             "fillmode": "overlay",
             "size": 10,
             "solidity": 0.2
            },
            "type": "scatter"
           }
          ],
          "scatter3d": [
           {
            "line": {
             "colorbar": {
              "outlinewidth": 0,
              "ticks": ""
             }
            },
            "marker": {
             "colorbar": {
              "outlinewidth": 0,
              "ticks": ""
             }
            },
            "type": "scatter3d"
           }
          ],
          "scattercarpet": [
           {
            "marker": {
             "colorbar": {
              "outlinewidth": 0,
              "ticks": ""
             }
            },
            "type": "scattercarpet"
           }
          ],
          "scattergeo": [
           {
            "marker": {
             "colorbar": {
              "outlinewidth": 0,
              "ticks": ""
             }
            },
            "type": "scattergeo"
           }
          ],
          "scattergl": [
           {
            "marker": {
             "colorbar": {
              "outlinewidth": 0,
              "ticks": ""
             }
            },
            "type": "scattergl"
           }
          ],
          "scattermapbox": [
           {
            "marker": {
             "colorbar": {
              "outlinewidth": 0,
              "ticks": ""
             }
            },
            "type": "scattermapbox"
           }
          ],
          "scatterpolar": [
           {
            "marker": {
             "colorbar": {
              "outlinewidth": 0,
              "ticks": ""
             }
            },
            "type": "scatterpolar"
           }
          ],
          "scatterpolargl": [
           {
            "marker": {
             "colorbar": {
              "outlinewidth": 0,
              "ticks": ""
             }
            },
            "type": "scatterpolargl"
           }
          ],
          "scatterternary": [
           {
            "marker": {
             "colorbar": {
              "outlinewidth": 0,
              "ticks": ""
             }
            },
            "type": "scatterternary"
           }
          ],
          "surface": [
           {
            "colorbar": {
             "outlinewidth": 0,
             "ticks": ""
            },
            "colorscale": [
             [
              0,
              "#0d0887"
             ],
             [
              0.1111111111111111,
              "#46039f"
             ],
             [
              0.2222222222222222,
              "#7201a8"
             ],
             [
              0.3333333333333333,
              "#9c179e"
             ],
             [
              0.4444444444444444,
              "#bd3786"
             ],
             [
              0.5555555555555556,
              "#d8576b"
             ],
             [
              0.6666666666666666,
              "#ed7953"
             ],
             [
              0.7777777777777778,
              "#fb9f3a"
             ],
             [
              0.8888888888888888,
              "#fdca26"
             ],
             [
              1,
              "#f0f921"
             ]
            ],
            "type": "surface"
           }
          ],
          "table": [
           {
            "cells": {
             "fill": {
              "color": "#EBF0F8"
             },
             "line": {
              "color": "white"
             }
            },
            "header": {
             "fill": {
              "color": "#C8D4E3"
             },
             "line": {
              "color": "white"
             }
            },
            "type": "table"
           }
          ]
         },
         "layout": {
          "annotationdefaults": {
           "arrowcolor": "#2a3f5f",
           "arrowhead": 0,
           "arrowwidth": 1
          },
          "autotypenumbers": "strict",
          "coloraxis": {
           "colorbar": {
            "outlinewidth": 0,
            "ticks": ""
           }
          },
          "colorscale": {
           "diverging": [
            [
             0,
             "#8e0152"
            ],
            [
             0.1,
             "#c51b7d"
            ],
            [
             0.2,
             "#de77ae"
            ],
            [
             0.3,
             "#f1b6da"
            ],
            [
             0.4,
             "#fde0ef"
            ],
            [
             0.5,
             "#f7f7f7"
            ],
            [
             0.6,
             "#e6f5d0"
            ],
            [
             0.7,
             "#b8e186"
            ],
            [
             0.8,
             "#7fbc41"
            ],
            [
             0.9,
             "#4d9221"
            ],
            [
             1,
             "#276419"
            ]
           ],
           "sequential": [
            [
             0,
             "#0d0887"
            ],
            [
             0.1111111111111111,
             "#46039f"
            ],
            [
             0.2222222222222222,
             "#7201a8"
            ],
            [
             0.3333333333333333,
             "#9c179e"
            ],
            [
             0.4444444444444444,
             "#bd3786"
            ],
            [
             0.5555555555555556,
             "#d8576b"
            ],
            [
             0.6666666666666666,
             "#ed7953"
            ],
            [
             0.7777777777777778,
             "#fb9f3a"
            ],
            [
             0.8888888888888888,
             "#fdca26"
            ],
            [
             1,
             "#f0f921"
            ]
           ],
           "sequentialminus": [
            [
             0,
             "#0d0887"
            ],
            [
             0.1111111111111111,
             "#46039f"
            ],
            [
             0.2222222222222222,
             "#7201a8"
            ],
            [
             0.3333333333333333,
             "#9c179e"
            ],
            [
             0.4444444444444444,
             "#bd3786"
            ],
            [
             0.5555555555555556,
             "#d8576b"
            ],
            [
             0.6666666666666666,
             "#ed7953"
            ],
            [
             0.7777777777777778,
             "#fb9f3a"
            ],
            [
             0.8888888888888888,
             "#fdca26"
            ],
            [
             1,
             "#f0f921"
            ]
           ]
          },
          "colorway": [
           "#636efa",
           "#EF553B",
           "#00cc96",
           "#ab63fa",
           "#FFA15A",
           "#19d3f3",
           "#FF6692",
           "#B6E880",
           "#FF97FF",
           "#FECB52"
          ],
          "font": {
           "color": "#2a3f5f"
          },
          "geo": {
           "bgcolor": "white",
           "lakecolor": "white",
           "landcolor": "#E5ECF6",
           "showlakes": true,
           "showland": true,
           "subunitcolor": "white"
          },
          "hoverlabel": {
           "align": "left"
          },
          "hovermode": "closest",
          "mapbox": {
           "style": "light"
          },
          "paper_bgcolor": "white",
          "plot_bgcolor": "#E5ECF6",
          "polar": {
           "angularaxis": {
            "gridcolor": "white",
            "linecolor": "white",
            "ticks": ""
           },
           "bgcolor": "#E5ECF6",
           "radialaxis": {
            "gridcolor": "white",
            "linecolor": "white",
            "ticks": ""
           }
          },
          "scene": {
           "xaxis": {
            "backgroundcolor": "#E5ECF6",
            "gridcolor": "white",
            "gridwidth": 2,
            "linecolor": "white",
            "showbackground": true,
            "ticks": "",
            "zerolinecolor": "white"
           },
           "yaxis": {
            "backgroundcolor": "#E5ECF6",
            "gridcolor": "white",
            "gridwidth": 2,
            "linecolor": "white",
            "showbackground": true,
            "ticks": "",
            "zerolinecolor": "white"
           },
           "zaxis": {
            "backgroundcolor": "#E5ECF6",
            "gridcolor": "white",
            "gridwidth": 2,
            "linecolor": "white",
            "showbackground": true,
            "ticks": "",
            "zerolinecolor": "white"
           }
          },
          "shapedefaults": {
           "line": {
            "color": "#2a3f5f"
           }
          },
          "ternary": {
           "aaxis": {
            "gridcolor": "white",
            "linecolor": "white",
            "ticks": ""
           },
           "baxis": {
            "gridcolor": "white",
            "linecolor": "white",
            "ticks": ""
           },
           "bgcolor": "#E5ECF6",
           "caxis": {
            "gridcolor": "white",
            "linecolor": "white",
            "ticks": ""
           }
          },
          "title": {
           "x": 0.05
          },
          "xaxis": {
           "automargin": true,
           "gridcolor": "white",
           "linecolor": "white",
           "ticks": "",
           "title": {
            "standoff": 15
           },
           "zerolinecolor": "white",
           "zerolinewidth": 2
          },
          "yaxis": {
           "automargin": true,
           "gridcolor": "white",
           "linecolor": "white",
           "ticks": "",
           "title": {
            "standoff": 15
           },
           "zerolinecolor": "white",
           "zerolinewidth": 2
          }
         }
        },
        "title": {
         "text": "Histogram of Node Degrees"
        },
        "xaxis": {
         "anchor": "y",
         "domain": [
          0,
          1
         ],
         "title": {
          "text": "Node Degree"
         }
        },
        "yaxis": {
         "anchor": "x",
         "domain": [
          0,
          1
         ],
         "title": {
          "text": "count"
         },
         "type": "log"
        }
       }
      }
     },
     "metadata": {},
     "output_type": "display_data"
    },
    {
     "name": "stdout",
     "output_type": "stream",
     "text": [
      "[-1]\n",
      "['new york city', 'coast guard', 'singapore', 'anthony fauci', 'toledo', 'eleventh circuit', 'minnesota', 'covid', 'bolsonaro', 'manhattan', 'nets', 'eric adams', 'biden', 'tim walz', 'new york', 'kyrie irving', 'white house', 'supreme court', 'madden', 'cia']\n"
     ]
    },
    {
     "data": {
      "application/vnd.plotly.v1+json": {
       "config": {
        "plotlyServerURL": "https://plot.ly"
       },
       "data": [
        {
         "coloraxis": "coloraxis",
         "hovertemplate": "x: %{x}<br>y: %{y}<br>Cosine Distance: %{z}<extra></extra>",
         "name": "0",
         "type": "heatmap",
         "x": [
          "new york city",
          "coast guard",
          "singapore",
          "anthony fauci",
          "toledo",
          "eleventh circuit",
          "minnesota",
          "covid",
          "bolsonaro",
          "manhattan",
          "nets",
          "eric adams",
          "biden",
          "tim walz",
          "new york",
          "kyrie irving",
          "white house",
          "supreme court",
          "madden",
          "cia"
         ],
         "xaxis": "x",
         "y": [
          "new york city",
          "coast guard",
          "singapore",
          "anthony fauci",
          "toledo",
          "eleventh circuit",
          "minnesota",
          "covid",
          "bolsonaro",
          "manhattan",
          "nets",
          "eric adams",
          "biden",
          "tim walz",
          "new york",
          "kyrie irving",
          "white house",
          "supreme court",
          "madden",
          "cia"
         ],
         "yaxis": "y",
         "z": [
          [
           -2.220446049250313e-16,
           0.5553212278339965,
           1.1030352332846145,
           0.16459269216172379,
           1.5543253879605152,
           0.784984684048539,
           0.5814612217810946,
           0.012922807294111771,
           1.4870051319307682,
           0.31723769516902556,
           1.3241076147181645,
           1.9951130399030204,
           0.34375324396597784,
           1.640150789976388,
           0.6136331265665695,
           1.220824271986343,
           1.0709517908108013,
           0.6719905862424209,
           0.7262353953292066,
           1.1756065872727226
          ],
          [
           0.5553212278339965,
           0,
           1.4827710474408278,
           0.6810631147948987,
           0.6005778845440883,
           1.2618089776805483,
           0.1719879675407584,
           0.5449340884493367,
           0.7749833814475031,
           1.3005572630356754,
           1.0730041500491583,
           1.4228943022674594,
           0.4539051220000354,
           1.8650336037097441,
           0.19141907323393437,
           1.0416735254832807,
           0.5077394115406283,
           0.6071955767011492,
           1.7001146117179085,
           1.206087087205612
          ],
          [
           1.1030352332846145,
           1.4827710474408278,
           -2.220446049250313e-16,
           0.5837390853668776,
           0.9344776375186032,
           1.6001457336725304,
           0.909141648860554,
           0.9724655435820392,
           1.8152728044556148,
           0.9846939537626653,
           0.18819496667506241,
           0.8246875893294956,
           1.8121143314246768,
           0.26016553246722507,
           0.8772588334855533,
           0.16437184434264474,
           1.978435296561302,
           0.38507370731396495,
           0.830512860947785,
           0.06786954184525695
          ],
          [
           0.16459269216172379,
           0.6810631147948987,
           0.5837390853668776,
           -2.220446049250313e-16,
           1.278305019909337,
           1.2840847936295805,
           0.3875162662462881,
           0.08942760804614713,
           1.8297673624935944,
           0.543495198191899,
           0.7602532304755725,
           1.7799909071181848,
           0.8504771603413096,
           1.2712118893976154,
           0.39780638962833714,
           0.6562974123783085,
           1.5351821547662352,
           0.24837419078770084,
           0.8750279102304828,
           0.6060183841428763
          ],
          [
           1.5543253879605152,
           0.6005778845440883,
           0.9344776375186032,
           1.278305019909337,
           -2.220446049250313e-16,
           1.7773605477082721,
           0.483372746346318,
           1.468004917271253,
           0.6741064046315718,
           1.9815872899471132,
           0.3713504174806761,
           0.3925834712173071,
           1.4495615396626038,
           0.9409068564721029,
           0.4573082801605872,
           0.4276449307963578,
           0.8747231777684752,
           0.6075363704919639,
           1.933259418577825,
           0.6009551992695307
          ],
          [
           0.784984684048539,
           1.2618089776805483,
           1.6001457336725304,
           1.2840847936295805,
           1.7773605477082721,
           0,
           1.6932646300830099,
           0.9368829936379212,
           0.6588116502582168,
           0.33373257317693783,
           1.9416464948017271,
           1.3085260161497116,
           0.3490241571835354,
           1.2469770127868938,
           1.7244050340274888,
           1.940200561291711,
           0.5283480627704005,
           1.8448812528109904,
           0.317983572656114,
           1.8489508968634412
          ],
          [
           0.5814612217810946,
           0.1719879675407584,
           0.909141648860554,
           0.3875162662462881,
           0.483372746346318,
           1.6932646300830099,
           0,
           0.48512900626240774,
           1.2527305847041006,
           1.3542924451950995,
           0.5528383984514311,
           1.3470865364115245,
           0.9119079059201423,
           1.5020276742655558,
           0.0009760197688846173,
           0.5042251942586553,
           1.0613947862834041,
           0.16105506786759938,
           1.703843487733026,
           0.6325110782628873
          ],
          [
           0.012922807294111771,
           0.5449340884493367,
           0.9724655435820392,
           0.08942760804614713,
           1.468004917271253,
           0.9368829936379212,
           0.48512900626240774,
           -2.220446049250313e-16,
           1.5866288679637337,
           0.3829226842199195,
           1.1683858137600382,
           1.966527681578225,
           0.4584386642112511,
           1.5778292179742162,
           0.5122532567290994,
           1.061860235549085,
           1.1881681080077093,
           0.5273915688364694,
           0.792210833527278,
           1.020816130216959
          ],
          [
           1.4870051319307682,
           0.7749833814475031,
           1.8152728044556148,
           1.8297673624935944,
           0.6741064046315718,
           0.6588116502582168,
           1.2527305847041006,
           1.5866288679637337,
           0,
           1.4626079623526191,
           1.482642880512898,
           0.5739968702179219,
           0.6756155183282865,
           1.3052555805789183,
           1.261322319856521,
           1.5630294138413758,
           0.09455844137675595,
           1.6752350310251312,
           1.3778162575451198,
           1.687164174916172
          ],
          [
           0.31723769516902556,
           1.3005572630356754,
           0.9846939537626653,
           0.543495198191899,
           1.9815872899471132,
           0.33373257317693783,
           1.3542924451950995,
           0.3829226842199195,
           1.4626079623526191,
           -2.220446049250313e-16,
           1.5395529680496387,
           1.7212312412169588,
           0.5471206598821807,
           1.115901160973618,
           1.3807487864321664,
           1.4666311462746364,
           1.2160120018280696,
           1.215734005872055,
           0.1132010670897079,
           1.2970133621444315
          ],
          [
           1.3241076147181645,
           1.0730041500491583,
           0.18819496667506241,
           0.7602532304755725,
           0.3713504174806761,
           1.9416464948017271,
           0.5528383984514311,
           1.1683858137600382,
           1.482642880512898,
           1.5395529680496387,
           0,
           0.5849724183354332,
           1.8491869585207215,
           0.4548897541731417,
           0.5148333370444544,
           0.005934332923377639,
           1.6923114498497656,
           0.23266137657619335,
           1.4333846549392195,
           0.03622792319936807
          ],
          [
           1.9951130399030204,
           1.4228943022674594,
           0.8246875893294956,
           1.7799909071181848,
           0.3925834712173071,
           1.3085260161497116,
           1.3470865364115245,
           1.966527681578225,
           0.5739968702179219,
           1.7212312412169588,
           0.5849724183354332,
           -2.220446049250313e-16,
           1.7141366245520393,
           0.337424607595479,
           1.3123339646856795,
           0.6851627264739237,
           0.9943936048841525,
           1.2333725961163036,
           1.3202781324222554,
           0.7345965869305453
          ],
          [
           0.34375324396597784,
           0.4539051220000354,
           1.8121143314246768,
           0.8504771603413096,
           1.4495615396626038,
           0.3490241571835354,
           0.9119079059201423,
           0.4584386642112511,
           0.6756155183282865,
           0.5471206598821807,
           1.8491869585207215,
           1.7141366245520393,
           -2.220446049250313e-16,
           1.8925933761578468,
           0.9554340094025904,
           1.80741831373602,
           0.31562226725989406,
           1.3381497499652555,
           0.8792585039946508,
           1.8367616167324714
          ],
          [
           1.640150789976388,
           1.8650336037097441,
           0.26016553246722507,
           1.2712118893976154,
           0.9409068564721029,
           1.2469770127868938,
           1.5020276742655558,
           1.5778292179742162,
           1.3052555805789183,
           1.115901160973618,
           0.4548897541731417,
           0.337424607595479,
           1.8925933761578468,
           1.1102230246251565e-16,
           1.4654518245276555,
           0.4978218809574486,
           1.6670338693427649,
           1.0156917960022318,
           0.6997090298975026,
           0.39296677802904867
          ],
          [
           0.6136331265665695,
           0.19141907323393437,
           0.8772588334855533,
           0.39780638962833714,
           0.4573082801605872,
           1.7244050340274888,
           0.0009760197688846173,
           0.5122532567290994,
           1.261322319856521,
           1.3807487864321664,
           0.5148333370444544,
           1.3123339646856795,
           0.9554340094025904,
           1.4654518245276555,
           -2.220446049250313e-16,
           0.4685401247271177,
           1.086487286968909,
           0.1463168030330979,
           1.7159747564306977,
           0.5970793117392739
          ],
          [
           1.220824271986343,
           1.0416735254832807,
           0.16437184434264474,
           0.6562974123783085,
           0.4276449307963578,
           1.940200561291711,
           0.5042251942586553,
           1.061860235549085,
           1.5630294138413758,
           1.4666311462746364,
           0.005934332923377639,
           0.6851627264739237,
           1.80741831373602,
           0.4978218809574486,
           0.4685401247271177,
           0,
           1.7338872235197105,
           0.17563913205737758,
           1.3989748328763123,
           0.022242621250789685
          ],
          [
           1.0709517908108013,
           0.5077394115406283,
           1.978435296561302,
           1.5351821547662352,
           0.8747231777684752,
           0.5283480627704005,
           1.0613947862834041,
           1.1881681080077093,
           0.09455844137675595,
           1.2160120018280696,
           1.6923114498497656,
           0.9943936048841525,
           0.31562226725989406,
           1.6670338693427649,
           1.086487286968909,
           1.7338872235197105,
           4.440892098500626e-16,
           1.5921566183611042,
           1.3230429855934664,
           1.8581893769236648
          ],
          [
           0.6719905862424209,
           0.6071955767011492,
           0.38507370731396495,
           0.24837419078770084,
           0.6075363704919639,
           1.8448812528109904,
           0.16105506786759938,
           0.5273915688364694,
           1.6752350310251312,
           1.215734005872055,
           0.23266137657619335,
           1.2333725961163036,
           1.3381497499652555,
           1.0156917960022318,
           0.1463168030330979,
           0.17563913205737758,
           1.5921566183611042,
           0,
           1.4236940447673663,
           0.21691554255942336
          ],
          [
           0.7262353953292066,
           1.7001146117179085,
           0.830512860947785,
           0.8750279102304828,
           1.933259418577825,
           0.317983572656114,
           1.703843487733026,
           0.792210833527278,
           1.3778162575451198,
           0.1132010670897079,
           1.4333846549392195,
           1.3202781324222554,
           0.8792585039946508,
           0.6997090298975026,
           1.7159747564306977,
           1.3989748328763123,
           1.3230429855934664,
           1.4236940447673663,
           -2.220446049250313e-16,
           1.197788976031884
          ],
          [
           1.1756065872727226,
           1.206087087205612,
           0.06786954184525695,
           0.6060183841428763,
           0.6009551992695307,
           1.8489508968634412,
           0.6325110782628873,
           1.020816130216959,
           1.687164174916172,
           1.2970133621444315,
           0.03622792319936807,
           0.7345965869305453,
           1.8367616167324714,
           0.39296677802904867,
           0.5970793117392739,
           0.022242621250789685,
           1.8581893769236648,
           0.21691554255942336,
           1.197788976031884,
           2.220446049250313e-16
          ]
         ]
        }
       ],
       "layout": {
        "coloraxis": {
         "colorbar": {
          "title": {
           "text": "Cosine Distance"
          }
         },
         "colorscale": [
          [
           0,
           "#0d0887"
          ],
          [
           0.1111111111111111,
           "#46039f"
          ],
          [
           0.2222222222222222,
           "#7201a8"
          ],
          [
           0.3333333333333333,
           "#9c179e"
          ],
          [
           0.4444444444444444,
           "#bd3786"
          ],
          [
           0.5555555555555556,
           "#d8576b"
          ],
          [
           0.6666666666666666,
           "#ed7953"
          ],
          [
           0.7777777777777778,
           "#fb9f3a"
          ],
          [
           0.8888888888888888,
           "#fdca26"
          ],
          [
           1,
           "#f0f921"
          ]
         ]
        },
        "template": {
         "data": {
          "bar": [
           {
            "error_x": {
             "color": "#2a3f5f"
            },
            "error_y": {
             "color": "#2a3f5f"
            },
            "marker": {
             "line": {
              "color": "#E5ECF6",
              "width": 0.5
             },
             "pattern": {
              "fillmode": "overlay",
              "size": 10,
              "solidity": 0.2
             }
            },
            "type": "bar"
           }
          ],
          "barpolar": [
           {
            "marker": {
             "line": {
              "color": "#E5ECF6",
              "width": 0.5
             },
             "pattern": {
              "fillmode": "overlay",
              "size": 10,
              "solidity": 0.2
             }
            },
            "type": "barpolar"
           }
          ],
          "carpet": [
           {
            "aaxis": {
             "endlinecolor": "#2a3f5f",
             "gridcolor": "white",
             "linecolor": "white",
             "minorgridcolor": "white",
             "startlinecolor": "#2a3f5f"
            },
            "baxis": {
             "endlinecolor": "#2a3f5f",
             "gridcolor": "white",
             "linecolor": "white",
             "minorgridcolor": "white",
             "startlinecolor": "#2a3f5f"
            },
            "type": "carpet"
           }
          ],
          "choropleth": [
           {
            "colorbar": {
             "outlinewidth": 0,
             "ticks": ""
            },
            "type": "choropleth"
           }
          ],
          "contour": [
           {
            "colorbar": {
             "outlinewidth": 0,
             "ticks": ""
            },
            "colorscale": [
             [
              0,
              "#0d0887"
             ],
             [
              0.1111111111111111,
              "#46039f"
             ],
             [
              0.2222222222222222,
              "#7201a8"
             ],
             [
              0.3333333333333333,
              "#9c179e"
             ],
             [
              0.4444444444444444,
              "#bd3786"
             ],
             [
              0.5555555555555556,
              "#d8576b"
             ],
             [
              0.6666666666666666,
              "#ed7953"
             ],
             [
              0.7777777777777778,
              "#fb9f3a"
             ],
             [
              0.8888888888888888,
              "#fdca26"
             ],
             [
              1,
              "#f0f921"
             ]
            ],
            "type": "contour"
           }
          ],
          "contourcarpet": [
           {
            "colorbar": {
             "outlinewidth": 0,
             "ticks": ""
            },
            "type": "contourcarpet"
           }
          ],
          "heatmap": [
           {
            "colorbar": {
             "outlinewidth": 0,
             "ticks": ""
            },
            "colorscale": [
             [
              0,
              "#0d0887"
             ],
             [
              0.1111111111111111,
              "#46039f"
             ],
             [
              0.2222222222222222,
              "#7201a8"
             ],
             [
              0.3333333333333333,
              "#9c179e"
             ],
             [
              0.4444444444444444,
              "#bd3786"
             ],
             [
              0.5555555555555556,
              "#d8576b"
             ],
             [
              0.6666666666666666,
              "#ed7953"
             ],
             [
              0.7777777777777778,
              "#fb9f3a"
             ],
             [
              0.8888888888888888,
              "#fdca26"
             ],
             [
              1,
              "#f0f921"
             ]
            ],
            "type": "heatmap"
           }
          ],
          "heatmapgl": [
           {
            "colorbar": {
             "outlinewidth": 0,
             "ticks": ""
            },
            "colorscale": [
             [
              0,
              "#0d0887"
             ],
             [
              0.1111111111111111,
              "#46039f"
             ],
             [
              0.2222222222222222,
              "#7201a8"
             ],
             [
              0.3333333333333333,
              "#9c179e"
             ],
             [
              0.4444444444444444,
              "#bd3786"
             ],
             [
              0.5555555555555556,
              "#d8576b"
             ],
             [
              0.6666666666666666,
              "#ed7953"
             ],
             [
              0.7777777777777778,
              "#fb9f3a"
             ],
             [
              0.8888888888888888,
              "#fdca26"
             ],
             [
              1,
              "#f0f921"
             ]
            ],
            "type": "heatmapgl"
           }
          ],
          "histogram": [
           {
            "marker": {
             "pattern": {
              "fillmode": "overlay",
              "size": 10,
              "solidity": 0.2
             }
            },
            "type": "histogram"
           }
          ],
          "histogram2d": [
           {
            "colorbar": {
             "outlinewidth": 0,
             "ticks": ""
            },
            "colorscale": [
             [
              0,
              "#0d0887"
             ],
             [
              0.1111111111111111,
              "#46039f"
             ],
             [
              0.2222222222222222,
              "#7201a8"
             ],
             [
              0.3333333333333333,
              "#9c179e"
             ],
             [
              0.4444444444444444,
              "#bd3786"
             ],
             [
              0.5555555555555556,
              "#d8576b"
             ],
             [
              0.6666666666666666,
              "#ed7953"
             ],
             [
              0.7777777777777778,
              "#fb9f3a"
             ],
             [
              0.8888888888888888,
              "#fdca26"
             ],
             [
              1,
              "#f0f921"
             ]
            ],
            "type": "histogram2d"
           }
          ],
          "histogram2dcontour": [
           {
            "colorbar": {
             "outlinewidth": 0,
             "ticks": ""
            },
            "colorscale": [
             [
              0,
              "#0d0887"
             ],
             [
              0.1111111111111111,
              "#46039f"
             ],
             [
              0.2222222222222222,
              "#7201a8"
             ],
             [
              0.3333333333333333,
              "#9c179e"
             ],
             [
              0.4444444444444444,
              "#bd3786"
             ],
             [
              0.5555555555555556,
              "#d8576b"
             ],
             [
              0.6666666666666666,
              "#ed7953"
             ],
             [
              0.7777777777777778,
              "#fb9f3a"
             ],
             [
              0.8888888888888888,
              "#fdca26"
             ],
             [
              1,
              "#f0f921"
             ]
            ],
            "type": "histogram2dcontour"
           }
          ],
          "mesh3d": [
           {
            "colorbar": {
             "outlinewidth": 0,
             "ticks": ""
            },
            "type": "mesh3d"
           }
          ],
          "parcoords": [
           {
            "line": {
             "colorbar": {
              "outlinewidth": 0,
              "ticks": ""
             }
            },
            "type": "parcoords"
           }
          ],
          "pie": [
           {
            "automargin": true,
            "type": "pie"
           }
          ],
          "scatter": [
           {
            "fillpattern": {
             "fillmode": "overlay",
             "size": 10,
             "solidity": 0.2
            },
            "type": "scatter"
           }
          ],
          "scatter3d": [
           {
            "line": {
             "colorbar": {
              "outlinewidth": 0,
              "ticks": ""
             }
            },
            "marker": {
             "colorbar": {
              "outlinewidth": 0,
              "ticks": ""
             }
            },
            "type": "scatter3d"
           }
          ],
          "scattercarpet": [
           {
            "marker": {
             "colorbar": {
              "outlinewidth": 0,
              "ticks": ""
             }
            },
            "type": "scattercarpet"
           }
          ],
          "scattergeo": [
           {
            "marker": {
             "colorbar": {
              "outlinewidth": 0,
              "ticks": ""
             }
            },
            "type": "scattergeo"
           }
          ],
          "scattergl": [
           {
            "marker": {
             "colorbar": {
              "outlinewidth": 0,
              "ticks": ""
             }
            },
            "type": "scattergl"
           }
          ],
          "scattermapbox": [
           {
            "marker": {
             "colorbar": {
              "outlinewidth": 0,
              "ticks": ""
             }
            },
            "type": "scattermapbox"
           }
          ],
          "scatterpolar": [
           {
            "marker": {
             "colorbar": {
              "outlinewidth": 0,
              "ticks": ""
             }
            },
            "type": "scatterpolar"
           }
          ],
          "scatterpolargl": [
           {
            "marker": {
             "colorbar": {
              "outlinewidth": 0,
              "ticks": ""
             }
            },
            "type": "scatterpolargl"
           }
          ],
          "scatterternary": [
           {
            "marker": {
             "colorbar": {
              "outlinewidth": 0,
              "ticks": ""
             }
            },
            "type": "scatterternary"
           }
          ],
          "surface": [
           {
            "colorbar": {
             "outlinewidth": 0,
             "ticks": ""
            },
            "colorscale": [
             [
              0,
              "#0d0887"
             ],
             [
              0.1111111111111111,
              "#46039f"
             ],
             [
              0.2222222222222222,
              "#7201a8"
             ],
             [
              0.3333333333333333,
              "#9c179e"
             ],
             [
              0.4444444444444444,
              "#bd3786"
             ],
             [
              0.5555555555555556,
              "#d8576b"
             ],
             [
              0.6666666666666666,
              "#ed7953"
             ],
             [
              0.7777777777777778,
              "#fb9f3a"
             ],
             [
              0.8888888888888888,
              "#fdca26"
             ],
             [
              1,
              "#f0f921"
             ]
            ],
            "type": "surface"
           }
          ],
          "table": [
           {
            "cells": {
             "fill": {
              "color": "#EBF0F8"
             },
             "line": {
              "color": "white"
             }
            },
            "header": {
             "fill": {
              "color": "#C8D4E3"
             },
             "line": {
              "color": "white"
             }
            },
            "type": "table"
           }
          ]
         },
         "layout": {
          "annotationdefaults": {
           "arrowcolor": "#2a3f5f",
           "arrowhead": 0,
           "arrowwidth": 1
          },
          "autotypenumbers": "strict",
          "coloraxis": {
           "colorbar": {
            "outlinewidth": 0,
            "ticks": ""
           }
          },
          "colorscale": {
           "diverging": [
            [
             0,
             "#8e0152"
            ],
            [
             0.1,
             "#c51b7d"
            ],
            [
             0.2,
             "#de77ae"
            ],
            [
             0.3,
             "#f1b6da"
            ],
            [
             0.4,
             "#fde0ef"
            ],
            [
             0.5,
             "#f7f7f7"
            ],
            [
             0.6,
             "#e6f5d0"
            ],
            [
             0.7,
             "#b8e186"
            ],
            [
             0.8,
             "#7fbc41"
            ],
            [
             0.9,
             "#4d9221"
            ],
            [
             1,
             "#276419"
            ]
           ],
           "sequential": [
            [
             0,
             "#0d0887"
            ],
            [
             0.1111111111111111,
             "#46039f"
            ],
            [
             0.2222222222222222,
             "#7201a8"
            ],
            [
             0.3333333333333333,
             "#9c179e"
            ],
            [
             0.4444444444444444,
             "#bd3786"
            ],
            [
             0.5555555555555556,
             "#d8576b"
            ],
            [
             0.6666666666666666,
             "#ed7953"
            ],
            [
             0.7777777777777778,
             "#fb9f3a"
            ],
            [
             0.8888888888888888,
             "#fdca26"
            ],
            [
             1,
             "#f0f921"
            ]
           ],
           "sequentialminus": [
            [
             0,
             "#0d0887"
            ],
            [
             0.1111111111111111,
             "#46039f"
            ],
            [
             0.2222222222222222,
             "#7201a8"
            ],
            [
             0.3333333333333333,
             "#9c179e"
            ],
            [
             0.4444444444444444,
             "#bd3786"
            ],
            [
             0.5555555555555556,
             "#d8576b"
            ],
            [
             0.6666666666666666,
             "#ed7953"
            ],
            [
             0.7777777777777778,
             "#fb9f3a"
            ],
            [
             0.8888888888888888,
             "#fdca26"
            ],
            [
             1,
             "#f0f921"
            ]
           ]
          },
          "colorway": [
           "#636efa",
           "#EF553B",
           "#00cc96",
           "#ab63fa",
           "#FFA15A",
           "#19d3f3",
           "#FF6692",
           "#B6E880",
           "#FF97FF",
           "#FECB52"
          ],
          "font": {
           "color": "#2a3f5f"
          },
          "geo": {
           "bgcolor": "white",
           "lakecolor": "white",
           "landcolor": "#E5ECF6",
           "showlakes": true,
           "showland": true,
           "subunitcolor": "white"
          },
          "hoverlabel": {
           "align": "left"
          },
          "hovermode": "closest",
          "mapbox": {
           "style": "light"
          },
          "paper_bgcolor": "white",
          "plot_bgcolor": "#E5ECF6",
          "polar": {
           "angularaxis": {
            "gridcolor": "white",
            "linecolor": "white",
            "ticks": ""
           },
           "bgcolor": "#E5ECF6",
           "radialaxis": {
            "gridcolor": "white",
            "linecolor": "white",
            "ticks": ""
           }
          },
          "scene": {
           "xaxis": {
            "backgroundcolor": "#E5ECF6",
            "gridcolor": "white",
            "gridwidth": 2,
            "linecolor": "white",
            "showbackground": true,
            "ticks": "",
            "zerolinecolor": "white"
           },
           "yaxis": {
            "backgroundcolor": "#E5ECF6",
            "gridcolor": "white",
            "gridwidth": 2,
            "linecolor": "white",
            "showbackground": true,
            "ticks": "",
            "zerolinecolor": "white"
           },
           "zaxis": {
            "backgroundcolor": "#E5ECF6",
            "gridcolor": "white",
            "gridwidth": 2,
            "linecolor": "white",
            "showbackground": true,
            "ticks": "",
            "zerolinecolor": "white"
           }
          },
          "shapedefaults": {
           "line": {
            "color": "#2a3f5f"
           }
          },
          "ternary": {
           "aaxis": {
            "gridcolor": "white",
            "linecolor": "white",
            "ticks": ""
           },
           "baxis": {
            "gridcolor": "white",
            "linecolor": "white",
            "ticks": ""
           },
           "bgcolor": "#E5ECF6",
           "caxis": {
            "gridcolor": "white",
            "linecolor": "white",
            "ticks": ""
           }
          },
          "title": {
           "x": 0.05
          },
          "xaxis": {
           "automargin": true,
           "gridcolor": "white",
           "linecolor": "white",
           "ticks": "",
           "title": {
            "standoff": 15
           },
           "zerolinecolor": "white",
           "zerolinewidth": 2
          },
          "yaxis": {
           "automargin": true,
           "gridcolor": "white",
           "linecolor": "white",
           "ticks": "",
           "title": {
            "standoff": 15
           },
           "zerolinecolor": "white",
           "zerolinewidth": 2
          }
         }
        },
        "title": {
         "text": "Confusion Matrix: vaccine_hesitancy"
        },
        "xaxis": {
         "anchor": "y",
         "constrain": "domain",
         "domain": [
          0,
          1
         ],
         "nticks": 20,
         "scaleanchor": "y"
        },
        "yaxis": {
         "anchor": "x",
         "autorange": "reversed",
         "constrain": "domain",
         "domain": [
          0,
          1
         ],
         "nticks": 20
        }
       }
      }
     },
     "metadata": {},
     "output_type": "display_data"
    },
    {
     "data": {
      "text/plain": [
       "' \\nwrite_dir = \"images/networks_cluster_hdbscan/\"\\n#write_dir = \"output/cyto_pruned_networks/\"\\nfor n in infiles:\\n    print(n)\\n    fname = outdir + n + out_suffix + \".graphml\"\\n    #fname = indir + n + in_suffix\\n    #g = msg_passing.load_graph_csv(fname, clean_data=True)\\n    #msg_passing.save_graph(g, write_dir + n + \"_full.graphml\")\\n    g = msg_passing.load_graph_graphml(fname)\\n    pg, _ = msg_passing.prune_graph(g)\\n    #print(parse_data.compute_network_stats(g, include_diameter=False))\\n    top_nodes = 50#len(pg.nodes())\\n    fig = display.plot_confusion_matrix(pg, utils.get_top_n_nodes(pg, top_nodes), 2, title=n, show=False)\\n    fig.write_html(write_dir + n + \"_50_-1s.html\")\\n    #msg_passing.save_graph(pg, write_dir + n + \"_count.graphml\")\\n'"
      ]
     },
     "execution_count": 4,
     "metadata": {},
     "output_type": "execute_result"
    }
   ],
   "source": [
    "infiles = [\n",
    "    \"global_warming_network\",\n",
    "    \"gun_regulations_network\",\n",
    "    \"immigration_network\",\n",
    "    \"inflation_network\",\n",
    "    \"roe_v_wade_network\",\n",
    "    \"trump_impeachment_network\",\n",
    "    \"ukraine_war_network\",\n",
    "    \"vaccine_hesitancy_network\",\n",
    "    \"combined\"\n",
    "]\n",
    "\n",
    "infiles = [\n",
    "    \"gun_regulations\",\n",
    "    \"immigration\",\n",
    "    \"recession_fears\",\n",
    "    \"roe_v_wade\",\n",
    "    \"ukraine_war\",\n",
    "    \"vaccine_hesitancy\",\n",
    "]\n",
    "\n",
    "indir = \"input/Networks/\"\n",
    "\n",
    "#outdir = \"output/Incremental_Datasets_2/\"\n",
    "#outdir = \"output/archive/\"\n",
    "outdir = \"output/Networks_v1/\"\n",
    "outdir = \"output/random_edges/\"\n",
    "\n",
    "in_suffix = \"_network.csv\"\n",
    "\n",
    "#out_suffix = \"_random_walks_lr_10-3_30K_dc_095_pl_10_bs_10\"\n",
    "#out_suffix = \"_v3_random_walk_batch_10_path_10_50K_lr_3_dim_3\"\n",
    "out_suffix = \"_network_random_walks_lr_10-3_20K_dc_095_pl_{path_length}_bs_10\"\n",
    "out_suffix = \"_network_random_edge_baseline_random_walks_lr_10-3_20K_dc_095_pl_10_bs_10\" \n",
    "\n",
    "net = infiles[5] \n",
    "g, hist, diagnostic_hist = load_results(outdir, net + out_suffix)\n",
    "\n",
    "#print(hist.keys())\n",
    "#display.plot_history_with_reference(hist, \"anthony fauci\")\n",
    "#display.plot_top_n_cluster_evaluations(g, [20, 50, 100], 2, 10)\n",
    "#print(view_history(outdir, net + out_suffix))\n",
    "#plot_run(outdir, net + out_suffix, \"biden\")\n",
    "#_ = display.plot_edge_weight_histogram(g, log_scale=False)\n",
    "_ = display.plot_degree_histogram(g, log_scale=True)\n",
    "\n",
    "fig = display.plot_confusion_matrix(g, utils.get_top_n_nodes(g, 20), 2, title=net)\n",
    "#_ = display.plot_cos_dist_histogram(g, title=net)\n",
    "#fig.write_html(\"images/vaccine_heatmap.html\")\n",
    "\n",
    "\"\"\" \n",
    "write_dir = \"images/networks_cluster_hdbscan/\"\n",
    "#write_dir = \"output/cyto_pruned_networks/\"\n",
    "for n in infiles:\n",
    "    print(n)\n",
    "    fname = outdir + n + out_suffix + \".graphml\"\n",
    "    #fname = indir + n + in_suffix\n",
    "    #g = msg_passing.load_graph_csv(fname, clean_data=True)\n",
    "    #msg_passing.save_graph(g, write_dir + n + \"_full.graphml\")\n",
    "    g = msg_passing.load_graph_graphml(fname)\n",
    "    pg, _ = msg_passing.prune_graph(g)\n",
    "    #print(parse_data.compute_network_stats(g, include_diameter=False))\n",
    "    top_nodes = 50#len(pg.nodes())\n",
    "    fig = display.plot_confusion_matrix(pg, utils.get_top_n_nodes(pg, top_nodes), 2, title=n, show=False)\n",
    "    fig.write_html(write_dir + n + \"_50_-1s.html\")\n",
    "    #msg_passing.save_graph(pg, write_dir + n + \"_count.graphml\")\n",
    "\"\"\""
   ]
  },
  {
   "cell_type": "code",
   "execution_count": 4,
   "metadata": {},
   "outputs": [],
   "source": [
    "def get_shortest_path_network(g, nodes1, nodes2):\n",
    "    subgraph_nodes = set()\n",
    "    for n1 in nodes1:\n",
    "        for n2 in nodes2:\n",
    "            sps = list(nx.all_shortest_paths(g, n1, n2))\n",
    "            for sp in sps:\n",
    "                for n in sp:\n",
    "                    subgraph_nodes.add(n) \n",
    "    \n",
    "    return g.subgraph(subgraph_nodes)\n",
    "\n",
    "gf = \"output/Networks_v1/gun_regulations_network_random_walks_lr_10-3_20K_dc_095_pl_{path_length}_bs_10.graphml\"\n",
    "#gf = \"output/Networks_v1/roe_v_wade_network_random_walks_lr_10-3_20K_dc_095_pl_{path_length}_bs_10.graphml\"\n",
    "gf = \"output/Networks_v1/recession_fears_network_random_walks_lr_10-3_20K_dc_095_pl_{path_length}_bs_10.graphml\"\n",
    "g = msg_passing.load_graph_graphml(gf)\n",
    "pg, _ = msg_passing.prune_graph(g) \n",
    "n1 = [\"second amendment\", \"bruen\", \"greg abbott\", \"gerald smith\", \"iowa firearms coalition\", \"supreme court\"]\n",
    "#n2 = [\"second amendment foundation\", \"adam kraut\"]\n",
    "n2 = [\"joe biden\", \"kamala harris\", \"a ban on assault weapons\", \"biden\", \"white house\"]\n",
    "#n1 = [\"donald trump\", \"white house\", \"supreme court\", \"clarence thomas\"]\n",
    "#n2 = [\"republican\", \"republicans\", \"gop\", \"arizona\", \"planned parenthood\", \"anti-abortion\"]\n",
    "n1 = [\"opec\", \"fox news\", \"saudis\"]\n",
    "n2 = [\"jerome powell\", \"joe biden\", \"janet yellen\"]\n",
    "\n",
    "sg = get_shortest_path_network(pg, n1, n2)\n",
    "write_dir = \"output/cyto_pruned_networks/\"\n",
    "outname = write_dir + \"recession_1.graphml\" \n",
    "msg_passing.save_graph(sg, outname)"
   ]
  },
  {
   "cell_type": "code",
   "execution_count": 13,
   "metadata": {},
   "outputs": [
    {
     "data": {
      "application/vnd.plotly.v1+json": {
       "config": {
        "plotlyServerURL": "https://plot.ly"
       },
       "data": [
        {
         "alignmentgroup": "True",
         "bingroup": "x",
         "hovertemplate": "Pairwise Cosine Distances=%{x}<br>count=%{y}<extra></extra>",
         "legendgroup": "",
         "marker": {
          "color": "#636efa",
          "pattern": {
           "shape": ""
          }
         },
         "name": "",
         "offsetgroup": "",
         "orientation": "v",
         "showlegend": false,
         "type": "histogram",
         "x": [
          1.7994576498628387,
          0.6364228564695011,
          1.172057359017862,
          0.013167269184248598,
          0.13432066352209948,
          1.7158451083987778,
          1.7158451083987778,
          0.1555217970620043,
          0.18346741166026126,
          0.41552246195557696,
          0.6553714978822508,
          0.2482403820915945,
          1.184365054743489,
          1.6854173789408526,
          0.4371662751173424,
          0.3687765995075504,
          1.6770428564671043,
          1.7353574653033546,
          0.8299047019896928,
          0.2598421900323098,
          0.09782709844318238,
          0.15441181157996642,
          0.12463252726228091,
          1.1671243359919217,
          1.6970915839062788,
          0.24856093578351668,
          0.24856093578351668,
          0.5176178372464244,
          0.8165486389367044,
          0.033772256744497464,
          0.6655442071996757,
          0.7138275319468037,
          0.23271967266368132,
          0.622920345118126,
          0.622920345118126,
          0.26997117032118667,
          0.6166377521663411,
          0.0017816645501833595,
          1.7370453466128646,
          1.9674860768889113,
          0.011255498579978984,
          1.9984060533272014,
          0.1342253029005357,
          1.9836604377697693,
          0.052012177099798995,
          0.027805757638551754,
          1.797015656519633,
          0.05808090885472661,
          1.965167477576812,
          1.9915915127864212,
          1.7340243441402547,
          0.0006904236174674061,
          1.7695871661803815,
          0.00025454607084096637,
          1.9757634943275244,
          1.6221495214055792,
          1.6221495214055792,
          0.02205198942711517,
          1.7299381902814817,
          0.2624796288158273,
          1.9983885236183596,
          0.17753259686091172,
          0.6626081638835412,
          1.8000057325248089,
          0.07307014718524585,
          0.19851629196390275,
          0.011659721636490539,
          1.9929994363546903,
          0.0011176361298286253,
          1.946075114260022,
          0.26222098090757917,
          1.1322614220411535,
          0.19119554391694993,
          1.9871859403828611,
          0.21792169521796978,
          1.9413607318164825,
          0.0009572273930876785,
          1.577684359544993,
          0.26847860595655537,
          0.2183392527691167,
          0.30225031015590464,
          1.9959508631878697,
          0.0004181522296526907,
          0.31018388117876705,
          0.14524098065365565,
          1.9783498773523809,
          1.9373314767464043,
          1.9969306076663902,
          1.996741731264979,
          1.7874019741520868,
          0.6577845884276545,
          0.6577845884276545,
          1.4971144935447098,
          0.4099903376954547,
          1.463149910629714,
          0.1778686466147391,
          0.00013995116277454311,
          0.042854293216868955,
          0.004748987128683435,
          0.007769167256360454,
          0.019454470507201838,
          0.12366578363074732,
          0.7057783298791791,
          1.8909349226622596,
          0.053932222593113144,
          0.006942649971587667,
          0.09994372515302197,
          0.4125797029435623,
          0.10016756849059893,
          0.10016756849059893,
          0.3230666302635119,
          0.4656434726409875,
          1.6266285004765377,
          1.8443711961085572,
          0.38225932477897273,
          1.835974020148608,
          0.08305602803131484,
          0.40854039800590036,
          0.015308601752719087,
          0.08537891193175251,
          0.05643816997056583,
          0.2481573950133249,
          0.026634743978561803,
          1.6498609496879615,
          1.386072411207734,
          0.20361957152851562,
          0.20361957152851562,
          0.14881318940247867,
          1.9028862923751653,
          0.23979546797800644,
          0.05595771273759398,
          0.39430310506980926,
          1.6931281838867025,
          0.09098324860892859,
          0.09098324860892859,
          0.09098324860892859,
          0.23360814026500232,
          0.07100034685372658,
          0.12242643489955274,
          0.12903652291188994,
          0.029922509800874963,
          0.12101505666178247,
          1.9351516009639937,
          1.168577237018859,
          0.17145671694339004,
          0.17145671694339004,
          0.3168185724760634,
          1.1385875306473427,
          0.04565391438792199,
          0.32242581975164086,
          0.13256138852075694,
          0.32546134076718625,
          1.607014142146194,
          1.823183239655631,
          0.16453769247312577,
          1.3019790681043817,
          1.3019790681043817,
          1.1983907335722748,
          0.10023127119065711,
          0.10023127119065711,
          1.9674377696213883,
          0.5724590694771013,
          0.08984644973772316,
          0.05719658658254678,
          1.729568358471135,
          1.3962014838211587,
          0.02512798520308901,
          1.8524202796882574,
          0.03527049957082928,
          0.08863755068284596,
          0.7868331382935627,
          0.6432625219871092,
          0.006335778685536586,
          0.6270563303919647,
          1.2727121444528295,
          1.0970180329107189,
          1.4912181526616575,
          1.4912181526616575,
          0.8573000671383235,
          1.8556544362523935,
          0.002540084025493883,
          1.8369598282527346,
          0.6833169919151421,
          1.4713350419855766,
          0.3733746550225636,
          0.6290317991272043,
          0.15017417980832326,
          1.8439600461846577,
          1.7739328509319998,
          1.990656080456581,
          0.15260445822849955,
          0.11199126552048799,
          0.6608167246490935,
          0.3356048572215673,
          0.03004099499266788,
          0.9079692211744347,
          0.13406040330314384,
          0.49988180408445704,
          0.1573593727732594,
          1.3085874631088927,
          1.3085874631088927,
          1.3085874631088927,
          0.3914633946280225,
          0.07592220127518168,
          0.766564816528133,
          0.45205102553213694,
          0.006400392817950795,
          0.31174104173570094,
          0.23379759017422308,
          0.008410178459135054,
          0.015420329643653252,
          0.11109164775090619,
          0.11109164775090619,
          0.047618838459166035,
          1.7382890218787077,
          1.7382890218787077,
          0.2340427356537187,
          1.9977028460770287,
          0.0004968788534434054,
          0.04537971932741591,
          1.540067063338903,
          0.4738964119406127,
          0.4738964119406127,
          1.8604986303515818,
          1.336144513787793,
          1.6556086475655931,
          1.3143876692986372,
          0.27335771142662824,
          0.1907256761122036,
          1.7182337977067768,
          0.5825540624527041,
          1.9637350767234838,
          1.9718441690449788,
          0.007863153693072777,
          0.9712602519908096,
          0.00400787111304135,
          0.1435922346543379,
          0.0035120339309966386,
          0.020036041163526752,
          1.9641699908276928,
          1.704068239347099,
          0.553355504814792,
          0.14182707908616632,
          0.005638397740953982,
          0.017313470098781814,
          1.7152734286394349,
          1.8386401858008539,
          1.6577951932469226,
          0.0029269474137623153,
          0.7092661672727212,
          1.9743287170033397,
          0.008033698052249072,
          0.01781082015974711,
          1.9460954184587052,
          0.3147359590673894,
          0.018423973850970388,
          1.7877832863499485,
          0.004747088727196758,
          1.8498798632440414,
          0.01407020037351292,
          0.0011890851932153668,
          1.6200164105315644,
          0.12061184464831276,
          0.10821720752733921,
          0.08992510006676402,
          0.19589952489599716,
          0.1861797579780633,
          1.4401397379547318,
          1.5369692089429718,
          1.9835084263968328,
          0.08575971647987124,
          0.8634559139542818,
          0.03378743466250489,
          0.9858187337399452,
          0.8881771409584651,
          1.5162314452645769,
          0.17158823558387004,
          0.17158823558387004,
          1.962386624303028,
          1.962386624303028,
          0.07280739962153637,
          0.22784224201954228,
          0.28930270445111417,
          0.25945696418767583,
          0.5256559980761424,
          0.7459032444246378,
          0.012896764872279531,
          0.23738487929668095,
          0.23738487929668095,
          0.23738487929668095,
          0.13324943058985417,
          1.9616756429078421,
          1.9616756429078421,
          0.20063674675756105,
          0.8001631139162539,
          1.991962571508781,
          1.9530533277690991,
          0.00922372840351926,
          0.029074442319293237,
          1.38866113190099,
          1.9178790497638745,
          1.998976050780483,
          0.2647756809242976,
          0.026619792851107604,
          0.9284594763362894,
          0.9284594763362894,
          0.08749602723631456,
          0.055582256579337574,
          1.8913799637250388,
          0.006371947745585027,
          1.9741482065159923,
          0.014391994365846705,
          0.2793241169606777,
          0.015238789760693816,
          0.2168996770661764,
          0.3984741365943184,
          1.0198312506741303,
          1.9628745269289285,
          0.0003079739087359368,
          0.051958917877882094,
          0.051958917877882094,
          0.06178339942750266,
          0.004656191434072476,
          0.6139996677132586,
          0.6139996677132586,
          0.008496130443505612,
          0.3509428572806226,
          0.11297809861405139,
          0.3106537823532747,
          0.3106537823532747,
          0.16194469878093143,
          0.16194469878093143,
          1.9871317002065882,
          0.19326130311061962,
          0.1581053205436318,
          0.0908943533043658,
          0.12295159327152794,
          0.12295159327152794,
          0.02766023298556841,
          1.5329381242821911,
          1.9271672852175157,
          0.005798871943142325,
          0.30864924713062736,
          0.09484757686605882,
          0.323569167602364,
          1.9780475636163517,
          1.9077485923031987,
          0.38820398414685175,
          0.11411201135782056,
          0.20748590027305847,
          0.014105726429812893,
          1.9872071640990887,
          0.5487681706808647,
          0.4480008499761228,
          1.405733449422542,
          1.405733449422542,
          0.01958569687497347,
          0.008430508390051772,
          0.11011062503454638,
          0.1621951409165706,
          0.014976375309939893,
          1.5804334567903842,
          1.9975613937550558,
          0.53143516157428,
          1.624996865569558,
          0.7032702791884969,
          0.5373676055951182,
          0.29653954404701477,
          0.29653954404701477,
          1.423850374020852,
          0.08978768559217787,
          0.2580100302011318,
          0.22349904241180996,
          0.3330868568377344,
          1.3204770277863502,
          1.3204770277863502,
          1.3204770277863502,
          0.43753283654963604,
          0.5469634246357982,
          0.36618806419662,
          0.2295015178821136,
          0.4317043472638076,
          0.5079511376306954,
          0.4362891907363815,
          1.7533480387650637,
          0.7027952602920042,
          1.970907563614753,
          0.2914409418815679,
          0.10568261686321556,
          0.08880335169997966,
          0.27918214438400923,
          0.7625417100918951,
          0.006822651858262807,
          0.006822651858262807,
          1.9189930383888931,
          0.19191935435499008,
          1.818596079775244,
          0.2745250717502673,
          1.346411824063243,
          0.779964002418098,
          1.4150952184850674,
          0.722867329984708,
          1.0321972786121352,
          0.13204201393373205,
          0.3522684344340521,
          0.5146741447487487,
          0.05125608726038311,
          0.17217481855934524,
          0.85341677496838,
          0.5696716138306607,
          0.5696716138306607,
          1.728041034762358,
          1.6330073957186768,
          1.6330073957186768,
          1.6330073957186768,
          0.9593339435153423,
          0.038818316788995944,
          1.1314444747509764,
          1.4679092564114036,
          1.4679092564114036,
          0.09775891719118412,
          0.09775891719118412,
          0.009293269807777005,
          0.009293269807777005,
          0.088420486895738,
          0.0012324523001181475,
          1.5670446907198525,
          0.9866052435774655,
          1.1439069430455602,
          0.5678513007773058,
          0.04675371636503178,
          0.155370502597036,
          0.014093200485902013,
          0.014093200485902013,
          0.07404814477258848,
          0.1079008886343491,
          0.034940709541313786,
          1.9387314568360627,
          1.8027613629282053,
          0.01643262090217723,
          0.026130146390281217,
          1.4293873214468473,
          1.1155579964869533,
          0.016727464791496338,
          0.4137814268179195,
          1.9983784183366868,
          0.7076021760742436,
          0.009688008826006067,
          1.9053170206649455,
          0.11779643253287331,
          0.0021396355256730892,
          0.009476413908146908,
          0.01693756930325163,
          0.11454337415078164,
          1.8517350311141767,
          0.4500682693132819,
          0.0409373559759586,
          1.5236067126948338,
          1.9861185219439077,
          0.3971545709021854,
          1.9659230349556371,
          1.574780449096846,
          0.17115664250212403,
          0.25320045814678005,
          0.01413626788309652,
          1.9699835003776962,
          1.8292521291642168,
          0.639510428254722,
          1.8018696519512796,
          0.048075565465039216,
          0.014363039187099913,
          0.0004891415672652055,
          1.9465013857364923,
          0.029358696850573907,
          1.9700170329023035,
          1.1717933935926481,
          0.9287356095961762,
          1.605208739906522,
          1.9290666822872378,
          1.9330406164131158,
          0.27668648015171093,
          0.39171581012715784,
          1.170415112491499,
          0.2706115077585035,
          0.259672710130869,
          0.3169210517738864,
          0.045474648976898346,
          0.045474648976898346,
          0.3449540309482665,
          0.302397201187825,
          0.10641580649204851,
          1.0895141811690279,
          1.0895141811690279,
          0.9293947203615198,
          0.47455061198585735,
          1.1394558640695598,
          1.7008963456693225,
          0.2353071918995222,
          0.25507549693014586,
          1.5270462202906945,
          1.44892139758504,
          0.7663821333387999,
          0.20602740988853518,
          1.6551452742765458,
          1.1990964810286397,
          1.0444779836063895,
          1.4642041217906745,
          0.05910590355941703,
          0.019558427470377504,
          0.30909052281674,
          0.015909616966136575,
          1.9180178291898575,
          0.011485465388060945,
          0.5641088394215914,
          1.8277381803377444,
          0.2983290142795316,
          0.9037322523421114,
          1.7393243008630528,
          1.7393243008630528,
          0.5302276618407757,
          0.5302276618407757,
          0.20300705712356215,
          0.1194037036734894,
          0.1194037036734894,
          0.5266000420756354,
          0.2543013494477703,
          1.860231488666458,
          0.5344375276429533,
          0.8911759603180722,
          0.2573589152358021,
          1.8816264326416705,
          1.6628927268765896,
          0.2802125999761016,
          0.3391774890207082,
          0.013004538099866014,
          0.033802635872507425,
          0.19080394602327488,
          0.12192387525467607,
          1.7940132232300305,
          0.06435565112249952,
          0.23490262616315005,
          0.13378105050350442,
          1.2717856796699236,
          0.0558239979445081,
          0.0558239979445081,
          0.06738017540215613,
          0.04464780364528964,
          0.3703252005357718,
          1.8819220236357221,
          0.4480757065231331,
          0.22910652547791432,
          0.24321256111484457,
          1.651804281487685,
          1.9995754851071412,
          1.9345669309301243,
          1.9519060844122569,
          0.027478578284332533,
          0.027478578284332533,
          1.992637388588923,
          0.005114426730607358,
          0.01252493007682054,
          0.027548131738214465,
          0.034808039242290145,
          0.013310745507446597,
          0.01293601146121115,
          0.5904896843798912,
          1.037831408356286,
          1.2159732869734567,
          0.011407042999598827,
          1.9766834245668217,
          0.0060653036454220155,
          0.32657058943986506,
          0.18372240427472897,
          0.1426102591714965,
          0.17818890504450857,
          0.49961772361590695,
          0.5824121498254544,
          0.2641700840932274,
          0.2641700840932274,
          0.016496791220117712,
          1.2184035252449006,
          0.17804088377275618,
          0.02096999174513181,
          0.21498638288079275,
          0.6477419018666233,
          1.67376935293519,
          1.7747897809346798,
          1.7747897809346798,
          0.02751186275575812,
          1.5026833151403436,
          1.7216645533707287,
          0.16868919689579887,
          0.21674182528756225,
          0.06400264102972741,
          0.00799781506715802,
          0.09347607322447193,
          0.4928658994571008,
          1.0374090755698095,
          0.09823354425523267,
          0.1327294357112061,
          0.022896241519496208,
          1.9265082968748826,
          0.7068693647842017,
          0.20135882356910173,
          0.20135882356910173,
          0.010341852919187544,
          0.37903342236383797,
          0.07262294018540016,
          0.07652444032577232,
          0.278309192118931,
          0.6731808246613626,
          0.0797955024026844,
          0.6861653399734615,
          1.945896268331913,
          1.9967581397302687,
          0.7956351972322585,
          0.5952873160621235,
          0.5952873160621235,
          0.5295605623908575,
          0.050337930239714224,
          0.13772368233261012,
          1.9381359287846032,
          1.8402260389501959,
          1.8562511353652988,
          1.980764628423478,
          0.07425197104522063,
          0.15305034574746068,
          0.044940683275349946,
          1.9288145610335978,
          0.0017293929563665378,
          0.018081134966065338,
          0.4065969563929761,
          0.4065969563929761,
          1.121960605970668,
          1.121960605970668,
          0.9490822294780787,
          1.5916177278590324,
          0.31970505120650017,
          0.3095488634220799,
          1.7299851819000769,
          0.5753855390439357,
          0.8570491942468055,
          1.0087964206062743,
          0.6821008300599498,
          0.05551643452445609,
          0.05551643452445609,
          0.0739052421756885,
          0.07479740554714487,
          0.005856036821223487,
          0.18196169161156628,
          0.18093305024978756,
          0.6565766018077763,
          0.8348357748587313,
          1.6735850910585806,
          1.3904499069339267,
          1.3904499069339267,
          0.16528801287635952,
          0.02765378625518433,
          0.1314887884798268,
          0.08383633149334302,
          0.031150856273666316,
          0.12825987347532242,
          1.2604602789548365,
          1.99029402643415,
          0.5214202490994233,
          0.5214202490994233,
          0.5266209825334034,
          0.07150846080131279,
          1.1712736027019732,
          0.0008039340504157888,
          0.002297659966253751,
          0.6935169747155409,
          0.12474912512507319,
          0.17485452495664078,
          0.17485452495664078,
          1.0360050819453603,
          0.5655389070419868,
          0.0757350432839673,
          0.0023503998809493165,
          0.0023503998809493165,
          0.10046560944064697,
          1.9774099553200508,
          0.013008140760830122,
          0.1668943030764125,
          0.10834707599885274,
          1.1619613873510737,
          0.005823170579070336,
          0.005823170579070336,
          0.003516803475283825,
          0.1451724309643183,
          1.4298384425821165,
          0.06776975330439239,
          0.7186389955830548,
          0.10093484232641936,
          0.03145963095957005,
          0.06062661101538325,
          0.052122102190920616,
          0.0868957554267964,
          1.2020021024877516,
          0.011277449360848069,
          0.016181079629516093,
          1.28106128556372,
          1.1590877074475556,
          1.1590877074475556,
          0.6774350411967351,
          0.16652936857225453,
          0.0027734779615191663,
          0.29816135381136877,
          0.7310939517958059,
          0.984638788675063,
          0.3753192220069381,
          1.8211130810351854,
          0.5223575242587609,
          1.5011326748971046,
          0.2743110790533624,
          0.1369751525984778,
          0.05836954088004109,
          0.84258479615622,
          1.993946990001259,
          0.16363262276066126,
          0.041469372648932135,
          0.39527130626154716,
          0.15240003959329518,
          0.383955198801214,
          1.0248771442703417,
          0.3664455629870986,
          0.1852581286961733,
          0.16280535205370006,
          0.24874703613721472,
          0.11606836371302875,
          0.2693296996102871,
          1.8840630379699057,
          1.107710286854038,
          1.7108074124707893,
          1.5441207783606632,
          0.02215878328801235,
          0.1605391885806733,
          0.13102994341392815,
          0.05413154025026823,
          0.03740016964870252,
          0.585454077811181,
          0.358803536346359,
          0.32386490439316107,
          0.6604182645476566,
          0.5456239374581819,
          0.017732239631243485,
          0.008923460098587799,
          0.033650099777087106,
          0.9043139173396992,
          0.9043139173396992,
          0.0011195553638072564,
          1.9941686764444908,
          0.3864660288755064,
          1.991406678307793,
          0.0015293070218920235,
          0.07769912767331966,
          0.020383183144830896,
          0.013274536597171371,
          0.013274536597171371,
          1.9897768348705498,
          1.9901908641293118,
          0.007046220956847815,
          1.9431932269396683,
          1.996595826023334,
          1.9964243849005734,
          0.6344498093481912,
          0.06809395992814415,
          0.06809395992814415,
          0.06809395992814415,
          0.05921386411060625,
          1.9998721274569529,
          0.00009192114780276484,
          1.9996941434656959,
          0.05696310114572878,
          0.01422437289999734,
          1.578049230887171,
          0.000007655855022492553,
          0.011829181093496288,
          0.09272943750515428,
          0.1159837638206761,
          0.04427112629564223,
          1.2059749914165154,
          0.9843246072166223,
          0.8161770889792869,
          0.2695730659398632,
          0.14102604810934438,
          0.17595869229593775,
          0.10919799089372662,
          0.10919799089372662,
          0.1544162517774028,
          1.8180243489778314,
          1.8045149219855618,
          0.12397743280041729,
          0.4094262911990494,
          0.3577445624598017,
          1.0846911172650735,
          0.08195905622738797,
          0.08195905622738797,
          0.9339577481086624,
          0.9339577481086624,
          0.670818109067177,
          0.1737174922431426,
          0.1737174922431426,
          1.1038737643219747,
          0.08700119631671588,
          1.9607023757725177,
          0.14262745976766134,
          1.105415323254087,
          0.18397354211223182,
          0.18397354211223182,
          0.18397354211223182,
          0.0010731509817851759,
          0.06631176195763122,
          0.05615550273801273,
          0.05615550273801273,
          0.06291973983085786,
          0.3414258264800013,
          0.0466540780980913,
          0.3453914164444606,
          0.005554511751768132,
          0.001623046914034032,
          0.008207861188904375,
          0.0721710729695767,
          0.2129605097603744,
          0.035296395154221116,
          0.035296395154221116,
          0.4550799257920295,
          0.0022665084281877634,
          0.0022665084281877634,
          0.3021601285266651,
          0.2653547880674757,
          0.06731891665332945,
          0.0057019495402430564,
          0.0057019495402430564,
          1.931279329914442,
          1.931279329914442,
          0.9074171781717689,
          0.44003803365721106,
          0.90331922493967,
          0.12504620307291014,
          0.12504620307291014,
          0.8974406213571289,
          0.07221558085618474,
          0.4312908775826444,
          0.012518694296701383,
          0.012518694296701383,
          0.43243485404356385,
          0.003963441581813054,
          0.011590886573027093,
          0.07999011111968823,
          0.6945181338294971,
          0.0031232383392043594,
          1.9747384858507102,
          1.9747384858507102,
          1.9747384858507102,
          0.21586619162743192,
          0.21586619162743192,
          0.02970384388285119,
          0.04763519133220995,
          0.08640440774391833,
          0.06940220801889019,
          0.5442357425081015,
          0.15241489940725683,
          0.021328872369426155,
          0.6524777991171398,
          0.29532392256854845,
          0.5633684792301021,
          0.11413911441871538,
          1.744576823816136,
          1.9027823553735232,
          0.05545333632086302,
          1.3028068234706307,
          0.017378945041830907,
          1.9826289160557273,
          0.5597636254617633,
          0.24303917338497205,
          0.5584617449549516,
          0.03325998698309618,
          0.050417147450760647,
          0.07031339221048338,
          0.002203742582633117,
          1.9082107892979467,
          1.9082107892979467,
          0.2629805412834596,
          0.2629805412834596,
          0.0817201021473487,
          0.0032512091528883458,
          0.00002063609249947085,
          0.41124871053346534,
          1.6650451565528839,
          0.16702105498951347,
          0.173143143115421,
          0.00537201410243715,
          0.06276558833248436,
          0.004744310949557962,
          0.001992788111054855,
          0.001992788111054855,
          0.0013596138664315749,
          1.9696296854372521,
          1.9696296854372521,
          1.9696296854372521,
          0.0004896633807907058,
          1.997537058489487,
          1.9876043615751122,
          0.05662905981157418,
          1.6887622421739865,
          0.009182931981814302,
          0.16513061494009085,
          0.03836433325727795,
          0.01927506963633574,
          0.008917239189207837,
          1.1557453160658202,
          0.007286890726321049,
          1.8168547130299513,
          0.060423154429029236,
          0.009122275330647911,
          0.011034635176045526,
          1.9914918323185242,
          1.8030204110763295,
          1.6287604909581783,
          1.9917664705064673,
          1.945281789931308,
          1.877692577242098,
          1.5976549318064723,
          0.014225001765448608,
          0.816247229179155,
          0.48336405600154075,
          0.22436672949688685,
          0.35051962378649004,
          0.002305733916538766,
          0.03634678102621369,
          0.0007857926119625436,
          1.6700510796353338,
          1.996458893477266,
          0.017452608025476768,
          1.7793027201688574,
          1.920575392308152,
          1.782005002499353,
          1.948074523794221,
          1.1034643345121546,
          0.1682888942065881,
          0.05459584803014805,
          0.12476609167567954,
          0.011640532470257647,
          0.22675843054316536,
          1.9550889974477288,
          0.32845010625055204,
          0.40158632782520975,
          0.37620404213550396,
          0.10492747527993285,
          0.3374424152337855,
          0.09075327975553704,
          1.683360565479936,
          0.014796432130300685,
          0.06889282720355439,
          0.015763560466216076,
          0.006679302041791124,
          1.9785637179968572,
          0.012721449105719929,
          0.0023260858266747064,
          0.09063224349529453,
          1.9610519923160379,
          0.6162230545141613,
          0.08062703024605788,
          0.011232151452542194,
          0.01923549436761074,
          0.10153361005397443,
          1.3094751803618667,
          1.3094751803618667,
          1.3094751803618667,
          0.36538526765095825,
          1.9113264097475322,
          0.7412505780248252,
          1.474705068875625,
          0.030073840637511173,
          1.79844104421786,
          1.79844104421786,
          0.17180006441183038,
          0.00018780105250937318,
          0.00018780105250937318,
          0.00009253906796868883,
          0.00029841554306386797,
          0.18407333239726076,
          0.004119193236945873,
          0.04949042578363483,
          0.06423938729962941,
          0.00024035100173203094,
          0.05631123033992991,
          1.3687339669017105,
          0.017797482762341055,
          0.012943320108897982,
          0.3907004137508693,
          0.3907004137508693,
          0.18390792440089831,
          1.4072709255711988,
          1.2250237017119474,
          0.05089146232034103,
          1.14607479143932,
          0.057911820013953896,
          0.015508777596286438,
          0.013370842126356308,
          0.04213623106621478,
          0.9785714843624205,
          1.7790916822476595,
          0.0856925816726195,
          0.2267201151922016,
          0.49279341959100154,
          0.3768141036797744,
          0.08479395343389462,
          0.07463359365217748,
          0.01902559972868678,
          0.01902559972868678,
          1.9981504772620478,
          1.9964198055896736,
          1.9861787665636146,
          1.9975255859107972,
          0.1167595152416796,
          0.059674173305725,
          0.0055243015903458925,
          0.0007909605668231512,
          0.05572180043467434,
          0.05572180043467434,
          0.05572180043467434,
          1.9736114689449102,
          0.06800743372207263,
          0.07352350428308219,
          0.024816092927920752,
          0.044578505552704595,
          0.0013047171234741306,
          0.07240976818851252,
          0.003800659353741853,
          0.1699569395479653,
          0.00020199115517094413,
          0.0020993807472287074,
          0.21936003742018162,
          0.12818938529116897,
          0.2767654767987504,
          0.2525734521043793,
          1.1231777009181758,
          1.1231777009181758,
          0.301927194535927,
          0.301927194535927,
          0.31693182516363394,
          0.053495368124679255,
          0.05422486587412356,
          0.05422486587412356,
          0.6970599087943666,
          0.08246770096887868,
          1.6304226411039324,
          0.01801865926027668,
          0.0339807919131494,
          1.999481263054983,
          0.002463437440340166,
          0.03799815784484539,
          0.00006113062587687068,
          0.8586367720156712,
          0.8586367720156712,
          0.0258754662258035,
          1.9451119056654373,
          1.8631974653833998,
          0.24097187414124943,
          0.017625061620102023,
          0.000869367101620222,
          0.13371263408085432,
          1.9689214081595035,
          0.20276635086969108,
          0.08352326342657923,
          1.6630786815475478,
          0.5603423550633054,
          0.3200583280184861,
          0.02496090134733553,
          1.8508517569893381,
          0.1285293868914229,
          1.9406378615714284,
          0.4306556730118557,
          1.9703637443966524,
          0.02912458172241672,
          1.9221312429854274,
          1.9747260684346648,
          0.24317207083068926,
          1.6934801924205944,
          0.0070555948686815695,
          0.0070555948686815695,
          0.04464539609782048,
          0.015017696258910362,
          0.015017696258910362,
          0.00024508896234287647,
          0.011777180919914976,
          0.10304741166369613,
          0.10304741166369613,
          1.7550639015007286,
          1.9911836739296025,
          0.28044107103857097,
          0.006166508327570153,
          0.12665863170224578,
          0.36045585214185905,
          0.03385716736148148,
          0.000691260066221222,
          0.0006825348991035263,
          0.0010456157359262086,
          0.0006057480347596567,
          1.915888500084325,
          0.018146401218473107,
          0.2852040765093876,
          0.2852040765093876,
          0.0383774041566598,
          0.5833024944950124,
          0.006109607972382136,
          0.001991151550588044,
          0.09832716064108515,
          0.2300554922336625,
          0.2766502968717933,
          0.13788272175450467,
          0.0014797915375618365,
          0.0013924382442618288,
          0.0013924382442618288,
          1.9662391909795471,
          0.018051791574672515,
          0.018051791574672515,
          0.0002319090204327967,
          0.012253121392692412,
          0.012253121392692412,
          0.003504774137089939,
          0.0008713021435304835,
          1.992382811959183,
          0.003719986974228373,
          1.9989454599237066,
          0.06803823299255618,
          0.06803823299255618,
          0.6937004748291524,
          1.0939387177760236,
          0.20968346300284169,
          0.13261338762635566,
          0.0997297196154352,
          0.5039467795790297,
          0.5039467795790297,
          0.28811859417878516,
          1.5505284215112038,
          0.23264173431256174,
          0.5084586810582892,
          0.5084586810582892,
          1.9384993509158577,
          0.4722378095070745,
          1.6891838443790648,
          1.0826440634283114,
          1.0826440634283114,
          0.4352006346793643,
          0.5523513694081206,
          0.000331123066117045,
          0.007363011510687745,
          1.3080240080731627,
          1.3080240080731627,
          0.006585490248419812,
          1.459459381182722,
          1.945934329026966,
          1.923567575768713,
          0.00025557854218738463,
          0.00017297899416601759,
          0.09628600786261743,
          0.0015365979182055955,
          0.0009617559859452784,
          0.0015590785357049164,
          0.2183790863146149,
          0.0871243476518766,
          0.027427156145262144,
          0.80506305959235,
          0.04261469524410433,
          0.9681486661301895,
          0.027511921396981776,
          0.01678158269094976,
          0.11359072805891535,
          1.607364075539859,
          1.607364075539859,
          1.9765346800234203,
          1.2012391354870784,
          1.69022244889257,
          1.1023319800467122,
          1.1023319800467122,
          0.6270750464007583,
          1.3910747625043123,
          0.022589194635177057,
          0.26312606317617815,
          0.012467582838802782,
          0.34494260061867665,
          0.1697003622209693,
          1.1065338483671117,
          0.19667593599454292,
          0.19667593599454292,
          0.17181681308170826,
          0.05773939187794319,
          0.05773939187794319,
          0.4446727989061571,
          0.4446727989061571,
          0.29983296556303685,
          0.08590442909178653,
          1.7350984954504327,
          0.8789844597014596,
          0.48463425117648196,
          0.07135771248099554,
          0.009127936277769089,
          1.3574043482592466,
          0.0012492039975777747,
          0.8051679869870376,
          1.976310736684975,
          1.9592705696133743,
          0.23107465241102954,
          0.650955585215425,
          0.650955585215425,
          1.945290390621428,
          1.027273541383589,
          1.027273541383589,
          0.020878141500114578,
          0.0000834318396293332,
          0.10618574841021089,
          1.968201662346296,
          0.04378403250865337,
          0.04378403250865337,
          1.8950271980468822,
          0.20752732130116658,
          0.0224585092324342,
          0.06611985449964997,
          0.18350754233622657,
          1.9332444559114208,
          0.3001225151850677,
          0.3001225151850677,
          1.987158347511409,
          0.004530926783685274,
          1.1260690753514373,
          0.051910138460769084,
          0.2779374644539161,
          0.2779374644539161,
          0.007657173580400967,
          0.10411473908818258,
          0.4881765152612747,
          1.8838159358495004,
          0.19213690860104393,
          0.00009806581327642672,
          1.3890903103683367,
          0.32804582859008113,
          0.1970696569556959,
          0.11323923662390345,
          0.7211528893106844,
          0.3485105869922389,
          0.3485105869922389,
          0.3567993464024175,
          0.2341461897344974,
          0.613438572601956,
          0.24504442647507563,
          0.11484377741707097,
          0.6298524992197555,
          0.17641085559641578,
          0.018718042454163086,
          0.018718042454163086,
          0.0037780742266725342,
          1.0218602781401325,
          1.0218602781401325,
          0.3124803962451602,
          0.006874234403168589,
          0.12729106602235407,
          0.13956354581594288,
          1.0613357081841808,
          0.14297454465873394,
          0.15142307957642664,
          0.004137751700898806,
          0.03710391510595201,
          0.23580859266149568,
          1.8668284548627643,
          0.025700698566761937,
          0.24308038587509917,
          0.05320470247528686,
          1.7704728105785632,
          0.01471766825260179,
          0.40705369009421977,
          0.09139661469729199,
          0.044135859797516,
          1.4502832692439653,
          1.9098034736038703,
          0.060341546317335126,
          1.9440384484699564,
          0.1359013687319608,
          0.13363073784672252,
          0.10931636090379226,
          0.10931636090379226,
          0.38368780816862624,
          0.03031659661693087,
          1.9757964411118931,
          0.7980705301645763,
          0.47746319523041236,
          0.5033256669650623,
          0.49567006629990895,
          0.4232937995971423,
          0.43698707126957426,
          0.5949978415164706,
          0.5866427690425777,
          0.417671142383351,
          0.04593035700294679,
          0.029303788506916284,
          0.2525345639011116,
          0.21742447186199332,
          0.11060990179976482,
          0.6956209692529078,
          0.5724370135393122,
          0.44074937701809924,
          0.7042520436652859,
          0.00016215230417460091,
          0.0024752503508553847,
          0.2035204009251057,
          0.03573908807862014,
          0.03573908807862014,
          0.06219454082255127,
          0.0061190443659748794,
          0.09265899580832881,
          0.012360138745847848,
          0.1286526195463985,
          0.0015926288821481727,
          1.991486031849096,
          1.0199917419547118,
          0.034348089942437654,
          0.034348089942437654,
          0.034348089942437654,
          0.179303180397404,
          0.12793020617232354,
          1.997737938516126,
          1.8588038553086388,
          1.6106321049339276,
          1.6019491883328216,
          0.06230585223321927,
          0.017996256143551492,
          0.38096431957306787,
          0.013697662266935584,
          0.03992550013360807,
          0.03992550013360807,
          0.03620606630094303,
          0.1688528667014929,
          0.231940678071624,
          0.0019294763601819254,
          0.001540118011682079,
          0.001540118011682079,
          0.001540118011682079,
          0.07938367275962532,
          0.0004857384303748047,
          0.0004857384303748047,
          0.0004857384303748047,
          0.00124106635551402,
          0.03044973775744908,
          0.0004845046909348616,
          0.05217214322983754,
          0.00020231917037361047,
          0.06374146698644179,
          0.06483553044228252,
          0.005309156925773717,
          0.00307681168514784,
          0.00008664860634211013,
          0.012609719985402501,
          1.8764867115817587,
          0.005492766580070141,
          0.09625964557473554,
          0.08313908611326015,
          0.09116004358183694,
          0.05656055524024928,
          0.19776759886008954,
          1.2032720669494463,
          0.04216201665628727,
          0.03943327386600659,
          0.3650890524283791,
          0.0381378078739798,
          0.1581431220029177,
          0.8042583952556182,
          0.003289423347278997,
          0.003289423347278997,
          0.18347630172324236,
          1.128638441469146,
          1.4535441624467411,
          0.03931607135196091,
          0.009936026667794029,
          0.13275156607685734,
          0.112088248688065,
          0.07097171007839176,
          0.004921753022413933,
          0.24730482515752306,
          0.24730482515752306,
          0.01986403560025174,
          0.046040862979413344,
          1.4496182453230682,
          0.05119364437447749,
          0.008737354785398499,
          0.9443530062416962,
          0.6094893751335038,
          0.16190532473867003,
          0.04276151177238674,
          0.6540096730865116,
          0.5239397845312115,
          1.5294183606840055,
          0.1089937425998162,
          0.35602757091397774,
          0.3433778145881281,
          0.12740854292660642,
          0.014291881318460709,
          0.005057595133915349,
          0.005057595133915349,
          1.9893595718996564,
          0.026435301607602546,
          0.06015056077366121,
          0.005804025606200525,
          0.20024486677950715,
          1.506189442069636,
          1.9859433255081749,
          1.9735659147996656,
          1.9735659147996656,
          1.994939523555901,
          1.336649686746942,
          1.336649686746942,
          1.247784800593182,
          0.5265834800091378,
          0.4793204060249294,
          0.7111286447987224,
          0.7047502775574253,
          1.3629026000151407,
          0.28409689004712446,
          0.084938652535129,
          0.5831502942191675,
          0.39851643342950305,
          1.9195098021244454,
          0.007373246676518952,
          0.7246026317712105,
          0.17872326654044157,
          0.07025840185505894,
          0.1346557703230039,
          0.04960142421138891,
          0.18364188066791565,
          0.18364188066791565,
          0.18029554955904303,
          0.7237621028712644,
          0.010704319763406245,
          0.00720493460428806,
          0.08895474035971618,
          0.0437911356763554,
          0.2935056768800839,
          0.8635866148820283,
          1.9411726717605862,
          0.10703207374996637,
          0.6276319913649957,
          0.0022210975907368535,
          0.003303384232933859,
          0.0000071883949128714875,
          0.000008857163071640528,
          0.0000026709663187851618,
          1.9996888688396453,
          0.02093524330240082,
          0.012929344842988466,
          0.05089097990827596,
          0.027899607976221263,
          1.8316952513559324,
          1.325348231365356,
          1.325348231365356,
          0.30629465008531587,
          0.3114242206399229,
          0.31749891361611027,
          0.2324913466685954,
          0.9525203580424915,
          0.3773568175153821,
          0.3773568175153821,
          1.2990586856440747,
          0.4662805013353364,
          1.6032471270814945,
          0.27080852353999463,
          0.4304423058316169,
          0.686899453157639,
          0.5953017331418624,
          0.01579834712580519,
          0.2845011190328999,
          0.04483567864648019,
          1.2103527144488069,
          0.05317891242794992,
          0.15860626761914443,
          0.045235404106813704,
          0.03246784119998569,
          0.38024440986759367,
          0.11570906100986411,
          1.0913987681747486,
          0.09461165936138571,
          0.16096105127994464,
          0.06648407422733682,
          0.0017586904861175423,
          0.16072762263510265,
          0.22060826746225004,
          0.08095811854681889,
          0.09556952667441543,
          0.06926982480288268,
          0.02923552997532275,
          0.7012526388975426,
          1.737641784647583,
          0.0662403262621829,
          0.012111142229839,
          0.09131181888798456,
          0.021073877835167454,
          0.408149456833631,
          0.13535868153743535,
          0.37106285656536186,
          1.9962866085587714,
          0.005847342974035441,
          0.0005639358482228962,
          0.0005680871120823383,
          0.519383580852357,
          0.07076772332586523,
          0.554269935502578,
          0.3107919101176506,
          0.08378197074847071,
          0.17369269856514014,
          0.12742686038369022,
          0.009472438488484003,
          0.009472438488484003,
          0.0028688675888179915,
          0.9646373783110203,
          0.6048631014163942,
          0.09707004423312127,
          0.15361340365073017,
          0.18102561637651948,
          0.0000748087479409687,
          0.06706731826730439,
          0.001049546806402235,
          1.5501128077689872,
          0.0007216251659298845,
          1.996207212349137,
          0.0006382737569996522,
          0.00037696443322232653,
          0.14767864720846002,
          0.030533669980109313,
          0.00006539137082828272,
          0.07375008880708256,
          0.02812986417994434,
          0.02812986417994434,
          0.049843321683991526,
          0.049843321683991526,
          1.9976800155543926,
          0.0031218952835641023,
          0.5338611683619049,
          0.34364668374576435,
          0.06319328915295497,
          0.03092983463311938,
          0.044570465311774776,
          0.49824624358037206,
          1.5341215171298117,
          0.04294367243031516,
          0.040180304898667085,
          0.7144438170153762,
          0.040362625081846626,
          1.9739159743917012,
          0.20093187589746164,
          1.2239627696723547,
          0.0003637061057991664,
          0.00025729331206014727,
          0.00011939342817846033,
          1.977975964623358,
          0.015660129956986957,
          0.24227612947319255,
          0.08442961849188613,
          0.36289819687019764,
          0.568589669569186,
          0.49535431183240985,
          0.00024161657856258678,
          1.9951814550693538,
          1.6420923362578728,
          0.004032685492858068,
          0.19112883874586128,
          0.0011272900735578295,
          0.017947999744311605,
          0.6810036128753019,
          0.1220466944021581,
          0.1220466944021581,
          0.0155376671223455,
          0.0000329353329504567,
          0.00022856316212738204,
          0.0000902761415992881,
          0.0020161932797368998,
          0.0020161932797368998,
          0.05941239861367298,
          0.0014374433268572462,
          0.015275667453970465,
          0.07693262029897296,
          0.31782001842301666,
          1.9920207104012333,
          0.016566780938236714,
          0.07193478249919005,
          0.07193478249919005,
          0.048489864882184874,
          1.9538084289640358,
          0.016148787208368542,
          0.013624399465187342,
          0.01328246088142937,
          0.07956068134852201,
          0.002125993127187309,
          0.00257609667521308,
          0.002790148999861297,
          0.18037207386216225,
          1.988369773960228,
          0.5034904653606589,
          0.0043745273958932795,
          0.03864107839357955,
          1.81848952207238,
          0.15388089745542777,
          1.8337283411319967,
          1.9920464951889767,
          1.9894183120683375,
          0.16441040626982917,
          1.9921391872407448,
          0.009867088617151909,
          1.6076745226030242,
          1.306558266800793,
          1.016573746213095,
          1.9711936233192833,
          1.2944470417705585,
          1.2944470417705585,
          0.1027401810484656,
          0.34848291757518823,
          0.34848291757518823,
          0.0030026424981602906,
          0.0018121115410696387,
          0.0836459538661628,
          0.15265939244454219,
          0.045321366327567,
          0.20534479175040699,
          0.38265243588154085,
          0.07236387180061832,
          0.03343588013511445,
          0.16566125238532148,
          1.9663276398457388,
          1.916331461095975,
          0.4750153783932032,
          0.18694581745398264,
          0.008046637591308414,
          0.008046637591308414,
          0.009327052411050696,
          1.2575812102528956,
          1.2575812102528956,
          0.04707731510492952,
          1.9273119648452222,
          0.05127592190995667,
          1.9959729605609449,
          0.41400944906722603,
          0.41400944906722603,
          1.010374890970117,
          1.4855427659664318,
          0.04624758474574375,
          0.014831268501110939,
          0.015479168767035478,
          1.862962247961011,
          0.000357593425582281,
          0.00002414704252595712,
          0.0013287387561553565,
          0.05902716600630509,
          0.01161452526060125,
          0.009681871662993613,
          0.012626051142914707,
          0.05302553574955393,
          1.1057467557375722,
          0.00040702145787774313,
          0.0002715608774587208,
          0.09058345988626038,
          0.031834158434542514,
          0.00016353544840042034,
          0.00016353544840042034,
          0.09764279012519606,
          0.04420137891842535,
          0.12005063277522476,
          0.2352232581861926,
          0.06961608647532924,
          0.2957970433304731,
          0.08498703902458038,
          0.0006207645486018265,
          0.05083733999019824,
          0.012136696701159688,
          0.012136696701159688,
          0.0019675253081875566,
          0.011229376150542092,
          0.006369832161506106,
          0.014397907095798024,
          0.005301933062189956,
          1.9888525371112475,
          1.9997491218998358,
          1.0453833148113028,
          0.08106334943599247,
          0.15225469694848515,
          1.9818442353689387,
          0.00018522720582314633,
          0.00020862757318673708,
          0.0003983355111215614,
          0.001658752499283933,
          0.001658752499283933,
          0.0001270269776203481,
          0.0015139723819848072,
          0.011937998078614176,
          0.000014082194164211081,
          0.000160645880609378,
          0.11373647982848378,
          1.3584758264291878,
          0.44002419043145624,
          1.9741670801090745,
          0.00014760353919651692,
          1.8619366991817774,
          1.9817301696808562,
          0.0008181092330421524,
          0.13535129384114886,
          0.06944787183879253,
          0.000006965969549632689,
          0.49930023570754345,
          0.07915079502511835,
          1.3596825372911499,
          1.9733928982802138,
          0.2052072472318185,
          0.6379978625607448,
          0.00019154767011364537,
          0.09146823518843494,
          0.11992906041748652,
          0.11153825904814707,
          0.11153825904814707,
          0.029431114231521782,
          0.04994510103909433,
          1.9951970548743518,
          0.00042919210976644084,
          0.09461824621100035,
          0.06649621911961212,
          0.018634014887558337,
          0.045856641749272065,
          0.17765313272777283,
          0.9299598919887575,
          0.7306152738286749,
          0.7306152738286749,
          0.3422664028027774,
          1.9469549891497184,
          1.991767610558049,
          0.000028517803464467306,
          0.021868849071453034,
          0.3481631830457843,
          0.002351986430272568,
          0.002196301286751523,
          0.0005432555569609976,
          0.0006304088464132995,
          0.002148661815513986,
          0.00006700460079422932,
          0.00006700460079422932,
          0.32490323918870434,
          0.09220435841072616,
          0.055192204573192516,
          0.5120450257742128,
          0.1392505938601154,
          0.004183953013818575,
          0.004183953013818575,
          0.0042667255719892605,
          0.016190434718248214,
          0.0019041215428161617,
          0.0019041215428161617,
          0.005254343535115669,
          0.00047481212362954217,
          0.002558198264242084,
          0.005150794260037284,
          0.00024339385913862976,
          0.008590973897414478,
          0.02210754505493484,
          0.10172810503005314,
          1.9089954744281332,
          0.05133672487540242,
          0.0664854574234548,
          0.0487719703175471,
          0.015604601632943527,
          1.9627417135015714,
          1.9553547723816853,
          0.8802317367863582,
          0.8802317367863582,
          1.9608309591987465,
          0.07508101079968776,
          0.012076147231178336,
          0.04672928379645591,
          0.14704649070504106,
          0.28033240097368506,
          0.08847412072834815,
          0.08703153566069122,
          0.0018693498733328706,
          0.0018693498733328706,
          0.0004540398244372579,
          1.9993201712279443,
          0.0004911404752404591,
          1.9996821383860952,
          0.3040545190147531,
          1.9788210860879962,
          1.9729504468141648,
          0.20788723601335768,
          1.9966018754597743,
          0.0011675350472331036,
          0.051021269258780366,
          0.051021269258780366,
          0.019974954744187312,
          1.960177723801066,
          0.07826416863939178,
          1.9877724920950048,
          1.9554070045450844,
          0.009914962885543499,
          0.0022822524672061473,
          0.001632300698004685,
          0.00008230240666817767,
          0.5790207026153336,
          0.014370253696722624,
          0.0002543716205367641,
          0.000124260771982021,
          0.0057451299840367565,
          1.5747576795180158,
          1.6922587005011263,
          1.898061027496034,
          0.18115230439403507,
          0.5828573200587724,
          0.030152193693975926,
          0.0757259514427826,
          1.7309219886711993,
          0.011704459781840315,
          0.8834695704107888,
          0.15464675578436615,
          1.9084914128360495,
          0.00580273697530187,
          0.0015812783596176327,
          1.8800083108243988,
          0.5801015575941966,
          0.6601873341378943,
          0.26571570950688184,
          0.34700228172256,
          0.3609189655118352,
          1.5789988084781994,
          0.5982810886997028,
          0.07415437509387235,
          0.14192677719372182,
          0.14192677719372182,
          1.3297180550533705,
          0.03358041071686446,
          1.2128279359470278,
          0.07409806854866452,
          0.0663198280384103,
          0.0002380103566488323,
          0.7391582542066497,
          1.9996304594813101,
          1.9996805326139206,
          0.0009585659249700118,
          0.00426101135928425,
          1.9914646772020888,
          0.04352253718864407,
          0.012290534690112542,
          0.13202706018704613,
          1.9567133384216748,
          0.0009377346530778929,
          0.003847289544336885,
          0.0026109641381436566,
          0.008786672553776631,
          0.008775477198644355,
          0.002214695645325504,
          0.00008163002332572944,
          0.00008163002332572944,
          0.0030120324119393693,
          0.0017268033633563995,
          0.0014370761635187357,
          2.220446049250313e-16,
          0.04091274863505523,
          0.04581296742303653,
          0.05012627910250511,
          0.00033224593342207065,
          0.0016228168849979907,
          0.013066011076079742,
          0.019019009846860446,
          0.020026060953158398,
          0.2621993534295807,
          0.2621993534295807,
          0.0005335376029662608,
          0.0005335376029662608,
          1.9999636722224923,
          0.0000029223897733965387,
          1.9999742377858913,
          1.9996856996010122,
          1.999225872657986,
          0.0862551069315054,
          0.0862551069315054,
          1.9999886619504461,
          0.0005186039109158491,
          1.9762650566613023,
          0.008637202960929624,
          0.008219579070934513,
          0.1772171380517149,
          0.1772171380517149,
          1.99160161254338,
          1.9819184917234114,
          1.9993453853592849,
          1.9995452074695874,
          1.9995452074695874,
          0.004064063140518659,
          1.9772950550885349,
          1.999675754383663,
          1.9967923955820677,
          0.10568305933987465,
          0.03787934283620642,
          0.30848085416784143,
          0.00016362847271378378,
          0.038036816135114115,
          1.4511477128636368,
          0.10569408922219314,
          0.10569408922219314,
          0.4832600851324952,
          0.018874262806826803,
          0.014807964721070377,
          0.0009675766809775777,
          0.0025040671888828525,
          0.14758034743046844,
          0.012233842266131445,
          0.013716710698639,
          0.20662470316959436,
          0.00045619994346579595,
          0.0015058668296804578,
          0.0006575901002479068,
          0.020837287075220035,
          0.04991716046194672,
          1.9994101455080613,
          1.4465359729961067,
          0.32597797197006084,
          0.22406126423201678,
          0.22580126166432413,
          0.03585183444527684,
          0.038033695167286385,
          0.0020722763123450783,
          0.001194572493166679,
          1.9966435946933045,
          0.00637242134577054,
          1.967634609952769,
          0.0006217822294698472,
          0.0006217822294698472,
          0.2709518420123729,
          0.007738300667633813,
          0.002022410373028527,
          1.9997638417475276,
          1.999736548841475,
          0.050007796740710764,
          1.9967751824674935,
          0.004770846535375961,
          0.13853493103247672,
          0.26369041310636576,
          0.06269216413002754,
          0.014491973784596768,
          0.0001954712388083646,
          0.19334282775563805,
          0.05171719565365995,
          1.9872098275662027,
          0.00025452829020589096,
          0.00025452829020589096,
          0.00005390166735608215,
          0.00021699921997497817,
          0.00014011177650385953,
          0.00000913952300196641,
          0.00021421667737309136,
          0.011602403918759219,
          0.011602403918759219,
          1.9998881642448423,
          1.9999751086530453,
          0.004207511833133504,
          0.0006992220954264994,
          0.0004949907434796952,
          0.00011110527732061115,
          1.9972364793326118,
          0.4130044238082471,
          0.00497480618183066,
          0.00497480618183066,
          0.0022661722755333846,
          1.1462995199567632,
          0.0012882934794219425,
          0.02064868027325084,
          0.003920813789471289,
          0.003186718573210512,
          1.9990366230961853,
          0.564167746463681,
          0.000025049978592539546,
          0.00008886137504016123,
          0.07870526381369758,
          0.07870526381369758,
          0.008115819341671715,
          1.727904151622227,
          0.00008386536991644711,
          0.30034495936761063,
          0.00008295734667551624,
          0.006668099326696986,
          0.005492032251835699,
          0.0011454628217923979,
          0.00043491201938405943,
          0.002988173693380114,
          0.009400274995161495,
          1.9982875375439137,
          0.002046348003026499,
          1.9465346654028197,
          1.9998778574775993,
          1.9999028456772616,
          0.0674121983680317,
          0.047154327582472844,
          0.0033982237312610852,
          0.04433832928916093,
          0.020517286422828462,
          0.008102838860453043,
          0.025296466681141716,
          0.025296466681141716,
          1.990856926963295,
          0.058168247486207525,
          1.9997638339110306,
          1.9996187501564964,
          0.010627623284642507,
          0.019585777434203422,
          0.007279654165559202,
          0.03853609077944187,
          0.00021916024414603275,
          0.000058612045069517116,
          0.08453029644846832,
          0.05809169628773947,
          0.013909185846628591,
          0.6271094074396865,
          0.0002740890756476322,
          0.00008348895122423095,
          0.000026540967634880452,
          0.00013713833888040483,
          1.9997201314128874,
          1.9995627695914633
         ],
         "xaxis": "x",
         "yaxis": "y"
        }
       ],
       "layout": {
        "barmode": "relative",
        "legend": {
         "tracegroupgap": 0
        },
        "template": {
         "data": {
          "bar": [
           {
            "error_x": {
             "color": "#2a3f5f"
            },
            "error_y": {
             "color": "#2a3f5f"
            },
            "marker": {
             "line": {
              "color": "#E5ECF6",
              "width": 0.5
             },
             "pattern": {
              "fillmode": "overlay",
              "size": 10,
              "solidity": 0.2
             }
            },
            "type": "bar"
           }
          ],
          "barpolar": [
           {
            "marker": {
             "line": {
              "color": "#E5ECF6",
              "width": 0.5
             },
             "pattern": {
              "fillmode": "overlay",
              "size": 10,
              "solidity": 0.2
             }
            },
            "type": "barpolar"
           }
          ],
          "carpet": [
           {
            "aaxis": {
             "endlinecolor": "#2a3f5f",
             "gridcolor": "white",
             "linecolor": "white",
             "minorgridcolor": "white",
             "startlinecolor": "#2a3f5f"
            },
            "baxis": {
             "endlinecolor": "#2a3f5f",
             "gridcolor": "white",
             "linecolor": "white",
             "minorgridcolor": "white",
             "startlinecolor": "#2a3f5f"
            },
            "type": "carpet"
           }
          ],
          "choropleth": [
           {
            "colorbar": {
             "outlinewidth": 0,
             "ticks": ""
            },
            "type": "choropleth"
           }
          ],
          "contour": [
           {
            "colorbar": {
             "outlinewidth": 0,
             "ticks": ""
            },
            "colorscale": [
             [
              0,
              "#0d0887"
             ],
             [
              0.1111111111111111,
              "#46039f"
             ],
             [
              0.2222222222222222,
              "#7201a8"
             ],
             [
              0.3333333333333333,
              "#9c179e"
             ],
             [
              0.4444444444444444,
              "#bd3786"
             ],
             [
              0.5555555555555556,
              "#d8576b"
             ],
             [
              0.6666666666666666,
              "#ed7953"
             ],
             [
              0.7777777777777778,
              "#fb9f3a"
             ],
             [
              0.8888888888888888,
              "#fdca26"
             ],
             [
              1,
              "#f0f921"
             ]
            ],
            "type": "contour"
           }
          ],
          "contourcarpet": [
           {
            "colorbar": {
             "outlinewidth": 0,
             "ticks": ""
            },
            "type": "contourcarpet"
           }
          ],
          "heatmap": [
           {
            "colorbar": {
             "outlinewidth": 0,
             "ticks": ""
            },
            "colorscale": [
             [
              0,
              "#0d0887"
             ],
             [
              0.1111111111111111,
              "#46039f"
             ],
             [
              0.2222222222222222,
              "#7201a8"
             ],
             [
              0.3333333333333333,
              "#9c179e"
             ],
             [
              0.4444444444444444,
              "#bd3786"
             ],
             [
              0.5555555555555556,
              "#d8576b"
             ],
             [
              0.6666666666666666,
              "#ed7953"
             ],
             [
              0.7777777777777778,
              "#fb9f3a"
             ],
             [
              0.8888888888888888,
              "#fdca26"
             ],
             [
              1,
              "#f0f921"
             ]
            ],
            "type": "heatmap"
           }
          ],
          "heatmapgl": [
           {
            "colorbar": {
             "outlinewidth": 0,
             "ticks": ""
            },
            "colorscale": [
             [
              0,
              "#0d0887"
             ],
             [
              0.1111111111111111,
              "#46039f"
             ],
             [
              0.2222222222222222,
              "#7201a8"
             ],
             [
              0.3333333333333333,
              "#9c179e"
             ],
             [
              0.4444444444444444,
              "#bd3786"
             ],
             [
              0.5555555555555556,
              "#d8576b"
             ],
             [
              0.6666666666666666,
              "#ed7953"
             ],
             [
              0.7777777777777778,
              "#fb9f3a"
             ],
             [
              0.8888888888888888,
              "#fdca26"
             ],
             [
              1,
              "#f0f921"
             ]
            ],
            "type": "heatmapgl"
           }
          ],
          "histogram": [
           {
            "marker": {
             "pattern": {
              "fillmode": "overlay",
              "size": 10,
              "solidity": 0.2
             }
            },
            "type": "histogram"
           }
          ],
          "histogram2d": [
           {
            "colorbar": {
             "outlinewidth": 0,
             "ticks": ""
            },
            "colorscale": [
             [
              0,
              "#0d0887"
             ],
             [
              0.1111111111111111,
              "#46039f"
             ],
             [
              0.2222222222222222,
              "#7201a8"
             ],
             [
              0.3333333333333333,
              "#9c179e"
             ],
             [
              0.4444444444444444,
              "#bd3786"
             ],
             [
              0.5555555555555556,
              "#d8576b"
             ],
             [
              0.6666666666666666,
              "#ed7953"
             ],
             [
              0.7777777777777778,
              "#fb9f3a"
             ],
             [
              0.8888888888888888,
              "#fdca26"
             ],
             [
              1,
              "#f0f921"
             ]
            ],
            "type": "histogram2d"
           }
          ],
          "histogram2dcontour": [
           {
            "colorbar": {
             "outlinewidth": 0,
             "ticks": ""
            },
            "colorscale": [
             [
              0,
              "#0d0887"
             ],
             [
              0.1111111111111111,
              "#46039f"
             ],
             [
              0.2222222222222222,
              "#7201a8"
             ],
             [
              0.3333333333333333,
              "#9c179e"
             ],
             [
              0.4444444444444444,
              "#bd3786"
             ],
             [
              0.5555555555555556,
              "#d8576b"
             ],
             [
              0.6666666666666666,
              "#ed7953"
             ],
             [
              0.7777777777777778,
              "#fb9f3a"
             ],
             [
              0.8888888888888888,
              "#fdca26"
             ],
             [
              1,
              "#f0f921"
             ]
            ],
            "type": "histogram2dcontour"
           }
          ],
          "mesh3d": [
           {
            "colorbar": {
             "outlinewidth": 0,
             "ticks": ""
            },
            "type": "mesh3d"
           }
          ],
          "parcoords": [
           {
            "line": {
             "colorbar": {
              "outlinewidth": 0,
              "ticks": ""
             }
            },
            "type": "parcoords"
           }
          ],
          "pie": [
           {
            "automargin": true,
            "type": "pie"
           }
          ],
          "scatter": [
           {
            "fillpattern": {
             "fillmode": "overlay",
             "size": 10,
             "solidity": 0.2
            },
            "type": "scatter"
           }
          ],
          "scatter3d": [
           {
            "line": {
             "colorbar": {
              "outlinewidth": 0,
              "ticks": ""
             }
            },
            "marker": {
             "colorbar": {
              "outlinewidth": 0,
              "ticks": ""
             }
            },
            "type": "scatter3d"
           }
          ],
          "scattercarpet": [
           {
            "marker": {
             "colorbar": {
              "outlinewidth": 0,
              "ticks": ""
             }
            },
            "type": "scattercarpet"
           }
          ],
          "scattergeo": [
           {
            "marker": {
             "colorbar": {
              "outlinewidth": 0,
              "ticks": ""
             }
            },
            "type": "scattergeo"
           }
          ],
          "scattergl": [
           {
            "marker": {
             "colorbar": {
              "outlinewidth": 0,
              "ticks": ""
             }
            },
            "type": "scattergl"
           }
          ],
          "scattermapbox": [
           {
            "marker": {
             "colorbar": {
              "outlinewidth": 0,
              "ticks": ""
             }
            },
            "type": "scattermapbox"
           }
          ],
          "scatterpolar": [
           {
            "marker": {
             "colorbar": {
              "outlinewidth": 0,
              "ticks": ""
             }
            },
            "type": "scatterpolar"
           }
          ],
          "scatterpolargl": [
           {
            "marker": {
             "colorbar": {
              "outlinewidth": 0,
              "ticks": ""
             }
            },
            "type": "scatterpolargl"
           }
          ],
          "scatterternary": [
           {
            "marker": {
             "colorbar": {
              "outlinewidth": 0,
              "ticks": ""
             }
            },
            "type": "scatterternary"
           }
          ],
          "surface": [
           {
            "colorbar": {
             "outlinewidth": 0,
             "ticks": ""
            },
            "colorscale": [
             [
              0,
              "#0d0887"
             ],
             [
              0.1111111111111111,
              "#46039f"
             ],
             [
              0.2222222222222222,
              "#7201a8"
             ],
             [
              0.3333333333333333,
              "#9c179e"
             ],
             [
              0.4444444444444444,
              "#bd3786"
             ],
             [
              0.5555555555555556,
              "#d8576b"
             ],
             [
              0.6666666666666666,
              "#ed7953"
             ],
             [
              0.7777777777777778,
              "#fb9f3a"
             ],
             [
              0.8888888888888888,
              "#fdca26"
             ],
             [
              1,
              "#f0f921"
             ]
            ],
            "type": "surface"
           }
          ],
          "table": [
           {
            "cells": {
             "fill": {
              "color": "#EBF0F8"
             },
             "line": {
              "color": "white"
             }
            },
            "header": {
             "fill": {
              "color": "#C8D4E3"
             },
             "line": {
              "color": "white"
             }
            },
            "type": "table"
           }
          ]
         },
         "layout": {
          "annotationdefaults": {
           "arrowcolor": "#2a3f5f",
           "arrowhead": 0,
           "arrowwidth": 1
          },
          "autotypenumbers": "strict",
          "coloraxis": {
           "colorbar": {
            "outlinewidth": 0,
            "ticks": ""
           }
          },
          "colorscale": {
           "diverging": [
            [
             0,
             "#8e0152"
            ],
            [
             0.1,
             "#c51b7d"
            ],
            [
             0.2,
             "#de77ae"
            ],
            [
             0.3,
             "#f1b6da"
            ],
            [
             0.4,
             "#fde0ef"
            ],
            [
             0.5,
             "#f7f7f7"
            ],
            [
             0.6,
             "#e6f5d0"
            ],
            [
             0.7,
             "#b8e186"
            ],
            [
             0.8,
             "#7fbc41"
            ],
            [
             0.9,
             "#4d9221"
            ],
            [
             1,
             "#276419"
            ]
           ],
           "sequential": [
            [
             0,
             "#0d0887"
            ],
            [
             0.1111111111111111,
             "#46039f"
            ],
            [
             0.2222222222222222,
             "#7201a8"
            ],
            [
             0.3333333333333333,
             "#9c179e"
            ],
            [
             0.4444444444444444,
             "#bd3786"
            ],
            [
             0.5555555555555556,
             "#d8576b"
            ],
            [
             0.6666666666666666,
             "#ed7953"
            ],
            [
             0.7777777777777778,
             "#fb9f3a"
            ],
            [
             0.8888888888888888,
             "#fdca26"
            ],
            [
             1,
             "#f0f921"
            ]
           ],
           "sequentialminus": [
            [
             0,
             "#0d0887"
            ],
            [
             0.1111111111111111,
             "#46039f"
            ],
            [
             0.2222222222222222,
             "#7201a8"
            ],
            [
             0.3333333333333333,
             "#9c179e"
            ],
            [
             0.4444444444444444,
             "#bd3786"
            ],
            [
             0.5555555555555556,
             "#d8576b"
            ],
            [
             0.6666666666666666,
             "#ed7953"
            ],
            [
             0.7777777777777778,
             "#fb9f3a"
            ],
            [
             0.8888888888888888,
             "#fdca26"
            ],
            [
             1,
             "#f0f921"
            ]
           ]
          },
          "colorway": [
           "#636efa",
           "#EF553B",
           "#00cc96",
           "#ab63fa",
           "#FFA15A",
           "#19d3f3",
           "#FF6692",
           "#B6E880",
           "#FF97FF",
           "#FECB52"
          ],
          "font": {
           "color": "#2a3f5f"
          },
          "geo": {
           "bgcolor": "white",
           "lakecolor": "white",
           "landcolor": "#E5ECF6",
           "showlakes": true,
           "showland": true,
           "subunitcolor": "white"
          },
          "hoverlabel": {
           "align": "left"
          },
          "hovermode": "closest",
          "mapbox": {
           "style": "light"
          },
          "paper_bgcolor": "white",
          "plot_bgcolor": "#E5ECF6",
          "polar": {
           "angularaxis": {
            "gridcolor": "white",
            "linecolor": "white",
            "ticks": ""
           },
           "bgcolor": "#E5ECF6",
           "radialaxis": {
            "gridcolor": "white",
            "linecolor": "white",
            "ticks": ""
           }
          },
          "scene": {
           "xaxis": {
            "backgroundcolor": "#E5ECF6",
            "gridcolor": "white",
            "gridwidth": 2,
            "linecolor": "white",
            "showbackground": true,
            "ticks": "",
            "zerolinecolor": "white"
           },
           "yaxis": {
            "backgroundcolor": "#E5ECF6",
            "gridcolor": "white",
            "gridwidth": 2,
            "linecolor": "white",
            "showbackground": true,
            "ticks": "",
            "zerolinecolor": "white"
           },
           "zaxis": {
            "backgroundcolor": "#E5ECF6",
            "gridcolor": "white",
            "gridwidth": 2,
            "linecolor": "white",
            "showbackground": true,
            "ticks": "",
            "zerolinecolor": "white"
           }
          },
          "shapedefaults": {
           "line": {
            "color": "#2a3f5f"
           }
          },
          "ternary": {
           "aaxis": {
            "gridcolor": "white",
            "linecolor": "white",
            "ticks": ""
           },
           "baxis": {
            "gridcolor": "white",
            "linecolor": "white",
            "ticks": ""
           },
           "bgcolor": "#E5ECF6",
           "caxis": {
            "gridcolor": "white",
            "linecolor": "white",
            "ticks": ""
           }
          },
          "title": {
           "x": 0.05
          },
          "xaxis": {
           "automargin": true,
           "gridcolor": "white",
           "linecolor": "white",
           "ticks": "",
           "title": {
            "standoff": 15
           },
           "zerolinecolor": "white",
           "zerolinewidth": 2
          },
          "yaxis": {
           "automargin": true,
           "gridcolor": "white",
           "linecolor": "white",
           "ticks": "",
           "title": {
            "standoff": 15
           },
           "zerolinecolor": "white",
           "zerolinewidth": 2
          }
         }
        },
        "title": {
         "text": "Histogram of Pairwise Cosine Distances"
        },
        "xaxis": {
         "anchor": "y",
         "domain": [
          0,
          1
         ],
         "title": {
          "text": "Pairwise Cosine Distances"
         }
        },
        "yaxis": {
         "anchor": "x",
         "domain": [
          0,
          1
         ],
         "title": {
          "text": "count"
         }
        }
       }
      }
     },
     "metadata": {},
     "output_type": "display_data"
    },
    {
     "name": "stdout",
     "output_type": "stream",
     "text": [
      "[-1]\n",
      "['donald trump', 'democrat', 'former president donald trump', 'carolyn maloney', 'new york', 'white house', 'mitch mcconnell', 'liz cheney', 'dan goldman', 'house', 'new york times', 'democratic', 'washington', 'gop', 'republicans', 'republican', 'democrats', 'trump', 'biden', 'goldman']\n"
     ]
    },
    {
     "data": {
      "application/vnd.plotly.v1+json": {
       "config": {
        "plotlyServerURL": "https://plot.ly"
       },
       "data": [
        {
         "coloraxis": "coloraxis",
         "hovertemplate": "x: %{x}<br>y: %{y}<br>Cosine Distance: %{z}<extra></extra>",
         "name": "0",
         "type": "heatmap",
         "x": [
          "donald trump",
          "democrat",
          "former president ...",
          "carolyn maloney",
          "new york",
          "white house",
          "mitch mcconnell",
          "liz cheney",
          "dan goldman",
          "house",
          "new york times",
          "democratic",
          "washington",
          "gop",
          "republicans",
          "republican",
          "democrats",
          "trump",
          "biden",
          "goldman"
         ],
         "xaxis": "x",
         "y": [
          "donald trump",
          "democrat",
          "former president ...",
          "carolyn maloney",
          "new york",
          "white house",
          "mitch mcconnell",
          "liz cheney",
          "dan goldman",
          "house",
          "new york times",
          "democratic",
          "washington",
          "gop",
          "republicans",
          "republican",
          "democrats",
          "trump",
          "biden",
          "goldman"
         ],
         "yaxis": "y",
         "z": [
          [
           2.220446049250313e-16,
           0.16594281907118447,
           0.13772368233261012,
           1.3266445830652749,
           1.5695644489112395,
           0.17485452495664078,
           0.1668943030764125,
           1.8968887076330903,
           0.6821008300599498,
           1.2786990827894709,
           1.2020021024877516,
           0.928921051801014,
           1.7117704117129184,
           0.4065969563929761,
           1.405733449422542,
           1.577684359544993,
           1.3204770277863502,
           0.1302242440204041,
           1.2604602789548365,
           1.121960605970668
          ],
          [
           0.16594281907118447,
           1.1102230246251565e-16,
           0.4528824262315968,
           1.0857161634716868,
           1.0232713051220659,
           0.3425041541493442,
           0.02691822418173717,
           1.7677138765723512,
           0.7181978415083039,
           1.250074000286324,
           0.6747013700062579,
           0.42075454269747536,
           1.5767984270115756,
           0.7708876332569593,
           1.5804334567903842,
           1.7370453466128646,
           0.903507554102531,
           0.31174104173570094,
           0.8090679390171652,
           1.286839600595893
          ],
          [
           0.13772368233261012,
           0.4528824262315968,
           3.3306690738754696e-16,
           1.7393243008630528,
           1.7746805900613734,
           0.4954285718849881,
           0.5295605623908575,
           1.9381359287846032,
           1.113403723125206,
           1.6133248860005058,
           1.6119873829203522,
           1.362966902929295,
           1.9032668707941363,
           0.5952873160621235,
           1.5329381242821911,
           1.6221495214055792,
           1.7533480387650637,
           0.03395335158949431,
           1.702845903302305,
           1.3732005772910374
          ],
          [
           1.3266445830652749,
           1.0857161634716868,
           1.7393243008630528,
           0,
           0.47455061198585735,
           0.7922841620559795,
           0.9009893541774652,
           0.3300894845561957,
           0.2573589152358021,
           0.07274522157905006,
           0.2802125999761016,
           0.4160558853102766,
           0.13789364509624968,
           0.7879471609294351,
           0.3083832826394445,
           0.3744319118558337,
           0.07201299864424049,
           1.7382890218787077,
           0.11712322495630367,
           0.2494314445331478
          ],
          [
           1.5695644489112395,
           1.0232713051220659,
           1.7746805900613734,
           0.47455061198585735,
           0,
           1.4759358226058112,
           1.0454916124781342,
           0.4872583090034768,
           1.0895141811690279,
           0.7997367041958835,
           0.12393796269108248,
           0.24562177845946243,
           0.5200900774249939,
           1.6871003449499251,
           1.071636036328469,
           1.0024049907525316,
           0.2295015178821136,
           1.5850597917322111,
           0.202017613344738,
           1.1394558640695598
          ],
          [
           0.17485452495664078,
           0.3425041541493442,
           0.4954285718849881,
           0.7922841620559795,
           1.4759358226058112,
           0,
           0.2129605097603744,
           1.4902649395843468,
           0.20663268697079118,
           0.6885923639447349,
           0.9930126264645304,
           0.8102702841960552,
           1.1945157028431515,
           0.1210637308849053,
           0.8596008571603873,
           1.0728528597557605,
           0.9188647342220018,
           0.553355504814792,
           0.9074171781717689,
           0.5568306922917172
          ],
          [
           0.1668943030764125,
           0.02691822418173717,
           0.5295605623908575,
           0.9009893541774652,
           1.0454916124781342,
           0.2129605097603744,
           -4.440892098500626e-16,
           1.6650451565528839,
           0.5046812454890831,
           1.0302754221908073,
           0.6265848511863807,
           0.3912853178617006,
           1.4181727276044886,
           0.602185317615793,
           1.3771465801442593,
           1.5618360363572108,
           0.779964002418098,
           0.42040845403967186,
           0.7029649550916077,
           1.0586626292961043
          ],
          [
           1.8968887076330903,
           1.7677138765723512,
           1.9381359287846032,
           0.3300894845561957,
           0.4872583090034768,
           1.4902649395843468,
           1.6650451565528839,
           -2.220446049250313e-16,
           0.8684570332135422,
           0.32578129574365566,
           0.6754534230444921,
           0.9533912526543156,
           0.05336688279979851,
           1.230829178037625,
           0.2670140783821564,
           0.16894751211633086,
           0.4362891907363815,
           1.9931723426510959,
           0.519327118951683,
           0.46689298703507287
          ],
          [
           0.6821008300599498,
           0.7181978415083039,
           1.113403723125206,
           0.2573589152358021,
           1.0895141811690279,
           0.20663268697079118,
           0.5046812454890831,
           0.8684570332135422,
           0,
           0.17996964404298654,
           0.6604182645476566,
           0.639510428254722,
           0.5603423550633054,
           0.2149104794909188,
           0.38239076238579084,
           0.5603249002290341,
           0.43753283654963604,
           1.188763308837984,
           0.47265517449137506,
           0.1637148815870182
          ],
          [
           1.2786990827894709,
           1.250074000286324,
           1.6133248860005058,
           0.07274522157905006,
           0.7997367041958835,
           0.6885923639447349,
           1.0302754221908073,
           0.32578129574365566,
           0.17996964404298654,
           4.440892098500626e-16,
           0.5906671611942692,
           0.7364950061045135,
           0.12903652291188994,
           0.5311260146317158,
           0.10328610315693831,
           0.17872659630317922,
           0.27901189567932116,
           1.7094472334600872,
           0.3556682002620457,
           0.05870435208928981
          ],
          [
           1.2020021024877516,
           0.6747013700062579,
           1.6119873829203522,
           0.2802125999761016,
           0.12393796269108248,
           0.9930126264645304,
           0.6265848511863807,
           0.6754534230444921,
           0.6604182645476566,
           0.5906671611942692,
           -2.220446049250313e-16,
           0.0409373559759586,
           0.5498603029008253,
           1.294791050275327,
           0.9919162718691261,
           1.0300059803908415,
           0.07466783319344572,
           1.430375557362475,
           0.0385447259951186,
           0.9043139173396992
          ],
          [
           0.928921051801014,
           0.42075454269747536,
           1.362966902929295,
           0.4160558853102766,
           0.24562177845946243,
           0.8102702841960552,
           0.3912853178617006,
           0.9533912526543156,
           0.639510428254722,
           0.7364950061045135,
           0.0409373559759586,
           0,
           0.7926454691502656,
           1.2014255500970987,
           1.1805100873565766,
           1.257502293025802,
           0.17921120999492401,
           1.161320501072586,
           0.11863433307836657,
           1.0199181482854207
          ],
          [
           1.7117704117129184,
           1.5767984270115756,
           1.9032668707941363,
           0.13789364509624968,
           0.5200900774249939,
           1.1945157028431515,
           1.4181727276044886,
           0.05336688279979851,
           0.5603423550633054,
           0.12903652291188994,
           0.5498603029008253,
           0.7926454691502656,
           0,
           0.984638788675063,
           0.16194469878093143,
           0.1310357411280525,
           0.2745250717502673,
           1.9641699908276928,
           0.35672066253523904,
           0.2679492980533851
          ],
          [
           0.4065969563929761,
           0.7708876332569593,
           0.5952873160621235,
           0.7879471609294351,
           1.6871003449499251,
           0.1210637308849053,
           0.602185317615793,
           1.230829178037625,
           0.2149104794909188,
           0.5311260146317158,
           1.294791050275327,
           1.2014255500970987,
           0.984638788675063,
           0,
           0.5124015748173164,
           0.6862922320880684,
           1.0694488698866924,
           0.766564816528133,
           1.111128303187599,
           0.3084314402016365
          ],
          [
           1.405733449422542,
           1.5804334567903842,
           1.5329381242821911,
           0.3083832826394445,
           1.071636036328469,
           0.8596008571603873,
           1.3771465801442593,
           0.2670140783821564,
           0.38239076238579084,
           0.10328610315693831,
           0.9919162718691261,
           1.1805100873565766,
           0.16194469878093143,
           0.5124015748173164,
           0,
           0.023431379203567193,
           0.6139996677132586,
           1.7152734286394349,
           0.721560773899425,
           0.05433292160656267
          ],
          [
           1.577684359544993,
           1.7370453466128646,
           1.6221495214055792,
           0.3744319118558337,
           1.0024049907525316,
           1.0728528597557605,
           1.5618360363572108,
           0.16894751211633086,
           0.5603249002290341,
           0.17872659630317922,
           1.0300059803908415,
           1.257502293025802,
           0.1310357411280525,
           0.6862922320880684,
           0.023431379203567193,
           1.1102230246251565e-16,
           0.6626081638835412,
           1.8000057325248089,
           0.7746853388922222,
           0.14613251144295447
          ],
          [
           1.3204770277863502,
           0.903507554102531,
           1.7533480387650637,
           0.07201299864424049,
           0.2295015178821136,
           0.9188647342220018,
           0.779964002418098,
           0.4362891907363815,
           0.43753283654963604,
           0.27901189567932116,
           0.07466783319344572,
           0.17921120999492401,
           0.2745250717502673,
           1.0694488698866924,
           0.6139996677132586,
           0.6626081638835412,
           -2.220446049250313e-16,
           1.6556086475655931,
           0.006822651858262807,
           0.5469634246357982
          ],
          [
           0.1302242440204041,
           0.31174104173570094,
           0.03395335158949431,
           1.7382890218787077,
           1.5850597917322111,
           0.553355504814792,
           0.42040845403967186,
           1.9931723426510959,
           1.188763308837984,
           1.7094472334600872,
           1.430375557362475,
           1.161320501072586,
           1.9641699908276928,
           0.766564816528133,
           1.7152734286394349,
           1.8000057325248089,
           1.6556086475655931,
           -2.220446049250313e-16,
           1.579618253775108,
           1.540067063338903
          ],
          [
           1.2604602789548365,
           0.8090679390171652,
           1.702845903302305,
           0.11712322495630367,
           0.202017613344738,
           0.9074171781717689,
           0.7029649550916077,
           0.519327118951683,
           0.47265517449137506,
           0.3556682002620457,
           0.0385447259951186,
           0.11863433307836657,
           0.35672066253523904,
           1.111128303187599,
           0.721560773899425,
           0.7746853388922222,
           0.006822651858262807,
           1.579618253775108,
           1.1102230246251565e-16,
           0.6370989388007683
          ],
          [
           1.121960605970668,
           1.286839600595893,
           1.3732005772910374,
           0.2494314445331478,
           1.1394558640695598,
           0.5568306922917172,
           1.0586626292961043,
           0.46689298703507287,
           0.1637148815870182,
           0.05870435208928981,
           0.9043139173396992,
           1.0199181482854207,
           0.2679492980533851,
           0.3084314402016365,
           0.05433292160656267,
           0.14613251144295447,
           0.5469634246357982,
           1.540067063338903,
           0.6370989388007683,
           2.220446049250313e-16
          ]
         ]
        }
       ],
       "layout": {
        "coloraxis": {
         "colorbar": {
          "title": {
           "text": "Cosine Distance"
          }
         },
         "colorscale": [
          [
           0,
           "#0d0887"
          ],
          [
           0.1111111111111111,
           "#46039f"
          ],
          [
           0.2222222222222222,
           "#7201a8"
          ],
          [
           0.3333333333333333,
           "#9c179e"
          ],
          [
           0.4444444444444444,
           "#bd3786"
          ],
          [
           0.5555555555555556,
           "#d8576b"
          ],
          [
           0.6666666666666666,
           "#ed7953"
          ],
          [
           0.7777777777777778,
           "#fb9f3a"
          ],
          [
           0.8888888888888888,
           "#fdca26"
          ],
          [
           1,
           "#f0f921"
          ]
         ]
        },
        "template": {
         "data": {
          "bar": [
           {
            "error_x": {
             "color": "#2a3f5f"
            },
            "error_y": {
             "color": "#2a3f5f"
            },
            "marker": {
             "line": {
              "color": "#E5ECF6",
              "width": 0.5
             },
             "pattern": {
              "fillmode": "overlay",
              "size": 10,
              "solidity": 0.2
             }
            },
            "type": "bar"
           }
          ],
          "barpolar": [
           {
            "marker": {
             "line": {
              "color": "#E5ECF6",
              "width": 0.5
             },
             "pattern": {
              "fillmode": "overlay",
              "size": 10,
              "solidity": 0.2
             }
            },
            "type": "barpolar"
           }
          ],
          "carpet": [
           {
            "aaxis": {
             "endlinecolor": "#2a3f5f",
             "gridcolor": "white",
             "linecolor": "white",
             "minorgridcolor": "white",
             "startlinecolor": "#2a3f5f"
            },
            "baxis": {
             "endlinecolor": "#2a3f5f",
             "gridcolor": "white",
             "linecolor": "white",
             "minorgridcolor": "white",
             "startlinecolor": "#2a3f5f"
            },
            "type": "carpet"
           }
          ],
          "choropleth": [
           {
            "colorbar": {
             "outlinewidth": 0,
             "ticks": ""
            },
            "type": "choropleth"
           }
          ],
          "contour": [
           {
            "colorbar": {
             "outlinewidth": 0,
             "ticks": ""
            },
            "colorscale": [
             [
              0,
              "#0d0887"
             ],
             [
              0.1111111111111111,
              "#46039f"
             ],
             [
              0.2222222222222222,
              "#7201a8"
             ],
             [
              0.3333333333333333,
              "#9c179e"
             ],
             [
              0.4444444444444444,
              "#bd3786"
             ],
             [
              0.5555555555555556,
              "#d8576b"
             ],
             [
              0.6666666666666666,
              "#ed7953"
             ],
             [
              0.7777777777777778,
              "#fb9f3a"
             ],
             [
              0.8888888888888888,
              "#fdca26"
             ],
             [
              1,
              "#f0f921"
             ]
            ],
            "type": "contour"
           }
          ],
          "contourcarpet": [
           {
            "colorbar": {
             "outlinewidth": 0,
             "ticks": ""
            },
            "type": "contourcarpet"
           }
          ],
          "heatmap": [
           {
            "colorbar": {
             "outlinewidth": 0,
             "ticks": ""
            },
            "colorscale": [
             [
              0,
              "#0d0887"
             ],
             [
              0.1111111111111111,
              "#46039f"
             ],
             [
              0.2222222222222222,
              "#7201a8"
             ],
             [
              0.3333333333333333,
              "#9c179e"
             ],
             [
              0.4444444444444444,
              "#bd3786"
             ],
             [
              0.5555555555555556,
              "#d8576b"
             ],
             [
              0.6666666666666666,
              "#ed7953"
             ],
             [
              0.7777777777777778,
              "#fb9f3a"
             ],
             [
              0.8888888888888888,
              "#fdca26"
             ],
             [
              1,
              "#f0f921"
             ]
            ],
            "type": "heatmap"
           }
          ],
          "heatmapgl": [
           {
            "colorbar": {
             "outlinewidth": 0,
             "ticks": ""
            },
            "colorscale": [
             [
              0,
              "#0d0887"
             ],
             [
              0.1111111111111111,
              "#46039f"
             ],
             [
              0.2222222222222222,
              "#7201a8"
             ],
             [
              0.3333333333333333,
              "#9c179e"
             ],
             [
              0.4444444444444444,
              "#bd3786"
             ],
             [
              0.5555555555555556,
              "#d8576b"
             ],
             [
              0.6666666666666666,
              "#ed7953"
             ],
             [
              0.7777777777777778,
              "#fb9f3a"
             ],
             [
              0.8888888888888888,
              "#fdca26"
             ],
             [
              1,
              "#f0f921"
             ]
            ],
            "type": "heatmapgl"
           }
          ],
          "histogram": [
           {
            "marker": {
             "pattern": {
              "fillmode": "overlay",
              "size": 10,
              "solidity": 0.2
             }
            },
            "type": "histogram"
           }
          ],
          "histogram2d": [
           {
            "colorbar": {
             "outlinewidth": 0,
             "ticks": ""
            },
            "colorscale": [
             [
              0,
              "#0d0887"
             ],
             [
              0.1111111111111111,
              "#46039f"
             ],
             [
              0.2222222222222222,
              "#7201a8"
             ],
             [
              0.3333333333333333,
              "#9c179e"
             ],
             [
              0.4444444444444444,
              "#bd3786"
             ],
             [
              0.5555555555555556,
              "#d8576b"
             ],
             [
              0.6666666666666666,
              "#ed7953"
             ],
             [
              0.7777777777777778,
              "#fb9f3a"
             ],
             [
              0.8888888888888888,
              "#fdca26"
             ],
             [
              1,
              "#f0f921"
             ]
            ],
            "type": "histogram2d"
           }
          ],
          "histogram2dcontour": [
           {
            "colorbar": {
             "outlinewidth": 0,
             "ticks": ""
            },
            "colorscale": [
             [
              0,
              "#0d0887"
             ],
             [
              0.1111111111111111,
              "#46039f"
             ],
             [
              0.2222222222222222,
              "#7201a8"
             ],
             [
              0.3333333333333333,
              "#9c179e"
             ],
             [
              0.4444444444444444,
              "#bd3786"
             ],
             [
              0.5555555555555556,
              "#d8576b"
             ],
             [
              0.6666666666666666,
              "#ed7953"
             ],
             [
              0.7777777777777778,
              "#fb9f3a"
             ],
             [
              0.8888888888888888,
              "#fdca26"
             ],
             [
              1,
              "#f0f921"
             ]
            ],
            "type": "histogram2dcontour"
           }
          ],
          "mesh3d": [
           {
            "colorbar": {
             "outlinewidth": 0,
             "ticks": ""
            },
            "type": "mesh3d"
           }
          ],
          "parcoords": [
           {
            "line": {
             "colorbar": {
              "outlinewidth": 0,
              "ticks": ""
             }
            },
            "type": "parcoords"
           }
          ],
          "pie": [
           {
            "automargin": true,
            "type": "pie"
           }
          ],
          "scatter": [
           {
            "fillpattern": {
             "fillmode": "overlay",
             "size": 10,
             "solidity": 0.2
            },
            "type": "scatter"
           }
          ],
          "scatter3d": [
           {
            "line": {
             "colorbar": {
              "outlinewidth": 0,
              "ticks": ""
             }
            },
            "marker": {
             "colorbar": {
              "outlinewidth": 0,
              "ticks": ""
             }
            },
            "type": "scatter3d"
           }
          ],
          "scattercarpet": [
           {
            "marker": {
             "colorbar": {
              "outlinewidth": 0,
              "ticks": ""
             }
            },
            "type": "scattercarpet"
           }
          ],
          "scattergeo": [
           {
            "marker": {
             "colorbar": {
              "outlinewidth": 0,
              "ticks": ""
             }
            },
            "type": "scattergeo"
           }
          ],
          "scattergl": [
           {
            "marker": {
             "colorbar": {
              "outlinewidth": 0,
              "ticks": ""
             }
            },
            "type": "scattergl"
           }
          ],
          "scattermapbox": [
           {
            "marker": {
             "colorbar": {
              "outlinewidth": 0,
              "ticks": ""
             }
            },
            "type": "scattermapbox"
           }
          ],
          "scatterpolar": [
           {
            "marker": {
             "colorbar": {
              "outlinewidth": 0,
              "ticks": ""
             }
            },
            "type": "scatterpolar"
           }
          ],
          "scatterpolargl": [
           {
            "marker": {
             "colorbar": {
              "outlinewidth": 0,
              "ticks": ""
             }
            },
            "type": "scatterpolargl"
           }
          ],
          "scatterternary": [
           {
            "marker": {
             "colorbar": {
              "outlinewidth": 0,
              "ticks": ""
             }
            },
            "type": "scatterternary"
           }
          ],
          "surface": [
           {
            "colorbar": {
             "outlinewidth": 0,
             "ticks": ""
            },
            "colorscale": [
             [
              0,
              "#0d0887"
             ],
             [
              0.1111111111111111,
              "#46039f"
             ],
             [
              0.2222222222222222,
              "#7201a8"
             ],
             [
              0.3333333333333333,
              "#9c179e"
             ],
             [
              0.4444444444444444,
              "#bd3786"
             ],
             [
              0.5555555555555556,
              "#d8576b"
             ],
             [
              0.6666666666666666,
              "#ed7953"
             ],
             [
              0.7777777777777778,
              "#fb9f3a"
             ],
             [
              0.8888888888888888,
              "#fdca26"
             ],
             [
              1,
              "#f0f921"
             ]
            ],
            "type": "surface"
           }
          ],
          "table": [
           {
            "cells": {
             "fill": {
              "color": "#EBF0F8"
             },
             "line": {
              "color": "white"
             }
            },
            "header": {
             "fill": {
              "color": "#C8D4E3"
             },
             "line": {
              "color": "white"
             }
            },
            "type": "table"
           }
          ]
         },
         "layout": {
          "annotationdefaults": {
           "arrowcolor": "#2a3f5f",
           "arrowhead": 0,
           "arrowwidth": 1
          },
          "autotypenumbers": "strict",
          "coloraxis": {
           "colorbar": {
            "outlinewidth": 0,
            "ticks": ""
           }
          },
          "colorscale": {
           "diverging": [
            [
             0,
             "#8e0152"
            ],
            [
             0.1,
             "#c51b7d"
            ],
            [
             0.2,
             "#de77ae"
            ],
            [
             0.3,
             "#f1b6da"
            ],
            [
             0.4,
             "#fde0ef"
            ],
            [
             0.5,
             "#f7f7f7"
            ],
            [
             0.6,
             "#e6f5d0"
            ],
            [
             0.7,
             "#b8e186"
            ],
            [
             0.8,
             "#7fbc41"
            ],
            [
             0.9,
             "#4d9221"
            ],
            [
             1,
             "#276419"
            ]
           ],
           "sequential": [
            [
             0,
             "#0d0887"
            ],
            [
             0.1111111111111111,
             "#46039f"
            ],
            [
             0.2222222222222222,
             "#7201a8"
            ],
            [
             0.3333333333333333,
             "#9c179e"
            ],
            [
             0.4444444444444444,
             "#bd3786"
            ],
            [
             0.5555555555555556,
             "#d8576b"
            ],
            [
             0.6666666666666666,
             "#ed7953"
            ],
            [
             0.7777777777777778,
             "#fb9f3a"
            ],
            [
             0.8888888888888888,
             "#fdca26"
            ],
            [
             1,
             "#f0f921"
            ]
           ],
           "sequentialminus": [
            [
             0,
             "#0d0887"
            ],
            [
             0.1111111111111111,
             "#46039f"
            ],
            [
             0.2222222222222222,
             "#7201a8"
            ],
            [
             0.3333333333333333,
             "#9c179e"
            ],
            [
             0.4444444444444444,
             "#bd3786"
            ],
            [
             0.5555555555555556,
             "#d8576b"
            ],
            [
             0.6666666666666666,
             "#ed7953"
            ],
            [
             0.7777777777777778,
             "#fb9f3a"
            ],
            [
             0.8888888888888888,
             "#fdca26"
            ],
            [
             1,
             "#f0f921"
            ]
           ]
          },
          "colorway": [
           "#636efa",
           "#EF553B",
           "#00cc96",
           "#ab63fa",
           "#FFA15A",
           "#19d3f3",
           "#FF6692",
           "#B6E880",
           "#FF97FF",
           "#FECB52"
          ],
          "font": {
           "color": "#2a3f5f"
          },
          "geo": {
           "bgcolor": "white",
           "lakecolor": "white",
           "landcolor": "#E5ECF6",
           "showlakes": true,
           "showland": true,
           "subunitcolor": "white"
          },
          "hoverlabel": {
           "align": "left"
          },
          "hovermode": "closest",
          "mapbox": {
           "style": "light"
          },
          "paper_bgcolor": "white",
          "plot_bgcolor": "#E5ECF6",
          "polar": {
           "angularaxis": {
            "gridcolor": "white",
            "linecolor": "white",
            "ticks": ""
           },
           "bgcolor": "#E5ECF6",
           "radialaxis": {
            "gridcolor": "white",
            "linecolor": "white",
            "ticks": ""
           }
          },
          "scene": {
           "xaxis": {
            "backgroundcolor": "#E5ECF6",
            "gridcolor": "white",
            "gridwidth": 2,
            "linecolor": "white",
            "showbackground": true,
            "ticks": "",
            "zerolinecolor": "white"
           },
           "yaxis": {
            "backgroundcolor": "#E5ECF6",
            "gridcolor": "white",
            "gridwidth": 2,
            "linecolor": "white",
            "showbackground": true,
            "ticks": "",
            "zerolinecolor": "white"
           },
           "zaxis": {
            "backgroundcolor": "#E5ECF6",
            "gridcolor": "white",
            "gridwidth": 2,
            "linecolor": "white",
            "showbackground": true,
            "ticks": "",
            "zerolinecolor": "white"
           }
          },
          "shapedefaults": {
           "line": {
            "color": "#2a3f5f"
           }
          },
          "ternary": {
           "aaxis": {
            "gridcolor": "white",
            "linecolor": "white",
            "ticks": ""
           },
           "baxis": {
            "gridcolor": "white",
            "linecolor": "white",
            "ticks": ""
           },
           "bgcolor": "#E5ECF6",
           "caxis": {
            "gridcolor": "white",
            "linecolor": "white",
            "ticks": ""
           }
          },
          "title": {
           "x": 0.05
          },
          "xaxis": {
           "automargin": true,
           "gridcolor": "white",
           "linecolor": "white",
           "ticks": "",
           "title": {
            "standoff": 15
           },
           "zerolinecolor": "white",
           "zerolinewidth": 2
          },
          "yaxis": {
           "automargin": true,
           "gridcolor": "white",
           "linecolor": "white",
           "ticks": "",
           "title": {
            "standoff": 15
           },
           "zerolinecolor": "white",
           "zerolinewidth": 2
          }
         }
        },
        "title": {
         "text": "Confusion Matrix"
        },
        "xaxis": {
         "anchor": "y",
         "constrain": "domain",
         "domain": [
          0,
          1
         ],
         "nticks": 20,
         "scaleanchor": "y"
        },
        "yaxis": {
         "anchor": "x",
         "autorange": "reversed",
         "constrain": "domain",
         "domain": [
          0,
          1
         ],
         "nticks": 20
        }
       }
      }
     },
     "metadata": {},
     "output_type": "display_data"
    },
    {
     "data": {
      "application/vnd.plotly.v1+json": {
       "config": {
        "plotlyServerURL": "https://plot.ly"
       },
       "data": [
        {
         "type": "scatter",
         "x": [
          0,
          15,
          30,
          45,
          60,
          75,
          90,
          105,
          120,
          135,
          150,
          165,
          180,
          195,
          210,
          225,
          240,
          255,
          270,
          285,
          300,
          315,
          330,
          345,
          360,
          375,
          390,
          405,
          420,
          435,
          450,
          465,
          480,
          495,
          510,
          525,
          540,
          555,
          570,
          585,
          600,
          615,
          630,
          645,
          660,
          675,
          690,
          705,
          720,
          735,
          750,
          765,
          780,
          795,
          810,
          825,
          840,
          855,
          870,
          885,
          900,
          915,
          930,
          945,
          960,
          975,
          990,
          1005,
          1020,
          1035,
          1050,
          1065,
          1080,
          1095,
          1110,
          1125,
          1140,
          1155,
          1170,
          1185,
          1200,
          1215,
          1230,
          1245,
          1260,
          1275,
          1290,
          1305,
          1320,
          1335,
          1350,
          1365,
          1380,
          1395,
          1410,
          1425,
          1440,
          1455,
          1470,
          1485,
          1500,
          1515,
          1530,
          1545,
          1560,
          1575,
          1590,
          1605,
          1620,
          1635,
          1650,
          1665,
          1680,
          1695,
          1710,
          1725,
          1740,
          1755,
          1770,
          1785,
          1800,
          1815,
          1830,
          1845,
          1860,
          1875,
          1890,
          1905,
          1920,
          1935,
          1950,
          1965,
          1980,
          1995,
          2010,
          2025,
          2040,
          2055,
          2070,
          2085,
          2100,
          2115,
          2130,
          2145,
          2160,
          2175,
          2190,
          2205,
          2220,
          2235,
          2250,
          2265,
          2280,
          2295,
          2310,
          2325,
          2340,
          2355,
          2370,
          2385,
          2400,
          2415,
          2430,
          2445,
          2460,
          2475,
          2490,
          2505,
          2520,
          2535,
          2550,
          2565,
          2580,
          2595,
          2610,
          2625,
          2640,
          2655,
          2670,
          2685,
          2700,
          2715,
          2730,
          2745,
          2760,
          2775,
          2790,
          2805,
          2820,
          2835,
          2850,
          2865,
          2880,
          2895,
          2910,
          2925,
          2940,
          2955,
          2970,
          2985,
          3000,
          3015,
          3030,
          3045,
          3060,
          3075,
          3090,
          3105,
          3120,
          3135,
          3150,
          3165,
          3180,
          3195,
          3210,
          3225,
          3240,
          3255,
          3270,
          3285,
          3300,
          3315,
          3330,
          3345,
          3360,
          3375,
          3390,
          3405,
          3420,
          3435,
          3450,
          3465,
          3480,
          3495,
          3510,
          3525,
          3540,
          3555,
          3570,
          3585,
          3600,
          3615,
          3630,
          3645,
          3660,
          3675,
          3690,
          3705,
          3720,
          3735,
          3750,
          3765,
          3780,
          3795,
          3810,
          3825,
          3840,
          3855,
          3870,
          3885,
          3900,
          3915,
          3930,
          3945,
          3960,
          3975,
          3990,
          4005,
          4020,
          4035,
          4050,
          4065,
          4080,
          4095,
          4110,
          4125,
          4140,
          4155,
          4170,
          4185,
          4200,
          4215,
          4230,
          4245,
          4260,
          4275,
          4290,
          4305,
          4320,
          4335,
          4350,
          4365,
          4380,
          4395,
          4410,
          4425,
          4440,
          4455,
          4470,
          4485,
          4500,
          4515,
          4530,
          4545,
          4560,
          4575,
          4590,
          4605,
          4620,
          4635,
          4650,
          4665,
          4680,
          4695,
          4710,
          4725,
          4740,
          4755,
          4770,
          4785,
          4800,
          4815,
          4830,
          4845,
          4860,
          4875,
          4890,
          4905,
          4920,
          4935,
          4950,
          4965,
          4980,
          4995,
          5010,
          5025,
          5040,
          5055,
          5070,
          5085,
          5100,
          5115,
          5130,
          5145,
          5160,
          5175,
          5190,
          5205,
          5220,
          5235,
          5250,
          5265,
          5280,
          5295,
          5310,
          5325,
          5340,
          5355,
          5370,
          5385,
          5400,
          5415,
          5430,
          5445,
          5460,
          5475,
          5490,
          5505,
          5520,
          5535,
          5550,
          5565,
          5580,
          5595,
          5610,
          5625,
          5640,
          5655,
          5670,
          5685,
          5700,
          5715,
          5730,
          5745,
          5760,
          5775,
          5790,
          5805,
          5820,
          5835,
          5850,
          5865,
          5880,
          5895,
          5910,
          5925,
          5940,
          5955,
          5970,
          5985,
          6000,
          6015,
          6030,
          6045,
          6060,
          6075,
          6090,
          6105,
          6120,
          6135,
          6150,
          6165,
          6180,
          6195,
          6210,
          6225,
          6240,
          6255,
          6270,
          6285,
          6300,
          6315,
          6330,
          6345,
          6360,
          6375,
          6390,
          6405,
          6420,
          6435,
          6450,
          6465,
          6480,
          6495,
          6510,
          6525,
          6540,
          6555,
          6570,
          6585,
          6600,
          6615,
          6630,
          6645,
          6660,
          6675,
          6690,
          6705,
          6720,
          6735,
          6750,
          6765,
          6780,
          6795,
          6810,
          6825,
          6840,
          6855,
          6870,
          6885,
          6900,
          6915,
          6930,
          6945,
          6960,
          6975,
          6990,
          7005,
          7020,
          7035,
          7050,
          7065,
          7080,
          7095,
          7110,
          7125,
          7140,
          7155,
          7170,
          7185,
          7200,
          7215,
          7230,
          7245,
          7260,
          7275,
          7290,
          7305,
          7320,
          7335,
          7350,
          7365,
          7380,
          7395,
          7410,
          7425,
          7440,
          7455,
          7470,
          7485,
          7500,
          7515,
          7530,
          7545,
          7560,
          7575,
          7590,
          7605,
          7620,
          7635,
          7650,
          7665,
          7680,
          7695,
          7710,
          7725,
          7740,
          7755,
          7770,
          7785,
          7800,
          7815,
          7830,
          7845,
          7860,
          7875,
          7890,
          7905,
          7920,
          7935,
          7950,
          7965,
          7980,
          7995,
          8010,
          8025,
          8040,
          8055,
          8070,
          8085,
          8100,
          8115,
          8130,
          8145,
          8160,
          8175,
          8190,
          8205,
          8220,
          8235,
          8250,
          8265,
          8280,
          8295,
          8310,
          8325,
          8340,
          8355,
          8370,
          8385,
          8400,
          8415,
          8430,
          8445,
          8460,
          8475,
          8490,
          8505,
          8520,
          8535,
          8550,
          8565,
          8580,
          8595,
          8610,
          8625,
          8640,
          8655,
          8670,
          8685,
          8700,
          8715,
          8730,
          8745,
          8760,
          8775,
          8790,
          8805,
          8820,
          8835,
          8850,
          8865,
          8880,
          8895,
          8910,
          8925,
          8940,
          8955,
          8970,
          8985,
          9000,
          9015,
          9030,
          9045,
          9060,
          9075,
          9090,
          9105,
          9120,
          9135,
          9150,
          9165,
          9180,
          9195,
          9210,
          9225,
          9240,
          9255,
          9270,
          9285,
          9300,
          9315,
          9330,
          9345,
          9360,
          9375,
          9390,
          9405,
          9420,
          9435,
          9450,
          9465,
          9480,
          9495,
          9510,
          9525,
          9540,
          9555,
          9570,
          9585,
          9600,
          9615,
          9630,
          9645,
          9660,
          9675,
          9690,
          9705,
          9720,
          9735,
          9750,
          9765,
          9780,
          9795,
          9810,
          9825,
          9840,
          9855,
          9870,
          9885,
          9900,
          9915,
          9930,
          9945,
          9960,
          9975,
          9990,
          10005,
          10020,
          10035,
          10050,
          10065,
          10080,
          10095,
          10110,
          10125,
          10140,
          10155,
          10170,
          10185,
          10200,
          10215,
          10230,
          10245,
          10260,
          10275,
          10290,
          10305,
          10320,
          10335,
          10350,
          10365,
          10380,
          10395,
          10410,
          10425,
          10440,
          10455,
          10470,
          10485,
          10500,
          10515,
          10530,
          10545,
          10560,
          10575,
          10590,
          10605,
          10620,
          10635,
          10650,
          10665,
          10680,
          10695,
          10710,
          10725,
          10740,
          10755,
          10770,
          10785,
          10800,
          10815,
          10830,
          10845,
          10860,
          10875,
          10890,
          10905,
          10920,
          10935,
          10950,
          10965,
          10980,
          10995,
          11010,
          11025,
          11040,
          11055,
          11070,
          11085,
          11100,
          11115,
          11130,
          11145,
          11160,
          11175,
          11190,
          11205,
          11220,
          11235,
          11250,
          11265,
          11280,
          11295,
          11310,
          11325,
          11340,
          11355,
          11370,
          11385,
          11400,
          11415,
          11430,
          11445,
          11460,
          11475,
          11490,
          11505,
          11520,
          11535,
          11550,
          11565,
          11580,
          11595,
          11610,
          11625,
          11640,
          11655,
          11670,
          11685,
          11700,
          11715,
          11730,
          11745,
          11760,
          11775,
          11790,
          11805,
          11820,
          11835,
          11850,
          11865,
          11880,
          11895,
          11910,
          11925,
          11940,
          11955,
          11970,
          11985,
          12000,
          12015,
          12030,
          12045,
          12060,
          12075,
          12090,
          12105,
          12120,
          12135,
          12150,
          12165,
          12180,
          12195,
          12210,
          12225,
          12240,
          12255,
          12270,
          12285,
          12300,
          12315,
          12330,
          12345,
          12360,
          12375,
          12390,
          12405,
          12420,
          12435,
          12450,
          12465,
          12480,
          12495,
          12510,
          12525,
          12540,
          12555,
          12570,
          12585,
          12600,
          12615,
          12630,
          12645,
          12660,
          12675,
          12690,
          12705,
          12720,
          12735,
          12750,
          12765,
          12780,
          12795,
          12810,
          12825,
          12840,
          12855,
          12870,
          12885,
          12900,
          12915,
          12930,
          12945,
          12960,
          12975,
          12990,
          13005,
          13020,
          13035,
          13050,
          13065,
          13080,
          13095,
          13110,
          13125,
          13140,
          13155,
          13170,
          13185,
          13200,
          13215,
          13230,
          13245,
          13260,
          13275,
          13290,
          13305,
          13320,
          13335,
          13350,
          13365,
          13380,
          13395,
          13410,
          13425,
          13440,
          13455,
          13470,
          13485,
          13500,
          13515,
          13530,
          13545,
          13560,
          13575,
          13590,
          13605,
          13620,
          13635,
          13650,
          13665,
          13680,
          13695,
          13710,
          13725,
          13740,
          13755,
          13770,
          13785,
          13800,
          13815,
          13830,
          13845,
          13860,
          13875,
          13890,
          13905,
          13920,
          13935,
          13950,
          13965,
          13980,
          13995,
          14010,
          14025,
          14040,
          14055,
          14070,
          14085,
          14100,
          14115,
          14130,
          14145,
          14160,
          14175,
          14190,
          14205,
          14220,
          14235,
          14250,
          14265,
          14280,
          14295,
          14310,
          14325,
          14340,
          14355,
          14370,
          14385,
          14400,
          14415,
          14430,
          14445,
          14460,
          14475,
          14490,
          14505,
          14520,
          14535,
          14550,
          14565,
          14580,
          14595,
          14610,
          14625,
          14640,
          14655,
          14670,
          14685,
          14700,
          14715,
          14730,
          14745,
          14760,
          14775,
          14790,
          14805,
          14820,
          14835,
          14850,
          14865,
          14880,
          14895,
          14910,
          14925,
          14940,
          14955,
          14970,
          14985,
          15000
         ],
         "xaxis": "x",
         "y": [
          0.6887997949857286,
          0.6856650747803047,
          0.6799673821252757,
          0.6813415082728161,
          0.6799298421266665,
          0.6785709463367943,
          0.6796849501523139,
          0.6748415391646082,
          0.6917019022033658,
          0.6796976307428197,
          0.6624362487690808,
          0.6838222055375633,
          0.6826478009046318,
          0.6832329164562307,
          0.6817661497017771,
          0.6767392234205505,
          0.6802439781863905,
          0.6738111545673131,
          0.6872844241075313,
          0.6805887372096062,
          0.6763754953648766,
          0.6724447604396009,
          0.6839685168293999,
          0.6788947647511914,
          0.6750180307120439,
          0.6817006652359736,
          0.6636555949119702,
          0.6789116942511296,
          0.670533626207559,
          0.6725496533893983,
          0.6698921098744903,
          0.6824697045292085,
          0.6774570061212837,
          0.6727566867186726,
          0.6890494456096203,
          0.6721472472875727,
          0.689270628305729,
          0.6728423905690669,
          0.6841495881555253,
          0.6572842943493284,
          0.6686199533150179,
          0.6838685351855349,
          0.6745079790826618,
          0.6725365804527706,
          0.6634207047944155,
          0.6850976096075447,
          0.6701047028414924,
          0.6806347793130433,
          0.6705190863668697,
          0.6740789495907485,
          0.6661742402883499,
          0.6794257652338525,
          0.6585592342312262,
          0.6685921181616614,
          0.657191607374341,
          0.6739646993615478,
          0.6810862152388013,
          0.6624352437259525,
          0.6723882958592566,
          0.6769117664076046,
          0.6590690693431314,
          0.6721593762631807,
          0.6554965992303602,
          0.6756230693039665,
          0.6675785078324873,
          0.6673741566863072,
          0.6664673215349419,
          0.6665431662874162,
          0.6542201627462707,
          0.6689172057649003,
          0.6687099796516629,
          0.678170888092022,
          0.671281364896444,
          0.6660569107094996,
          0.6616795014250871,
          0.6763601601380734,
          0.6588021103137064,
          0.6716082485565517,
          0.6697132561892086,
          0.6580272641971276,
          0.6668129376288977,
          0.6529843335016747,
          0.6593219725638197,
          0.6486864494967837,
          0.666086001213484,
          0.6767217927484949,
          0.6571860015353821,
          0.6644634996290942,
          0.6547463028976128,
          0.6544661917780314,
          0.6542760103808029,
          0.6565561172329272,
          0.6650421621651526,
          0.6500622582654086,
          0.6626819602490984,
          0.6622383611431919,
          0.6562324607305471,
          0.6651056864674784,
          0.6619794968825694,
          0.6693124412282028,
          0.6573457302650285,
          0.6568161335033208,
          0.6597771453224182,
          0.6470054692527609,
          0.6589365188243043,
          0.6588713358869652,
          0.651762735077683,
          0.6547393805206418,
          0.6535754135702141,
          0.6637600580435716,
          0.6556092345528314,
          0.6762762957790608,
          0.6689849111004893,
          0.6562229455099488,
          0.6415799569247177,
          0.6542037356127104,
          0.6578580836894463,
          0.6657447994518179,
          0.6544672552735022,
          0.6535043029435624,
          0.660323762168201,
          0.6568385228862907,
          0.6585075107711404,
          0.6456417003859884,
          0.6613565488200996,
          0.6618588114520129,
          0.6543298003611342,
          0.6580406924074724,
          0.6495289090669919,
          0.6635871044201704,
          0.6435059678002929,
          0.6457815734573216,
          0.651316430124445,
          0.6659452535586667,
          0.6538490884563991,
          0.6515566976764856,
          0.6494669624195278,
          0.647263664876337,
          0.6519667494159835,
          0.6460570562284282,
          0.6383054535303646,
          0.6534603269265068,
          0.6520805573471984,
          0.6468465871983161,
          0.6412544065336385,
          0.6457052863772419,
          0.6401472435863895,
          0.647424633168321,
          0.6498858357543208,
          0.633701327782797,
          0.6506627846135085,
          0.6466652560401424,
          0.6478278297410694,
          0.6521669571659044,
          0.6549170011178591,
          0.6410608771402766,
          0.6469203400396851,
          0.6491706568253686,
          0.6449960876013,
          0.657460517926873,
          0.6490004592713606,
          0.6461616837939252,
          0.6383548985241867,
          0.6459550590032523,
          0.6430874985632054,
          0.6536243526882047,
          0.646041623292649,
          0.6462422858227092,
          0.638552852517963,
          0.6498388866106656,
          0.6480288380260555,
          0.6449418794137806,
          0.6496265484422256,
          0.6526115493749062,
          0.6418646084077386,
          0.6459240597133445,
          0.6280547089959879,
          0.6411921274437613,
          0.6474569596103691,
          0.6315246233943826,
          0.648441156335857,
          0.6373818231469768,
          0.6329734362821582,
          0.6640370019026748,
          0.637195064777149,
          0.6383343694484503,
          0.6468018761320155,
          0.6449932687463737,
          0.6287426078327428,
          0.6379241616264245,
          0.6501791384662888,
          0.6496537779922315,
          0.6327002551940597,
          0.6348836406906185,
          0.6441864901787197,
          0.6476510672348839,
          0.6441397859062686,
          0.6265872953848671,
          0.643981781662042,
          0.6390294527093758,
          0.6318294782267331,
          0.6370235987090641,
          0.6309643849335148,
          0.6308945879736713,
          0.6405613579379477,
          0.6508076663155511,
          0.6425250930984845,
          0.6324098981112887,
          0.6317561418386911,
          0.6481676519350785,
          0.6401799957719054,
          0.6371301763091638,
          0.6429712875298289,
          0.6247301823907025,
          0.6288279269840568,
          0.631433592446484,
          0.6249544133756586,
          0.6339909485081971,
          0.6325608393239731,
          0.6386218683796616,
          0.6164529955610184,
          0.6249768211752438,
          0.6319303258741749,
          0.6387694553362302,
          0.6314179856498654,
          0.6391037805816959,
          0.6304424745881755,
          0.6307558093542298,
          0.6222509096623925,
          0.6361314604391419,
          0.6423939441843542,
          0.6393604828151966,
          0.620127627577919,
          0.6404787155042408,
          0.6278746723414127,
          0.6368169388087283,
          0.6435954840775684,
          0.6386589822934093,
          0.6330680350227882,
          0.6279906331109228,
          0.6268539204831857,
          0.6272115133689092,
          0.6327427529684785,
          0.6276504209910105,
          0.619100718020974,
          0.6254227659282798,
          0.6168858943908432,
          0.6407742204859013,
          0.6301524881447454,
          0.624961789087625,
          0.6348092097185013,
          0.6226031264162091,
          0.628331903006482,
          0.6258099936896608,
          0.6332837117724346,
          0.6326785884242364,
          0.6238731261115308,
          0.6290533257576687,
          0.6232558927569503,
          0.6346728827628593,
          0.6271500086428485,
          0.6246172840293703,
          0.6195781230032186,
          0.6273736832183144,
          0.6150502473250016,
          0.6228273863162987,
          0.6093817533288411,
          0.6149628008449752,
          0.6231105250577311,
          0.6158778716943437,
          0.6254654069508199,
          0.6217961055060351,
          0.6295810059517195,
          0.6187541740238293,
          0.6086403613184721,
          0.6292117992876171,
          0.6080127952714056,
          0.6198590644738042,
          0.6141051251410534,
          0.6104483483963598,
          0.6053683001888486,
          0.6197043375917919,
          0.631859917414153,
          0.6213636183302799,
          0.6347343868378339,
          0.6251956968640927,
          0.6181059749681663,
          0.6165006924034397,
          0.6113216272044057,
          0.6335717229080329,
          0.6266236485588446,
          0.6119694991146292,
          0.6230246847510543,
          0.6230808210509087,
          0.6138846381777701,
          0.6084103469073749,
          0.6190970872922709,
          0.6265465303607863,
          0.6163421291865098,
          0.6277743056299852,
          0.6024218426847646,
          0.630391122529917,
          0.6155429719900817,
          0.611192120468097,
          0.6155396359401876,
          0.6108612565395175,
          0.6191530804012672,
          0.6217069670971828,
          0.6184333364421383,
          0.6014172981596992,
          0.6085759241538629,
          0.6102278161741924,
          0.6157183302138827,
          0.6165042393494269,
          0.6014180404295102,
          0.6159430677433607,
          0.6174392246716253,
          0.6129708462586821,
          0.6143906534680725,
          0.6258365335967201,
          0.6067451881312961,
          0.6130851590569744,
          0.6095622815113356,
          0.6224676218178238,
          0.6063996941381264,
          0.6134929225303509,
          0.608202981839386,
          0.615034566274929,
          0.6146933184663728,
          0.5982909959491362,
          0.6139152759188848,
          0.6194739821436784,
          0.6143522965855364,
          0.5988221856532633,
          0.5999189399741577,
          0.6138336754484977,
          0.6174071215793232,
          0.6089192942172834,
          0.608852408387323,
          0.6048012549837212,
          0.6108578852695562,
          0.6090621196872882,
          0.5963609167141996,
          0.6034425883673381,
          0.6014669841966171,
          0.6069768052173502,
          0.6165173678317107,
          0.6031774765515369,
          0.6039826379554447,
          0.600198580282242,
          0.5968218743022855,
          0.593219613695988,
          0.6034425588515864,
          0.6101006153837952,
          0.6085607937132408,
          0.603818683790626,
          0.593619005124255,
          0.6053877786890182,
          0.5925584079778022,
          0.5954048147724594,
          0.6068597395228297,
          0.5967393118971119,
          0.6000044617279352,
          0.5943767378157302,
          0.6042119579812828,
          0.5960771576204558,
          0.6045303533646285,
          0.5955266290230808,
          0.5974941791823423,
          0.5967803024864279,
          0.591094735850084,
          0.6001764015325021,
          0.5803961660101152,
          0.6080995249056399,
          0.594746466102694,
          0.5986404157934919,
          0.6069559560402794,
          0.6028917111519568,
          0.6006000666209503,
          0.5918034169144456,
          0.5995316418825887,
          0.5923946042524562,
          0.5868513999184766,
          0.6048703744657805,
          0.6103459835670606,
          0.590110284851056,
          0.5862390117761734,
          0.5858461665081217,
          0.5877600509084406,
          0.5929701987903633,
          0.5905612465408101,
          0.5855432113905503,
          0.5982365985961032,
          0.5823568909448888,
          0.5911090894659946,
          0.5865501004179373,
          0.5864613597341379,
          0.5992879993622244,
          0.5862615555180418,
          0.5895548845979218,
          0.5840874787578274,
          0.5900540135446378,
          0.5871227198657827,
          0.5988074125333076,
          0.5844912448667021,
          0.5886815315482863,
          0.5810545925965649,
          0.5861330395813074,
          0.5906876466951135,
          0.575161527635288,
          0.5948458781083217,
          0.5850833640917444,
          0.5767629499508931,
          0.5793409678559331,
          0.5982737558947652,
          0.5899364157134988,
          0.5739905712605204,
          0.5748687093326563,
          0.577512000222475,
          0.5779286642827273,
          0.5879743095394765,
          0.5675892431719691,
          0.5795900367599817,
          0.5712362829417642,
          0.5720258676560511,
          0.5711078147874689,
          0.5778028012068671,
          0.5738946426955548,
          0.5798221953651066,
          0.5703384593316192,
          0.559643813928795,
          0.5891070920391096,
          0.5825003275323384,
          0.5771323053189062,
          0.5616712178953112,
          0.5767246168531569,
          0.575367250237215,
          0.580576585412735,
          0.559578214265576,
          0.5691565031741037,
          0.5774572097324764,
          0.5548620875651394,
          0.5712722406914805,
          0.5892420405104775,
          0.5827994061774481,
          0.5617022742320981,
          0.560466150718028,
          0.5693476214355917,
          0.5646508776805069,
          0.5709157342266163,
          0.5608029146336593,
          0.5718165878438599,
          0.5692760532800959,
          0.570092167309205,
          0.5617544834579372,
          0.5603928425037636,
          0.5826136209620586,
          0.5679368546476898,
          0.5589232977104865,
          0.5633716993227766,
          0.5623487389016107,
          0.5706076891729255,
          0.5682851629189801,
          0.5680390526458058,
          0.5627312567000169,
          0.5370280725807955,
          0.5547103042611298,
          0.5645979427308216,
          0.5659225448843996,
          0.5626559480564386,
          0.5575381167880127,
          0.569351854956811,
          0.5604156219747499,
          0.5564726245250542,
          0.560797197724459,
          0.5565689872069708,
          0.5653478364648155,
          0.5437518808299454,
          0.5482996683086174,
          0.5569192957213986,
          0.559949467030116,
          0.5493253167908122,
          0.549811600996313,
          0.5423241583766808,
          0.5605040465850428,
          0.5559569046516739,
          0.5439145433798197,
          0.5440021394314469,
          0.5494792645006444,
          0.5519684151666395,
          0.5426799435553321,
          0.5580598831786708,
          0.5510427763072762,
          0.5418504912406914,
          0.5512968005172059,
          0.5503719214085845,
          0.5488439740504846,
          0.5478397693797779,
          0.5338505912449116,
          0.5515576032063465,
          0.5420486439469548,
          0.5465559068662779,
          0.5436463605422001,
          0.5631400918965572,
          0.5521398161338814,
          0.5444442693516883,
          0.5378805153156122,
          0.5530317266831581,
          0.5280353957883657,
          0.5433071584280776,
          0.5480257928691774,
          0.5276072837280321,
          0.5392408622630028,
          0.5438329668582076,
          0.5272820385394779,
          0.5316670507079099,
          0.5296559105433799,
          0.522110794965,
          0.5370326383186774,
          0.5432164624826978,
          0.5494034796951307,
          0.5381053093075296,
          0.5353021660900149,
          0.5439675049281242,
          0.5351152884070053,
          0.5352386829973076,
          0.5464787460649149,
          0.5354438596376325,
          0.5273432492827379,
          0.5141270983046105,
          0.537609971774679,
          0.5217274502100796,
          0.5273328813805269,
          0.5154988738840592,
          0.5228404668979176,
          0.530435663500259,
          0.5212092825317064,
          0.5185606895776325,
          0.5164229788741874,
          0.5316631023346884,
          0.5369504976433075,
          0.5188112196015823,
          0.5211633171286443,
          0.5321541699788309,
          0.5194777369371704,
          0.522851018648319,
          0.5143909472565344,
          0.5180037266898081,
          0.5129624596837271,
          0.5222205395614814,
          0.5154481364348671,
          0.5405116265432702,
          0.5244932862624134,
          0.5210210227798154,
          0.5197816413515343,
          0.5270346564387797,
          0.5110455751816605,
          0.5081610157060442,
          0.5040048315867259,
          0.4982389377026331,
          0.508541516768054,
          0.5072963630013289,
          0.5028884295562244,
          0.5065856285458479,
          0.5004602397382528,
          0.5164507284550907,
          0.5019257308249596,
          0.5058849135050819,
          0.502175498741155,
          0.4961506211421683,
          0.514918367936649,
          0.49364639469581556,
          0.502627285851678,
          0.5050164391806864,
          0.4851544748605483,
          0.5062051941695915,
          0.5170468473145389,
          0.5094745035837114,
          0.5065873513884844,
          0.49141713745324944,
          0.5087701289063228,
          0.5073077830137844,
          0.5042857044756452,
          0.5047273311515442,
          0.5020287239359184,
          0.49985508051138133,
          0.4967970588806077,
          0.5075968980093442,
          0.49110469370089493,
          0.4881315375722202,
          0.5064101964213582,
          0.4894138685108791,
          0.4885869820019996,
          0.4992238645058772,
          0.49861457863467085,
          0.4988472625619844,
          0.48360627707602016,
          0.4905118036071468,
          0.49493743191145606,
          0.48915104429776723,
          0.48504052884194837,
          0.4923892541186574,
          0.4997943464593327,
          0.4927040091897021,
          0.49124220523460366,
          0.4740012495409846,
          0.48084589457362864,
          0.47752160658537224,
          0.5053173820907567,
          0.48419926930274737,
          0.4838344307273679,
          0.4790035139144653,
          0.4874258527908974,
          0.4707647832754892,
          0.47865774865462485,
          0.47790176946534857,
          0.4769904333066055,
          0.47797844473367934,
          0.4654249792138806,
          0.4834396987435504,
          0.46749370575977023,
          0.4620685730089092,
          0.4719115725422313,
          0.48992095953745857,
          0.4727622755458798,
          0.46387950018409346,
          0.4819201273119958,
          0.47042235640330443,
          0.4550041049017127,
          0.46175532387506885,
          0.4897581674499669,
          0.47015870547714994,
          0.4650659916263227,
          0.46605137880124264,
          0.4629379189615227,
          0.4603262440706498,
          0.4628102449568785,
          0.45047540212851056,
          0.4790195862252005,
          0.47368010936307176,
          0.46782103360900845,
          0.45589180340465935,
          0.4604645692598575,
          0.4732071684094961,
          0.4609133064265211,
          0.46595384653099514,
          0.46831942416976485,
          0.45445627923561854,
          0.45849706966839743,
          0.459600702953185,
          0.4657396892329014,
          0.4656885627066486,
          0.44896165405069965,
          0.4624541278738888,
          0.45887560197614613,
          0.4664900289948249,
          0.4642170959266293,
          0.45516456132542776,
          0.44670872664066297,
          0.4506987006775524,
          0.4469380203519066,
          0.45849213817481754,
          0.44569608111506787,
          0.45242970540334687,
          0.45818130703289667,
          0.45368103423612094,
          0.4632100957020282,
          0.43616163554929166,
          0.4722019872587731,
          0.4512296574909349,
          0.44771334063515766,
          0.4440620082843784,
          0.44604608958634484,
          0.41860008309977853,
          0.4370669336586388,
          0.44485137813132763,
          0.43863935849282193,
          0.4391876632311793,
          0.43440955189886893,
          0.4450738757625397,
          0.44668711487192064,
          0.45324850527596083,
          0.4362256158984211,
          0.4329035638989323,
          0.41908421050587136,
          0.4304895728255386,
          0.43141698338669454,
          0.4435794691850223,
          0.4384847321553484,
          0.4286649280086194,
          0.44032571580231494,
          0.44614948841044866,
          0.43780561425764514,
          0.41450660879955725,
          0.4394528683741698,
          0.4232682363962468,
          0.43408449683477573,
          0.4189353004715319,
          0.43350503161389087,
          0.42568895442695925,
          0.4431342564806019,
          0.435910252047416,
          0.4336740591439502,
          0.414529598713866,
          0.416584510732124,
          0.4116866511885508,
          0.4297755335486652,
          0.42881932998061406,
          0.4094893433162441,
          0.4352964408449491,
          0.4245470733593414,
          0.4260015175622008,
          0.4120615219621864,
          0.4259461770148187,
          0.42750450599731765,
          0.4104629999757137,
          0.41640214438768414,
          0.4026349894842907,
          0.4118032201235273,
          0.4213727353982999,
          0.42066340621974013,
          0.41678547349798356,
          0.40764704820286385,
          0.42418910945156646,
          0.4161929313255041,
          0.42794317420953376,
          0.41655250021739765,
          0.4212634498907711,
          0.4048674542812084,
          0.4018740529299172,
          0.4071178449716105,
          0.40934122646593996,
          0.4157412854587055,
          0.40850531573948107,
          0.4060358937464491,
          0.4123655847846775,
          0.40867555371990266,
          0.4096297815846359,
          0.4012285284583178,
          0.40874573887055793,
          0.4037385036601081,
          0.407180564094041,
          0.39204814951241057,
          0.3963840590236578,
          0.4138161170198144,
          0.4092798509348351,
          0.40239277765861153,
          0.4044786205844846,
          0.396116158669887,
          0.39797775393730117,
          0.4085670217405523,
          0.4047526021286718,
          0.3868889318685725,
          0.39343741161871876,
          0.3948981740830105,
          0.37464641537609245,
          0.4009182048652657,
          0.39281298994555325,
          0.3939860941677952,
          0.3982623797447457,
          0.39569065045043733,
          0.3813885173184091,
          0.3928647209179121,
          0.39935104051272424,
          0.3893214747058832,
          0.39972564737726607,
          0.3954934388593939,
          0.3846384013410188,
          0.3732661840761187,
          0.38403889751475145,
          0.40163753698638005,
          0.4027618211666283,
          0.39008697794609465,
          0.38600669403089277,
          0.3706052728399614,
          0.3689945672611153,
          0.3983131244281185,
          0.3882379422571295,
          0.37701498436405534,
          0.3863946484497449,
          0.3773302260261068,
          0.3801673205043485,
          0.3832106574997839,
          0.3782388930085664,
          0.37176876071884163,
          0.3880098248181749,
          0.3811838513228875,
          0.36705190144459376,
          0.3747064914613205,
          0.3714155191723895,
          0.3695921355782311,
          0.3669342450335518,
          0.37930958770589657,
          0.38204944718664335,
          0.3770347674136402,
          0.3655761726578057,
          0.37756993521839455,
          0.372638149979478,
          0.3634763371515,
          0.363669035992577,
          0.36705405183590556,
          0.3583447335038042,
          0.35336849762782446,
          0.36713680836233803,
          0.37011670153061355,
          0.37918359132394897,
          0.3732578515902978,
          0.3733136446432409,
          0.3523497582467886,
          0.36671432841766494,
          0.36989534039268807,
          0.36656105847297277,
          0.36487847769628223,
          0.3696811833539282,
          0.36069657012119455,
          0.34614460069826547,
          0.3612919582593818,
          0.37658223973512156,
          0.3647506301680233,
          0.3565496438553876,
          0.35714904312959567,
          0.36634969703550735,
          0.3598573753648894,
          0.36250193664657593,
          0.3418317769801425,
          0.3650370241225975,
          0.36502584613843214,
          0.35821914970766017,
          0.343223860012358,
          0.3469659538551491,
          0.3453054186916348,
          0.3474107717941897,
          0.334938250329197,
          0.35121614718102556,
          0.3431973201462918,
          0.3579778777919715,
          0.34040604901453986,
          0.35054959206920766,
          0.3421151539992832,
          0.3522021263277916,
          0.34570211532000933,
          0.34277856772494913,
          0.3491267384814142,
          0.35051584286852366,
          0.3408885710375226,
          0.339693252968825,
          0.3480505530665641,
          0.3484180335791429,
          0.3419095648211026,
          0.34021019205073527,
          0.340519593090841,
          0.33680705162761454,
          0.3420786878484407,
          0.3254255996925589,
          0.33503038843609156,
          0.3383782283840993,
          0.33548485783630677,
          0.333071049613098,
          0.33541794416309406,
          0.33290385125872035,
          0.33563071346611667,
          0.33320675000010436,
          0.3440315376989765,
          0.3426002187816574,
          0.3364987115437255,
          0.31992116770655055,
          0.3256130206797688,
          0.33371213325378707,
          0.33235285931578024,
          0.3210484800608806,
          0.33749050325938756,
          0.3270318348647074,
          0.34032417930727793,
          0.3286137576083122,
          0.33155033672548934,
          0.32637117411952704,
          0.3346286899182315,
          0.32994876601296574,
          0.3190584702753069,
          0.3173139036821091,
          0.32599041906944404,
          0.33346147469344184,
          0.32659776128671136,
          0.3321833272672313,
          0.3285819038640517,
          0.32223934280193717,
          0.30749595535864066,
          0.32399339964086793,
          0.32890087843087196,
          0.3158714684412149,
          0.3205742037152147,
          0.3187620488614286,
          0.3203157513641379,
          0.3297986720719473,
          0.32357378195138414,
          0.3124677612806699,
          0.31762169994941014,
          0.3165986764803053,
          0.3163210428987495,
          0.3163477911492277,
          0.3199178479994616,
          0.3123366921856814,
          0.32709659274046204,
          0.3129770998833387,
          0.32014638750486385,
          0.30386281225360245,
          0.3137084275413987,
          0.31819713987150905,
          0.3111447323309036,
          0.30820945116242193,
          0.3014010385440495,
          0.3176734023351653,
          0.2999719512963848,
          0.30580356036585205,
          0.3076253745255393,
          0.3141796067709067,
          0.30337132213685686,
          0.29964094672218466,
          0.30728866349130846,
          0.3031103280415207,
          0.3098847493854408,
          0.3017413724258347,
          0.3066554358378149,
          0.29563525865111806,
          0.29469884253132395,
          0.29031516599878565,
          0.28934217889356556,
          0.29724132745808096,
          0.30203647936375994,
          0.2862278620723452,
          0.28858142753373034,
          0.3022435457273975,
          0.2921925905739082,
          0.2917745407056357,
          0.2967925431897668,
          0.2861265666730285,
          0.30655257128710184,
          0.30414363151602714,
          0.29919627853178205,
          0.29763991410688506,
          0.30028486962294615,
          0.29103919904821063,
          0.30147788976567685,
          0.291348264654463,
          0.2888961936127505,
          0.2904642447052352,
          0.2977625905383549,
          0.28942369893386316,
          0.29360861316014847,
          0.2868821320405153,
          0.28836403761509216,
          0.2938554370988355,
          0.2854271527063608,
          0.2900892621188051,
          0.2896298308236071,
          0.28966192828747944,
          0.28492590905283044,
          0.2797506981926494,
          0.28026014250143294,
          0.27845300969965603,
          0.28037159463884787,
          0.28086092948867886,
          0.2857358164493103,
          0.27504917510222865,
          0.28132038859498504,
          0.28372590021120286,
          0.286395172517163,
          0.28113891243563927,
          0.2756622653093953,
          0.2818433986586802,
          0.2804242984686733,
          0.2773151562256634,
          0.28047611328381217,
          0.276756319014397,
          0.27812863427289536,
          0.27956232050711494,
          0.27176854910529824,
          0.2681590185035615,
          0.2730443255526579,
          0.26615505126830924,
          0.2701324358067112,
          0.2727681708475041,
          0.2700342704910028,
          0.26925368176329545,
          0.27092751909271634,
          0.27008866516179325,
          0.2688662475103353,
          0.26978088775563885,
          0.26238099657187813,
          0.2787098759470124,
          0.2586472669418662,
          0.26974736074654043,
          0.26404410219399055,
          0.27028553909195047,
          0.26858755304564663,
          0.2658453683736986,
          0.2656994534185791,
          0.268044119272501,
          0.2605415160404381,
          0.2704265358750806,
          0.2624976118177027
         ],
         "yaxis": "y"
        },
        {
         "type": "scatter",
         "x": [
          0,
          15,
          30,
          45,
          60,
          75,
          90,
          105,
          120,
          135,
          150,
          165,
          180,
          195,
          210,
          225,
          240,
          255,
          270,
          285,
          300,
          315,
          330,
          345,
          360,
          375,
          390,
          405,
          420,
          435,
          450,
          465,
          480,
          495,
          510,
          525,
          540,
          555,
          570,
          585,
          600,
          615,
          630,
          645,
          660,
          675,
          690,
          705,
          720,
          735,
          750,
          765,
          780,
          795,
          810,
          825,
          840,
          855,
          870,
          885,
          900,
          915,
          930,
          945,
          960,
          975,
          990,
          1005,
          1020,
          1035,
          1050,
          1065,
          1080,
          1095,
          1110,
          1125,
          1140,
          1155,
          1170,
          1185,
          1200,
          1215,
          1230,
          1245,
          1260,
          1275,
          1290,
          1305,
          1320,
          1335,
          1350,
          1365,
          1380,
          1395,
          1410,
          1425,
          1440,
          1455,
          1470,
          1485,
          1500,
          1515,
          1530,
          1545,
          1560,
          1575,
          1590,
          1605,
          1620,
          1635,
          1650,
          1665,
          1680,
          1695,
          1710,
          1725,
          1740,
          1755,
          1770,
          1785,
          1800,
          1815,
          1830,
          1845,
          1860,
          1875,
          1890,
          1905,
          1920,
          1935,
          1950,
          1965,
          1980,
          1995,
          2010,
          2025,
          2040,
          2055,
          2070,
          2085,
          2100,
          2115,
          2130,
          2145,
          2160,
          2175,
          2190,
          2205,
          2220,
          2235,
          2250,
          2265,
          2280,
          2295,
          2310,
          2325,
          2340,
          2355,
          2370,
          2385,
          2400,
          2415,
          2430,
          2445,
          2460,
          2475,
          2490,
          2505,
          2520,
          2535,
          2550,
          2565,
          2580,
          2595,
          2610,
          2625,
          2640,
          2655,
          2670,
          2685,
          2700,
          2715,
          2730,
          2745,
          2760,
          2775,
          2790,
          2805,
          2820,
          2835,
          2850,
          2865,
          2880,
          2895,
          2910,
          2925,
          2940,
          2955,
          2970,
          2985,
          3000,
          3015,
          3030,
          3045,
          3060,
          3075,
          3090,
          3105,
          3120,
          3135,
          3150,
          3165,
          3180,
          3195,
          3210,
          3225,
          3240,
          3255,
          3270,
          3285,
          3300,
          3315,
          3330,
          3345,
          3360,
          3375,
          3390,
          3405,
          3420,
          3435,
          3450,
          3465,
          3480,
          3495,
          3510,
          3525,
          3540,
          3555,
          3570,
          3585,
          3600,
          3615,
          3630,
          3645,
          3660,
          3675,
          3690,
          3705,
          3720,
          3735,
          3750,
          3765,
          3780,
          3795,
          3810,
          3825,
          3840,
          3855,
          3870,
          3885,
          3900,
          3915,
          3930,
          3945,
          3960,
          3975,
          3990,
          4005,
          4020,
          4035,
          4050,
          4065,
          4080,
          4095,
          4110,
          4125,
          4140,
          4155,
          4170,
          4185,
          4200,
          4215,
          4230,
          4245,
          4260,
          4275,
          4290,
          4305,
          4320,
          4335,
          4350,
          4365,
          4380,
          4395,
          4410,
          4425,
          4440,
          4455,
          4470,
          4485,
          4500,
          4515,
          4530,
          4545,
          4560,
          4575,
          4590,
          4605,
          4620,
          4635,
          4650,
          4665,
          4680,
          4695,
          4710,
          4725,
          4740,
          4755,
          4770,
          4785,
          4800,
          4815,
          4830,
          4845,
          4860,
          4875,
          4890,
          4905,
          4920,
          4935,
          4950,
          4965,
          4980,
          4995,
          5010,
          5025,
          5040,
          5055,
          5070,
          5085,
          5100,
          5115,
          5130,
          5145,
          5160,
          5175,
          5190,
          5205,
          5220,
          5235,
          5250,
          5265,
          5280,
          5295,
          5310,
          5325,
          5340,
          5355,
          5370,
          5385,
          5400,
          5415,
          5430,
          5445,
          5460,
          5475,
          5490,
          5505,
          5520,
          5535,
          5550,
          5565,
          5580,
          5595,
          5610,
          5625,
          5640,
          5655,
          5670,
          5685,
          5700,
          5715,
          5730,
          5745,
          5760,
          5775,
          5790,
          5805,
          5820,
          5835,
          5850,
          5865,
          5880,
          5895,
          5910,
          5925,
          5940,
          5955,
          5970,
          5985,
          6000,
          6015,
          6030,
          6045,
          6060,
          6075,
          6090,
          6105,
          6120,
          6135,
          6150,
          6165,
          6180,
          6195,
          6210,
          6225,
          6240,
          6255,
          6270,
          6285,
          6300,
          6315,
          6330,
          6345,
          6360,
          6375,
          6390,
          6405,
          6420,
          6435,
          6450,
          6465,
          6480,
          6495,
          6510,
          6525,
          6540,
          6555,
          6570,
          6585,
          6600,
          6615,
          6630,
          6645,
          6660,
          6675,
          6690,
          6705,
          6720,
          6735,
          6750,
          6765,
          6780,
          6795,
          6810,
          6825,
          6840,
          6855,
          6870,
          6885,
          6900,
          6915,
          6930,
          6945,
          6960,
          6975,
          6990,
          7005,
          7020,
          7035,
          7050,
          7065,
          7080,
          7095,
          7110,
          7125,
          7140,
          7155,
          7170,
          7185,
          7200,
          7215,
          7230,
          7245,
          7260,
          7275,
          7290,
          7305,
          7320,
          7335,
          7350,
          7365,
          7380,
          7395,
          7410,
          7425,
          7440,
          7455,
          7470,
          7485,
          7500,
          7515,
          7530,
          7545,
          7560,
          7575,
          7590,
          7605,
          7620,
          7635,
          7650,
          7665,
          7680,
          7695,
          7710,
          7725,
          7740,
          7755,
          7770,
          7785,
          7800,
          7815,
          7830,
          7845,
          7860,
          7875,
          7890,
          7905,
          7920,
          7935,
          7950,
          7965,
          7980,
          7995,
          8010,
          8025,
          8040,
          8055,
          8070,
          8085,
          8100,
          8115,
          8130,
          8145,
          8160,
          8175,
          8190,
          8205,
          8220,
          8235,
          8250,
          8265,
          8280,
          8295,
          8310,
          8325,
          8340,
          8355,
          8370,
          8385,
          8400,
          8415,
          8430,
          8445,
          8460,
          8475,
          8490,
          8505,
          8520,
          8535,
          8550,
          8565,
          8580,
          8595,
          8610,
          8625,
          8640,
          8655,
          8670,
          8685,
          8700,
          8715,
          8730,
          8745,
          8760,
          8775,
          8790,
          8805,
          8820,
          8835,
          8850,
          8865,
          8880,
          8895,
          8910,
          8925,
          8940,
          8955,
          8970,
          8985,
          9000,
          9015,
          9030,
          9045,
          9060,
          9075,
          9090,
          9105,
          9120,
          9135,
          9150,
          9165,
          9180,
          9195,
          9210,
          9225,
          9240,
          9255,
          9270,
          9285,
          9300,
          9315,
          9330,
          9345,
          9360,
          9375,
          9390,
          9405,
          9420,
          9435,
          9450,
          9465,
          9480,
          9495,
          9510,
          9525,
          9540,
          9555,
          9570,
          9585,
          9600,
          9615,
          9630,
          9645,
          9660,
          9675,
          9690,
          9705,
          9720,
          9735,
          9750,
          9765,
          9780,
          9795,
          9810,
          9825,
          9840,
          9855,
          9870,
          9885,
          9900,
          9915,
          9930,
          9945,
          9960,
          9975,
          9990,
          10005,
          10020,
          10035,
          10050,
          10065,
          10080,
          10095,
          10110,
          10125,
          10140,
          10155,
          10170,
          10185,
          10200,
          10215,
          10230,
          10245,
          10260,
          10275,
          10290,
          10305,
          10320,
          10335,
          10350,
          10365,
          10380,
          10395,
          10410,
          10425,
          10440,
          10455,
          10470,
          10485,
          10500,
          10515,
          10530,
          10545,
          10560,
          10575,
          10590,
          10605,
          10620,
          10635,
          10650,
          10665,
          10680,
          10695,
          10710,
          10725,
          10740,
          10755,
          10770,
          10785,
          10800,
          10815,
          10830,
          10845,
          10860,
          10875,
          10890,
          10905,
          10920,
          10935,
          10950,
          10965,
          10980,
          10995,
          11010,
          11025,
          11040,
          11055,
          11070,
          11085,
          11100,
          11115,
          11130,
          11145,
          11160,
          11175,
          11190,
          11205,
          11220,
          11235,
          11250,
          11265,
          11280,
          11295,
          11310,
          11325,
          11340,
          11355,
          11370,
          11385,
          11400,
          11415,
          11430,
          11445,
          11460,
          11475,
          11490,
          11505,
          11520,
          11535,
          11550,
          11565,
          11580,
          11595,
          11610,
          11625,
          11640,
          11655,
          11670,
          11685,
          11700,
          11715,
          11730,
          11745,
          11760,
          11775,
          11790,
          11805,
          11820,
          11835,
          11850,
          11865,
          11880,
          11895,
          11910,
          11925,
          11940,
          11955,
          11970,
          11985,
          12000,
          12015,
          12030,
          12045,
          12060,
          12075,
          12090,
          12105,
          12120,
          12135,
          12150,
          12165,
          12180,
          12195,
          12210,
          12225,
          12240,
          12255,
          12270,
          12285,
          12300,
          12315,
          12330,
          12345,
          12360,
          12375,
          12390,
          12405,
          12420,
          12435,
          12450,
          12465,
          12480,
          12495,
          12510,
          12525,
          12540,
          12555,
          12570,
          12585,
          12600,
          12615,
          12630,
          12645,
          12660,
          12675,
          12690,
          12705,
          12720,
          12735,
          12750,
          12765,
          12780,
          12795,
          12810,
          12825,
          12840,
          12855,
          12870,
          12885,
          12900,
          12915,
          12930,
          12945,
          12960,
          12975,
          12990,
          13005,
          13020,
          13035,
          13050,
          13065,
          13080,
          13095,
          13110,
          13125,
          13140,
          13155,
          13170,
          13185,
          13200,
          13215,
          13230,
          13245,
          13260,
          13275,
          13290,
          13305,
          13320,
          13335,
          13350,
          13365,
          13380,
          13395,
          13410,
          13425,
          13440,
          13455,
          13470,
          13485,
          13500,
          13515,
          13530,
          13545,
          13560,
          13575,
          13590,
          13605,
          13620,
          13635,
          13650,
          13665,
          13680,
          13695,
          13710,
          13725,
          13740,
          13755,
          13770,
          13785,
          13800,
          13815,
          13830,
          13845,
          13860,
          13875,
          13890,
          13905,
          13920,
          13935,
          13950,
          13965,
          13980,
          13995,
          14010,
          14025,
          14040,
          14055,
          14070,
          14085,
          14100,
          14115,
          14130,
          14145,
          14160,
          14175,
          14190,
          14205,
          14220,
          14235,
          14250,
          14265,
          14280,
          14295,
          14310,
          14325,
          14340,
          14355,
          14370,
          14385,
          14400,
          14415,
          14430,
          14445,
          14460,
          14475,
          14490,
          14505,
          14520,
          14535,
          14550,
          14565,
          14580,
          14595,
          14610,
          14625,
          14640,
          14655,
          14670,
          14685,
          14700,
          14715,
          14730,
          14745,
          14760,
          14775,
          14790,
          14805,
          14820,
          14835,
          14850,
          14865,
          14880,
          14895,
          14910,
          14925,
          14940,
          14955,
          14970,
          14985,
          15000
         ],
         "xaxis": "x2",
         "y": [
          342.6228546185312,
          342.6123889664462,
          342.55476312071653,
          342.51646981917816,
          342.4929493146225,
          342.4830823392152,
          342.4368125158244,
          342.3852693720046,
          342.31486698185864,
          342.36016923918896,
          342.36887634217294,
          342.35763858126006,
          342.33924940679066,
          342.2871032799942,
          342.19021223425955,
          342.08167854057547,
          341.9768205421662,
          341.8998879316778,
          341.7349879999447,
          341.64802734027575,
          341.5289416846774,
          341.4579999347413,
          341.28780797695066,
          341.2039749914679,
          341.0747588365396,
          341.0261655367692,
          340.85668931021615,
          340.81370866952824,
          340.67419325594335,
          340.5958133476482,
          340.5103490783891,
          340.27836320166983,
          340.29879426107516,
          340.2098161809953,
          340.0829587075113,
          339.9810885859805,
          339.72031883631894,
          339.48875902854945,
          339.26923250694244,
          339.20833515344145,
          339.0206807498417,
          338.87088223464593,
          338.71937327153313,
          338.4911284311677,
          338.4142367361276,
          338.3016938154744,
          338.1230768763173,
          337.9097313790748,
          337.7157057313571,
          337.58422861278933,
          337.4522584987282,
          337.2210619922769,
          337.08530943784916,
          336.9011023633742,
          336.62511426276484,
          336.5215720293754,
          336.3347048037061,
          336.21538361137516,
          335.99688348207155,
          335.70015090293475,
          335.44289830918456,
          335.2829430335433,
          335.09687749335944,
          334.9177012776567,
          334.7519666233423,
          334.52206383590635,
          334.29477556483357,
          333.9809039700989,
          333.757508538976,
          333.41031789793067,
          333.11691805422623,
          332.8335896675505,
          332.3977622595281,
          332.0765683209905,
          331.7412128789758,
          331.40949041891906,
          331.0189469040534,
          330.7179545575001,
          330.4364517511944,
          330.1396522303251,
          329.971377628885,
          329.802183001461,
          329.3692095122941,
          329.08776145497313,
          328.71057741548503,
          328.32321422783593,
          328.08045662770473,
          327.9335670715388,
          327.5165219214318,
          327.0625499636777,
          326.6709672438347,
          326.31652775340734,
          325.94412603021027,
          325.50667979904614,
          325.1174415019251,
          324.7408480618755,
          324.29916868810267,
          323.9922496372324,
          323.6052289602194,
          323.24466748876233,
          322.8732999266647,
          322.4894987574834,
          322.23382989239104,
          321.7973744038296,
          321.4347441438521,
          320.8756325500176,
          320.51001532306543,
          320.12728664585916,
          319.72171380587895,
          319.2101421654377,
          318.7556169650251,
          318.2665152014495,
          317.8339211358081,
          317.5107070562244,
          317.1222730659482,
          316.6056452730533,
          316.0911174441564,
          315.43378772558253,
          315.0415070340335,
          314.4426592751615,
          314.01382668117725,
          313.4116417393437,
          312.8791180765835,
          312.47869041519397,
          312.00525977872735,
          311.5994134205675,
          311.12410365301076,
          310.70522859130597,
          310.19496537665583,
          309.6537642874176,
          309.1352880538698,
          308.62191820838063,
          308.1338701892846,
          307.54498234994776,
          306.77665549671406,
          306.21558026389096,
          305.6495386612002,
          305.12583130946825,
          304.4717631153432,
          303.9862344783823,
          303.4063458546453,
          302.846868044237,
          302.26073133836326,
          301.6235982281457,
          301.0332133906886,
          300.53063137556893,
          299.9407285247842,
          299.29728666080734,
          298.8001558448718,
          298.18538368112564,
          297.49691408120816,
          296.8124143729282,
          296.23552593167466,
          295.6030938465675,
          294.9752768263506,
          294.3717092233982,
          293.74677084644395,
          293.0873262886374,
          292.454413433366,
          291.6878921579074,
          291.10591193506883,
          290.45871977078417,
          289.8162936174534,
          289.2506743391725,
          288.55759453281024,
          287.87374304753973,
          287.2274384776864,
          286.5133106831594,
          285.85092778121077,
          285.143495297129,
          284.4465649902199,
          283.73935469682306,
          283.1796239130949,
          282.42505154241576,
          281.63442434932654,
          281.0062548810792,
          280.35677087740675,
          279.6721541445872,
          278.9640666721756,
          278.1998488879111,
          277.4321546527772,
          276.6483843374744,
          275.90212275704454,
          275.14113888534706,
          274.3711687436393,
          273.66218814728654,
          272.90164900434735,
          271.99433240212073,
          271.28185687836526,
          270.65119404830114,
          270.02925671086587,
          269.3042964177751,
          268.43292468842515,
          267.616946457964,
          266.95660217736247,
          266.1976419967153,
          265.4846968814755,
          264.6508164261151,
          263.97172898581124,
          263.1251514353378,
          262.2527130477626,
          261.3425370277983,
          260.38812474858827,
          259.4335249416548,
          258.6165921592275,
          257.77538170984684,
          257.07343883233773,
          256.2751863870097,
          255.51751205644328,
          254.63107113513075,
          253.8291197864161,
          252.8286238646641,
          252.0299917307778,
          251.10884653752484,
          250.0925734971685,
          249.2477771887052,
          248.36900936551694,
          247.38164928349013,
          246.3469945038765,
          245.3174510790683,
          244.15981192118574,
          243.2367589329063,
          242.11932002671946,
          241.12482348369392,
          240.2397006844841,
          239.27242265504998,
          238.28893175390957,
          237.3671689592369,
          236.3219373545175,
          235.25200337409782,
          234.24989637607283,
          233.2889893463702,
          232.39123532644396,
          231.486187930384,
          230.52593196224655,
          229.5505713505483,
          228.54450128352443,
          227.6398668768745,
          226.6118810158303,
          225.67476419645143,
          224.61032377196437,
          223.62339346877602,
          222.46184890561307,
          221.52371407800518,
          220.62254145270106,
          219.43553016829324,
          218.44306856788097,
          217.41449508772337,
          216.37435046098526,
          215.3080082790318,
          214.17104898163427,
          213.08322112097278,
          211.9810414841351,
          210.81024890370534,
          209.70704730362854,
          208.60920809738357,
          207.6430781389029,
          206.566760748532,
          205.36789655287592,
          204.3020995509957,
          203.25470922082053,
          202.25776984402037,
          201.19057289502072,
          199.9245428696631,
          198.77945417507436,
          197.7834420404646,
          196.6634120895024,
          195.64473715243736,
          194.3709972211585,
          193.16074315744743,
          192.04386661524964,
          190.8366259754162,
          189.7053348005245,
          188.63356368381514,
          187.52446448684816,
          186.29848508915381,
          185.13941002955653,
          184.06473999787528,
          182.8081775495972,
          181.62266425148306,
          180.4178641461217,
          179.32430283274866,
          178.07907827010038,
          176.71978148116543,
          175.6069556843499,
          174.51978611560526,
          173.28964399044716,
          172.12373740745778,
          170.94506923630897,
          169.81649213264672,
          168.5937760773447,
          167.2675360760288,
          166.16256439472352,
          164.96584630893656,
          163.90519726987856,
          162.73630826982327,
          161.65296825621508,
          160.39078368986048,
          159.1963364494362,
          157.87185098762018,
          156.72613758052503,
          155.31734878332338,
          154.1766029389538,
          152.79754430973622,
          151.41081400556916,
          150.0847533594002,
          148.70125294389325,
          147.5070848615909,
          146.18776352289066,
          144.9247189949702,
          143.60003953591186,
          142.24093702898188,
          140.93640542975461,
          139.5849832196386,
          138.33981398612087,
          136.86013163953916,
          135.6213472598777,
          134.28585024752607,
          132.98365174663232,
          131.63078930180166,
          130.46209084236142,
          129.13101711493687,
          127.7835937190711,
          126.35769994964495,
          125.04749706085828,
          123.74406716862448,
          122.45038144519044,
          121.0839426055974,
          119.70453228693492,
          118.35633429630695,
          116.96236112936909,
          115.57770807653966,
          114.30292538782558,
          112.97679815445315,
          111.62504228009485,
          110.2749750061277,
          108.86683770786688,
          107.34431161933824,
          105.82031896471095,
          104.3151056199821,
          102.89133201122947,
          101.4139661347318,
          100.0030005789303,
          98.56021901921775,
          97.1577592093757,
          95.78036574585221,
          94.33088219240061,
          92.91390286634383,
          91.31485368077878,
          90.06070286596325,
          88.71717284842919,
          87.35539649610223,
          86.04018752279721,
          84.56368547019085,
          83.11494271826194,
          81.83990782674545,
          80.40752757344156,
          78.89889645114789,
          77.49904860764208,
          76.09425845717554,
          74.65473768854574,
          73.28503104905182,
          71.76141727899977,
          70.2869411774789,
          68.75896443518486,
          67.16173005902986,
          65.6179267596172,
          64.04681793697172,
          62.397519424543454,
          61.06409732905302,
          59.66760068023117,
          58.01699031897407,
          56.601867153723724,
          55.16081492488218,
          53.74975337431663,
          52.34847184711402,
          50.94436256020552,
          49.32619323693463,
          47.94889225510113,
          46.355891030773506,
          44.83003159380169,
          43.42550545507417,
          41.94407296717673,
          40.33737518555255,
          38.76340209459632,
          37.32912891790731,
          35.85892730905616,
          34.403952565779214,
          32.92887064430125,
          31.46802543941287,
          29.94782429073352,
          28.39369265210633,
          26.76197372670153,
          25.235240976953094,
          23.55623893547266,
          22.155320476338634,
          20.55215408109425,
          18.969187319372843,
          17.4674090387528,
          15.814693959287222,
          14.270067569890127,
          12.837871779557187,
          11.392978114372267,
          9.896055726230923,
          8.375321988984672,
          6.957547414535065,
          5.396538726681089,
          3.842908253423859,
          2.355652264577045,
          0.8508912295366775,
          -0.7740817038867783,
          -2.3950308274183882,
          -4.1137836782684065,
          -5.64297940318887,
          -7.197040608053987,
          -8.781184315676917,
          -10.336309508561142,
          -11.924316275094203,
          -13.4191408313598,
          -14.923086666830716,
          -16.333051940655814,
          -17.794579609345938,
          -19.34199531524424,
          -20.950130739176405,
          -22.542040371458203,
          -24.11787248019327,
          -25.6115401218889,
          -27.11039045148447,
          -28.66802463560829,
          -30.20849711878057,
          -31.838061147814138,
          -33.41197733802943,
          -34.94469947995646,
          -36.511289528044344,
          -37.89788385617937,
          -39.40066844306085,
          -40.926407073713385,
          -42.479639783277534,
          -44.064543988567586,
          -45.642493532460676,
          -47.257254015805,
          -48.76234196819356,
          -50.35598273280176,
          -51.89833920428511,
          -53.366168459689426,
          -55.00034369566062,
          -56.50060119286637,
          -58.02265488474393,
          -59.53690559965666,
          -61.11951474068705,
          -62.6512134876658,
          -64.15383843118708,
          -65.75618127737417,
          -67.3057918413342,
          -68.80936614288234,
          -70.33880200855157,
          -71.82054530860236,
          -73.21134749491584,
          -74.72321674079433,
          -76.22199614876698,
          -77.6903043694503,
          -79.19546872086045,
          -80.76541626606812,
          -82.22334590448806,
          -83.7004880271114,
          -85.30675911031932,
          -86.6762911579758,
          -88.34263194176467,
          -89.81521791693626,
          -91.26846053045911,
          -92.79508304277303,
          -94.44327397008792,
          -95.96229440226355,
          -97.40871643927676,
          -98.89479033848141,
          -100.29104630343252,
          -101.87745353347195,
          -103.3935877339113,
          -104.96319139749839,
          -106.42037886001835,
          -108.0727529936192,
          -109.62115104965257,
          -111.1669354145492,
          -112.70004414231481,
          -114.35482518726343,
          -115.93286520873535,
          -117.34961438777961,
          -118.78200814291829,
          -120.26582224161585,
          -121.79532727266269,
          -123.27370334191976,
          -124.78922754166642,
          -126.44888628910739,
          -127.92185550381501,
          -129.41789762850354,
          -130.85602837089223,
          -132.37671485397587,
          -133.87663992434292,
          -135.4276857760594,
          -136.85563557905908,
          -138.2700360392013,
          -139.68297196190622,
          -141.15815244819618,
          -142.5677357476262,
          -144.00131131715406,
          -145.38923854335158,
          -146.91559687546183,
          -148.37320967081988,
          -149.8821663986003,
          -151.25587365645143,
          -152.69913123299264,
          -154.13693176990995,
          -155.5126502836871,
          -156.8195223585439,
          -158.33669517389984,
          -159.80082808792866,
          -161.31143790434524,
          -162.75376149496995,
          -164.20188905553272,
          -165.65769836055938,
          -167.0943084333529,
          -168.5664555969164,
          -169.96490136666452,
          -171.34959329272863,
          -172.78170480149117,
          -174.23845750756792,
          -175.58871406110407,
          -176.9829156641482,
          -178.26854756573823,
          -179.64336501240086,
          -181.06266250090425,
          -182.34846861119166,
          -183.78978279368658,
          -185.08513152773983,
          -186.52525887346587,
          -187.8244294766392,
          -189.1734201221562,
          -190.50201518614713,
          -191.84233207759178,
          -193.19863750162804,
          -194.591201996559,
          -195.93934645340562,
          -197.2799506036497,
          -198.57181416685378,
          -199.82576771804796,
          -201.09532746198659,
          -202.39726948796505,
          -203.71211594252523,
          -204.9841265879934,
          -206.23831118297016,
          -207.56197660743314,
          -208.70386288206484,
          -209.9918378809828,
          -211.3319958754405,
          -212.64028773805964,
          -213.90453486026885,
          -215.28326407187166,
          -216.5351953919713,
          -217.81675568963703,
          -219.13658801331604,
          -220.35887805494653,
          -221.56922075331266,
          -222.8324484984918,
          -224.12303389426947,
          -225.39740992594065,
          -226.59623061534134,
          -227.9734592772256,
          -229.12114338147802,
          -230.441420077278,
          -231.59711735396783,
          -232.76209982269387,
          -234.01003104724097,
          -235.16944225468546,
          -236.45228003031667,
          -237.65328870448351,
          -238.8056740610231,
          -240.0300592087033,
          -241.29742554331813,
          -242.5486572536146,
          -243.72425678421402,
          -244.8662610656659,
          -245.9358445312706,
          -247.15059501753592,
          -248.31078214069802,
          -249.40759642563862,
          -250.51426900949048,
          -251.6346462562682,
          -252.79595064042414,
          -253.90582693885813,
          -255.06237602579898,
          -256.13729623087625,
          -257.21254663411344,
          -258.274840335093,
          -259.3831389595819,
          -260.45374107333834,
          -261.52411433802615,
          -262.63954210249074,
          -263.7371117925669,
          -264.80760520572994,
          -265.8198202797266,
          -266.8683912387426,
          -267.991649888228,
          -269.0233858030313,
          -270.0476854315385,
          -271.11281684653454,
          -272.15751169428165,
          -273.1453943792794,
          -274.2204648652727,
          -275.2776381585752,
          -276.3294667032197,
          -277.34925533414014,
          -278.31745589419813,
          -279.3227458118283,
          -280.46433512195813,
          -281.4400249506512,
          -282.4264476167303,
          -283.39530918773335,
          -284.4046798350494,
          -285.426406190077,
          -286.425389467144,
          -287.33965255348346,
          -288.2999140038594,
          -289.2412471612439,
          -290.1320406617396,
          -291.06273032087097,
          -291.98835032793534,
          -292.8975321233717,
          -293.8202752624029,
          -294.7159255437903,
          -295.6545212173897,
          -296.56878557563806,
          -297.5005510996004,
          -298.3550296325631,
          -299.25764169141394,
          -300.1876907004832,
          -301.0606112067721,
          -301.9002507164255,
          -302.7100772893075,
          -303.5560183538002,
          -304.37927744193104,
          -305.1878294755946,
          -306.0492647129118,
          -306.9560745193561,
          -307.8224102698875,
          -308.65540500508064,
          -309.48751293059973,
          -310.2373972869273,
          -311.0491823603184,
          -311.8551102745483,
          -312.6463882764499,
          -313.38656363915686,
          -314.20573536955,
          -315.04511742765106,
          -315.8343383223691,
          -316.6064055539913,
          -317.4230348718938,
          -318.17393201786933,
          -318.94026075694853,
          -319.70836335756354,
          -320.47603979885196,
          -321.2072739453742,
          -321.94531114487677,
          -322.75184661597535,
          -323.5320398362258,
          -324.26765394921773,
          -324.9927960598728,
          -325.67182858883575,
          -326.35958394522993,
          -327.0493012492274,
          -327.794819296993,
          -328.54074467119074,
          -329.30468915351946,
          -329.9505622540934,
          -330.7189524569174,
          -331.41492662516663,
          -332.0912927421617,
          -332.76318935916356,
          -333.4034647316637,
          -334.0963339839055,
          -334.7328391363484,
          -335.4197699878348,
          -336.0617608052191,
          -336.7122961252934,
          -337.38195905439215,
          -338.0368123522133,
          -338.65076595128255,
          -339.28557480349673,
          -339.96201911189485,
          -340.5737536106615,
          -341.24445681471366,
          -341.8711010218418,
          -342.4672735801853,
          -343.0344054154909,
          -343.65691749394534,
          -344.1976394221045,
          -344.75790216174084,
          -345.36206720229194,
          -345.9624000914962,
          -346.5186355030688,
          -347.0537799108887,
          -347.66568618095056,
          -348.2274210807806,
          -348.79689183114596,
          -349.317506962114,
          -349.87487807161006,
          -350.44614593945226,
          -350.9684673735658,
          -351.53531445398255,
          -352.08115713488615,
          -352.6192567216327,
          -353.162399212909,
          -353.68323605837014,
          -354.21108180376007,
          -354.68816986164035,
          -355.2031252902165,
          -355.71444837795013,
          -356.2580626389255,
          -356.7878191754065,
          -357.3019273004125,
          -357.7562017147701,
          -358.25583907364694,
          -358.7345446852528,
          -359.2569217062116,
          -359.75677040238605,
          -360.2375768095754,
          -360.6951980669308,
          -361.14691552722235,
          -361.6466350235308,
          -362.11689427193846,
          -362.54666864470926,
          -362.99530487666016,
          -363.45698911788725,
          -363.90999350884243,
          -364.3338122806111,
          -364.7768646609434,
          -365.18910072102943,
          -365.6038820183647,
          -366.057315033186,
          -366.4994567441772,
          -366.9352635421012,
          -367.35478570008075,
          -367.74389224071155,
          -368.15141683870746,
          -368.5814144207346,
          -368.98845446409285,
          -369.41853152719773,
          -369.8279559138497,
          -370.2409340562148,
          -370.6362162830804,
          -371.01449148250316,
          -371.40329599566894,
          -371.8032470704627,
          -372.1630606093875,
          -372.52240357746524,
          -372.91550610662574,
          -373.277792133413,
          -373.6758787509574,
          -374.02755184493634,
          -374.3766436495714,
          -374.7536301895573,
          -375.11259738817154,
          -375.4825105339936,
          -375.8224369637976,
          -376.17371484774367,
          -376.49900572354966,
          -376.8520792537986,
          -377.2040480333231,
          -377.5565000930436,
          -377.89201044057506,
          -378.25906225919385,
          -378.59941934148225,
          -378.9467506722527,
          -379.2792868535522,
          -379.58680620502173,
          -379.8986723907076,
          -380.2032220920405,
          -380.5302894675987,
          -380.8476449136006,
          -381.1481827169242,
          -381.46837728883054,
          -381.76893894576773,
          -382.0841811165505,
          -382.427814071777,
          -382.7148439140211,
          -383.05752374229735,
          -383.380139586504,
          -383.6832874104428,
          -384.0110946813456,
          -384.2866696033525,
          -384.6034477307959,
          -384.89962524722966,
          -385.1866241429011,
          -385.46452456434275,
          -385.758320416654,
          -386.0785420687462,
          -386.344472621275,
          -386.6509278717373,
          -386.9254623582973,
          -387.22700853588003,
          -387.51160545739486,
          -387.77966984235843,
          -388.0532135274644,
          -388.2989362622221,
          -388.55572881171474,
          -388.82165526009686,
          -389.09290716984043,
          -389.3675983773391,
          -389.6196434146267,
          -389.90255810029714,
          -390.16863080026275,
          -390.41729328877466,
          -390.6494504644483,
          -390.8850805386366,
          -391.12627259759716,
          -391.364123913527,
          -391.6214389117555,
          -391.87429632089334,
          -392.0982537993427,
          -392.32125061486835,
          -392.56005602586083,
          -392.8066075520405,
          -393.03613945894006,
          -393.2662749977938,
          -393.49681939028926,
          -393.7268828727496,
          -393.9325076465721,
          -394.1445240851847,
          -394.34589449394633,
          -394.5713697236319,
          -394.816593382806,
          -395.0279112344479,
          -395.26023550877267,
          -395.475954881955,
          -395.72056101505694,
          -395.93552870723283,
          -396.17392942204094,
          -396.3984065397624,
          -396.5952054549638,
          -396.82364572589796,
          -397.0266334373499,
          -397.2706371609545,
          -397.47542301773046,
          -397.66913018609756,
          -397.8930385485614,
          -398.1012099752246,
          -398.32156921243444,
          -398.5280601976442,
          -398.7382179127772,
          -398.93001968511885,
          -399.14207344669126,
          -399.3286774777007,
          -399.51291107704617,
          -399.71553554711187,
          -399.9416477783077,
          -400.138542350536,
          -400.3527742856485,
          -400.5411918284336,
          -400.74587150754354,
          -400.9510452778885,
          -401.1200399956484,
          -401.28897767984625,
          -401.4677631644317,
          -401.6454071266078,
          -401.81133032769645,
          -401.98527690890563,
          -402.1647974661724,
          -402.34000890987863,
          -402.50697302207874,
          -402.67048686341644,
          -402.8286864371204,
          -402.9992101329463,
          -403.17356881094287,
          -403.37280295292715,
          -403.5443200255132,
          -403.73288937433944,
          -403.8985304002781,
          -404.09154674648414,
          -404.23780124722174,
          -404.3983579771123,
          -404.5750627640789,
          -404.73442915846204,
          -404.8829070873092,
          -405.0441466024422,
          -405.208512044312,
          -405.3676698777806,
          -405.52410458053464,
          -405.6714925276877,
          -405.8354274578778,
          -405.9940390279192,
          -406.131375946055,
          -406.2855567775225,
          -406.4415079871745,
          -406.60963018891135,
          -406.74731273094454,
          -406.895541953246,
          -407.0182944172276,
          -407.1742899671757,
          -407.3074268307193,
          -407.4692888374606,
          -407.62113538138505,
          -407.7395787871589,
          -407.86032070808403,
          -408.025171278358,
          -408.15627844505156,
          -408.27970595355174,
          -408.4458771885618,
          -408.5742423536712,
          -408.73528428067226,
          -408.8626803112918,
          -409.0226763048549,
          -409.17663524365,
          -409.3130465187912,
          -409.4432267909587,
          -409.57065891976606,
          -409.7229212790113,
          -409.85168254180303,
          -409.9820641312167,
          -410.11625501762245,
          -410.24167668655707,
          -410.3618912662454,
          -410.5081046678519,
          -410.6380713393558,
          -410.7569991668878,
          -410.8677024392332,
          -411.0009717162067,
          -411.1331149893965,
          -411.24768983461917,
          -411.36520658228466,
          -411.4939656111075,
          -411.64540963391005,
          -411.7789115244742,
          -411.89333970336304,
          -412.0338291065028,
          -412.16238103484824,
          -412.2859958454276,
          -412.3980075626917,
          -412.51394063177935,
          -412.61973551810746,
          -412.7347132668336,
          -412.8575452059517,
          -412.9774414289955,
          -413.0808440109065,
          -413.1849252426216,
          -413.3047874467528,
          -413.4182184596713,
          -413.52196004273094,
          -413.64319428987505,
          -413.7646918140544,
          -413.8755839006906,
          -413.9960585985862,
          -414.1069683716297,
          -414.2180607942359,
          -414.3437015117648,
          -414.44476491436603,
          -414.54689307903135,
          -414.6432864633482,
          -414.7450036147058,
          -414.8655678185768,
          -414.9832780137883,
          -415.10999691017383,
          -415.20113644286164,
          -415.29545066276603,
          -415.41517098177826,
          -415.5144242948432,
          -415.6095925477803,
          -415.7091626053975,
          -415.80226517264447,
          -415.90509911993627,
          -416.0200975276188,
          -416.11734579504883,
          -416.21994343067706,
          -416.33398599850386,
          -416.43809538715067,
          -416.5363271763885,
          -416.6278127903869,
          -416.7468379490448,
          -416.84882275593,
          -416.9445997884065,
          -417.05462388377157,
          -417.13800781854246,
          -417.24379445946545,
          -417.34039824812606,
          -417.4582787461078,
          -417.55093536617466,
          -417.66421421994477,
          -417.75097489760003,
          -417.8477845447763,
          -417.95353520085774,
          -418.0541325978827,
          -418.15633664734014,
          -418.26214369930193,
          -418.3613685512143,
          -418.4500634367756,
          -418.53416209048663,
          -418.6163504114041,
          -418.7078808297338,
          -418.7925421662493,
          -418.8835446560132,
          -418.9795043245958,
          -419.0752328360631,
          -419.1679268661045
         ],
         "yaxis": "y2"
        }
       ],
       "layout": {
        "annotations": [
         {
          "font": {
           "size": 16
          },
          "showarrow": false,
          "text": "Update Magnitude",
          "x": 0.225,
          "xanchor": "center",
          "xref": "paper",
          "y": 1,
          "yanchor": "bottom",
          "yref": "paper"
         },
         {
          "font": {
           "size": 16
          },
          "showarrow": false,
          "text": "Loss",
          "x": 0.775,
          "xanchor": "center",
          "xref": "paper",
          "y": 1,
          "yanchor": "bottom",
          "yref": "paper"
         },
         {
          "font": {
           "size": 16
          },
          "showarrow": false,
          "text": "Iterations",
          "x": 0.5,
          "xanchor": "center",
          "xref": "paper",
          "y": 0,
          "yanchor": "top",
          "yref": "paper",
          "yshift": -30
         }
        ],
        "showlegend": false,
        "template": {
         "data": {
          "bar": [
           {
            "error_x": {
             "color": "#2a3f5f"
            },
            "error_y": {
             "color": "#2a3f5f"
            },
            "marker": {
             "line": {
              "color": "#E5ECF6",
              "width": 0.5
             },
             "pattern": {
              "fillmode": "overlay",
              "size": 10,
              "solidity": 0.2
             }
            },
            "type": "bar"
           }
          ],
          "barpolar": [
           {
            "marker": {
             "line": {
              "color": "#E5ECF6",
              "width": 0.5
             },
             "pattern": {
              "fillmode": "overlay",
              "size": 10,
              "solidity": 0.2
             }
            },
            "type": "barpolar"
           }
          ],
          "carpet": [
           {
            "aaxis": {
             "endlinecolor": "#2a3f5f",
             "gridcolor": "white",
             "linecolor": "white",
             "minorgridcolor": "white",
             "startlinecolor": "#2a3f5f"
            },
            "baxis": {
             "endlinecolor": "#2a3f5f",
             "gridcolor": "white",
             "linecolor": "white",
             "minorgridcolor": "white",
             "startlinecolor": "#2a3f5f"
            },
            "type": "carpet"
           }
          ],
          "choropleth": [
           {
            "colorbar": {
             "outlinewidth": 0,
             "ticks": ""
            },
            "type": "choropleth"
           }
          ],
          "contour": [
           {
            "colorbar": {
             "outlinewidth": 0,
             "ticks": ""
            },
            "colorscale": [
             [
              0,
              "#0d0887"
             ],
             [
              0.1111111111111111,
              "#46039f"
             ],
             [
              0.2222222222222222,
              "#7201a8"
             ],
             [
              0.3333333333333333,
              "#9c179e"
             ],
             [
              0.4444444444444444,
              "#bd3786"
             ],
             [
              0.5555555555555556,
              "#d8576b"
             ],
             [
              0.6666666666666666,
              "#ed7953"
             ],
             [
              0.7777777777777778,
              "#fb9f3a"
             ],
             [
              0.8888888888888888,
              "#fdca26"
             ],
             [
              1,
              "#f0f921"
             ]
            ],
            "type": "contour"
           }
          ],
          "contourcarpet": [
           {
            "colorbar": {
             "outlinewidth": 0,
             "ticks": ""
            },
            "type": "contourcarpet"
           }
          ],
          "heatmap": [
           {
            "colorbar": {
             "outlinewidth": 0,
             "ticks": ""
            },
            "colorscale": [
             [
              0,
              "#0d0887"
             ],
             [
              0.1111111111111111,
              "#46039f"
             ],
             [
              0.2222222222222222,
              "#7201a8"
             ],
             [
              0.3333333333333333,
              "#9c179e"
             ],
             [
              0.4444444444444444,
              "#bd3786"
             ],
             [
              0.5555555555555556,
              "#d8576b"
             ],
             [
              0.6666666666666666,
              "#ed7953"
             ],
             [
              0.7777777777777778,
              "#fb9f3a"
             ],
             [
              0.8888888888888888,
              "#fdca26"
             ],
             [
              1,
              "#f0f921"
             ]
            ],
            "type": "heatmap"
           }
          ],
          "heatmapgl": [
           {
            "colorbar": {
             "outlinewidth": 0,
             "ticks": ""
            },
            "colorscale": [
             [
              0,
              "#0d0887"
             ],
             [
              0.1111111111111111,
              "#46039f"
             ],
             [
              0.2222222222222222,
              "#7201a8"
             ],
             [
              0.3333333333333333,
              "#9c179e"
             ],
             [
              0.4444444444444444,
              "#bd3786"
             ],
             [
              0.5555555555555556,
              "#d8576b"
             ],
             [
              0.6666666666666666,
              "#ed7953"
             ],
             [
              0.7777777777777778,
              "#fb9f3a"
             ],
             [
              0.8888888888888888,
              "#fdca26"
             ],
             [
              1,
              "#f0f921"
             ]
            ],
            "type": "heatmapgl"
           }
          ],
          "histogram": [
           {
            "marker": {
             "pattern": {
              "fillmode": "overlay",
              "size": 10,
              "solidity": 0.2
             }
            },
            "type": "histogram"
           }
          ],
          "histogram2d": [
           {
            "colorbar": {
             "outlinewidth": 0,
             "ticks": ""
            },
            "colorscale": [
             [
              0,
              "#0d0887"
             ],
             [
              0.1111111111111111,
              "#46039f"
             ],
             [
              0.2222222222222222,
              "#7201a8"
             ],
             [
              0.3333333333333333,
              "#9c179e"
             ],
             [
              0.4444444444444444,
              "#bd3786"
             ],
             [
              0.5555555555555556,
              "#d8576b"
             ],
             [
              0.6666666666666666,
              "#ed7953"
             ],
             [
              0.7777777777777778,
              "#fb9f3a"
             ],
             [
              0.8888888888888888,
              "#fdca26"
             ],
             [
              1,
              "#f0f921"
             ]
            ],
            "type": "histogram2d"
           }
          ],
          "histogram2dcontour": [
           {
            "colorbar": {
             "outlinewidth": 0,
             "ticks": ""
            },
            "colorscale": [
             [
              0,
              "#0d0887"
             ],
             [
              0.1111111111111111,
              "#46039f"
             ],
             [
              0.2222222222222222,
              "#7201a8"
             ],
             [
              0.3333333333333333,
              "#9c179e"
             ],
             [
              0.4444444444444444,
              "#bd3786"
             ],
             [
              0.5555555555555556,
              "#d8576b"
             ],
             [
              0.6666666666666666,
              "#ed7953"
             ],
             [
              0.7777777777777778,
              "#fb9f3a"
             ],
             [
              0.8888888888888888,
              "#fdca26"
             ],
             [
              1,
              "#f0f921"
             ]
            ],
            "type": "histogram2dcontour"
           }
          ],
          "mesh3d": [
           {
            "colorbar": {
             "outlinewidth": 0,
             "ticks": ""
            },
            "type": "mesh3d"
           }
          ],
          "parcoords": [
           {
            "line": {
             "colorbar": {
              "outlinewidth": 0,
              "ticks": ""
             }
            },
            "type": "parcoords"
           }
          ],
          "pie": [
           {
            "automargin": true,
            "type": "pie"
           }
          ],
          "scatter": [
           {
            "fillpattern": {
             "fillmode": "overlay",
             "size": 10,
             "solidity": 0.2
            },
            "type": "scatter"
           }
          ],
          "scatter3d": [
           {
            "line": {
             "colorbar": {
              "outlinewidth": 0,
              "ticks": ""
             }
            },
            "marker": {
             "colorbar": {
              "outlinewidth": 0,
              "ticks": ""
             }
            },
            "type": "scatter3d"
           }
          ],
          "scattercarpet": [
           {
            "marker": {
             "colorbar": {
              "outlinewidth": 0,
              "ticks": ""
             }
            },
            "type": "scattercarpet"
           }
          ],
          "scattergeo": [
           {
            "marker": {
             "colorbar": {
              "outlinewidth": 0,
              "ticks": ""
             }
            },
            "type": "scattergeo"
           }
          ],
          "scattergl": [
           {
            "marker": {
             "colorbar": {
              "outlinewidth": 0,
              "ticks": ""
             }
            },
            "type": "scattergl"
           }
          ],
          "scattermapbox": [
           {
            "marker": {
             "colorbar": {
              "outlinewidth": 0,
              "ticks": ""
             }
            },
            "type": "scattermapbox"
           }
          ],
          "scatterpolar": [
           {
            "marker": {
             "colorbar": {
              "outlinewidth": 0,
              "ticks": ""
             }
            },
            "type": "scatterpolar"
           }
          ],
          "scatterpolargl": [
           {
            "marker": {
             "colorbar": {
              "outlinewidth": 0,
              "ticks": ""
             }
            },
            "type": "scatterpolargl"
           }
          ],
          "scatterternary": [
           {
            "marker": {
             "colorbar": {
              "outlinewidth": 0,
              "ticks": ""
             }
            },
            "type": "scatterternary"
           }
          ],
          "surface": [
           {
            "colorbar": {
             "outlinewidth": 0,
             "ticks": ""
            },
            "colorscale": [
             [
              0,
              "#0d0887"
             ],
             [
              0.1111111111111111,
              "#46039f"
             ],
             [
              0.2222222222222222,
              "#7201a8"
             ],
             [
              0.3333333333333333,
              "#9c179e"
             ],
             [
              0.4444444444444444,
              "#bd3786"
             ],
             [
              0.5555555555555556,
              "#d8576b"
             ],
             [
              0.6666666666666666,
              "#ed7953"
             ],
             [
              0.7777777777777778,
              "#fb9f3a"
             ],
             [
              0.8888888888888888,
              "#fdca26"
             ],
             [
              1,
              "#f0f921"
             ]
            ],
            "type": "surface"
           }
          ],
          "table": [
           {
            "cells": {
             "fill": {
              "color": "#EBF0F8"
             },
             "line": {
              "color": "white"
             }
            },
            "header": {
             "fill": {
              "color": "#C8D4E3"
             },
             "line": {
              "color": "white"
             }
            },
            "type": "table"
           }
          ]
         },
         "layout": {
          "annotationdefaults": {
           "arrowcolor": "#2a3f5f",
           "arrowhead": 0,
           "arrowwidth": 1
          },
          "autotypenumbers": "strict",
          "coloraxis": {
           "colorbar": {
            "outlinewidth": 0,
            "ticks": ""
           }
          },
          "colorscale": {
           "diverging": [
            [
             0,
             "#8e0152"
            ],
            [
             0.1,
             "#c51b7d"
            ],
            [
             0.2,
             "#de77ae"
            ],
            [
             0.3,
             "#f1b6da"
            ],
            [
             0.4,
             "#fde0ef"
            ],
            [
             0.5,
             "#f7f7f7"
            ],
            [
             0.6,
             "#e6f5d0"
            ],
            [
             0.7,
             "#b8e186"
            ],
            [
             0.8,
             "#7fbc41"
            ],
            [
             0.9,
             "#4d9221"
            ],
            [
             1,
             "#276419"
            ]
           ],
           "sequential": [
            [
             0,
             "#0d0887"
            ],
            [
             0.1111111111111111,
             "#46039f"
            ],
            [
             0.2222222222222222,
             "#7201a8"
            ],
            [
             0.3333333333333333,
             "#9c179e"
            ],
            [
             0.4444444444444444,
             "#bd3786"
            ],
            [
             0.5555555555555556,
             "#d8576b"
            ],
            [
             0.6666666666666666,
             "#ed7953"
            ],
            [
             0.7777777777777778,
             "#fb9f3a"
            ],
            [
             0.8888888888888888,
             "#fdca26"
            ],
            [
             1,
             "#f0f921"
            ]
           ],
           "sequentialminus": [
            [
             0,
             "#0d0887"
            ],
            [
             0.1111111111111111,
             "#46039f"
            ],
            [
             0.2222222222222222,
             "#7201a8"
            ],
            [
             0.3333333333333333,
             "#9c179e"
            ],
            [
             0.4444444444444444,
             "#bd3786"
            ],
            [
             0.5555555555555556,
             "#d8576b"
            ],
            [
             0.6666666666666666,
             "#ed7953"
            ],
            [
             0.7777777777777778,
             "#fb9f3a"
            ],
            [
             0.8888888888888888,
             "#fdca26"
            ],
            [
             1,
             "#f0f921"
            ]
           ]
          },
          "colorway": [
           "#636efa",
           "#EF553B",
           "#00cc96",
           "#ab63fa",
           "#FFA15A",
           "#19d3f3",
           "#FF6692",
           "#B6E880",
           "#FF97FF",
           "#FECB52"
          ],
          "font": {
           "color": "#2a3f5f"
          },
          "geo": {
           "bgcolor": "white",
           "lakecolor": "white",
           "landcolor": "#E5ECF6",
           "showlakes": true,
           "showland": true,
           "subunitcolor": "white"
          },
          "hoverlabel": {
           "align": "left"
          },
          "hovermode": "closest",
          "mapbox": {
           "style": "light"
          },
          "paper_bgcolor": "white",
          "plot_bgcolor": "#E5ECF6",
          "polar": {
           "angularaxis": {
            "gridcolor": "white",
            "linecolor": "white",
            "ticks": ""
           },
           "bgcolor": "#E5ECF6",
           "radialaxis": {
            "gridcolor": "white",
            "linecolor": "white",
            "ticks": ""
           }
          },
          "scene": {
           "xaxis": {
            "backgroundcolor": "#E5ECF6",
            "gridcolor": "white",
            "gridwidth": 2,
            "linecolor": "white",
            "showbackground": true,
            "ticks": "",
            "zerolinecolor": "white"
           },
           "yaxis": {
            "backgroundcolor": "#E5ECF6",
            "gridcolor": "white",
            "gridwidth": 2,
            "linecolor": "white",
            "showbackground": true,
            "ticks": "",
            "zerolinecolor": "white"
           },
           "zaxis": {
            "backgroundcolor": "#E5ECF6",
            "gridcolor": "white",
            "gridwidth": 2,
            "linecolor": "white",
            "showbackground": true,
            "ticks": "",
            "zerolinecolor": "white"
           }
          },
          "shapedefaults": {
           "line": {
            "color": "#2a3f5f"
           }
          },
          "ternary": {
           "aaxis": {
            "gridcolor": "white",
            "linecolor": "white",
            "ticks": ""
           },
           "baxis": {
            "gridcolor": "white",
            "linecolor": "white",
            "ticks": ""
           },
           "bgcolor": "#E5ECF6",
           "caxis": {
            "gridcolor": "white",
            "linecolor": "white",
            "ticks": ""
           }
          },
          "title": {
           "x": 0.05
          },
          "xaxis": {
           "automargin": true,
           "gridcolor": "white",
           "linecolor": "white",
           "ticks": "",
           "title": {
            "standoff": 15
           },
           "zerolinecolor": "white",
           "zerolinewidth": 2
          },
          "yaxis": {
           "automargin": true,
           "gridcolor": "white",
           "linecolor": "white",
           "ticks": "",
           "title": {
            "standoff": 15
           },
           "zerolinecolor": "white",
           "zerolinewidth": 2
          }
         }
        },
        "title": {
         "text": "Diagnostic History"
        },
        "xaxis": {
         "anchor": "y",
         "domain": [
          0,
          0.45
         ]
        },
        "xaxis2": {
         "anchor": "y2",
         "domain": [
          0.55,
          1
         ]
        },
        "yaxis": {
         "anchor": "x",
         "domain": [
          0,
          1
         ]
        },
        "yaxis2": {
         "anchor": "x2",
         "domain": [
          0,
          1
         ]
        }
       }
      }
     },
     "metadata": {},
     "output_type": "display_data"
    }
   ],
   "source": [
    "networks = [\n",
    "    \"global_warming\", \n",
    "    \"gun_regulations\",\n",
    "    \"immigration\",\n",
    "    \"inflation\",\n",
    "    \"roe_v_wade\",\n",
    "    \"trump_impeachment\",\n",
    "    \"ukraine_war\",\n",
    "    \"vaccine_hesitancy\",\n",
    "]\n",
    "prefix = \"output/Incremental_Datasets_old/\" \n",
    "prefix = \"output/Incremental_Datasets_weighted/\" \n",
    "network = networks[5]\n",
    "suffix = \"_network_random_walks_lr_10-3_15K_dc_095_pl_10_bs_10\"\n",
    "\n",
    "fg = prefix + network + suffix + \".graphml\" \n",
    "fh = prefix + network + suffix + \".pkl\"\n",
    "\n",
    "hist, diagnostic_hist = msg_passing.load_history(fh)\n",
    "g = msg_passing.load_graph_graphml(fg) \n",
    "pg, aux = msg_passing.prune_graph(g)\n",
    "\n",
    "fig = display.plot_cos_dist_histogram(pg) \n",
    "fig = display.plot_confusion_matrix(pg, utils.get_top_n_nodes(pg, 20), 2)\n",
    "fig = display.plot_diagnostic(diagnostic_hist)\n",
    "#fig.write_html(\"images/\" + network + suffix + \".html\")"
   ]
  },
  {
   "cell_type": "code",
   "execution_count": 38,
   "metadata": {},
   "outputs": [],
   "source": [
    "# save cluster evals\n",
    "\n",
    "infiles = [\n",
    "    \"global_warming_network\",\n",
    "    \"gun_regulations_network\",\n",
    "    \"immigration_network\",\n",
    "    \"inflation_network\",\n",
    "    \"roe_v_wade_network\",\n",
    "    \"trump_impeachment_network\",\n",
    "    \"ukraine_war_network\",\n",
    "    \"vaccine_hesitancy_network\"\n",
    "]\n",
    "outdir = \"output/Incremental_Datasets/\"\n",
    "#outdir = \"output/archive/\"\n",
    "out_suffix = \"_random_walks_lr_10-3_40K_dc_095_pl_10_bs_10\"\n",
    "#out_suffix = \"_v3_random_walk_batch_10_path_10_50K_lr_3_dim_3\"\n",
    "imdir = \"images/clustering/\"\n",
    "top_n_nodes = [20, 50, 100]\n",
    "for f in infiles:\n",
    "    fname = outdir + f \n",
    "    g, hist, diagnostic_hist = load_results(outdir, f + out_suffix)\n",
    "    pg, _ = msg_passing.prune_graph(g)\n",
    "    #msg_passing.initialize_node_values(pg, size=3)\n",
    "    curr_top_n_nodes = [i for i in top_n_nodes]\n",
    "    curr_top_n_nodes.append(len(pg.nodes()))\n",
    "    fig = display.plot_top_n_cluster_evaluations(pg, curr_top_n_nodes, 2, 10, title=f, with_random_baseline=True, show=False)\n",
    "    fig.write_html(imdir + f + f\"_cluster_evals.html\")"
   ]
  },
  {
   "cell_type": "code",
   "execution_count": 64,
   "metadata": {},
   "outputs": [
    {
     "data": {
      "application/vnd.plotly.v1+json": {
       "config": {
        "plotlyServerURL": "https://plot.ly"
       },
       "data": [
        {
         "hovertemplate": "Top N Nodes Clustered=20<br>Is Random Baseline=False<br>Issues=%{x}<br>Silhouette Score=%{y}<extra></extra>",
         "legendgroup": "20, False",
         "line": {
          "color": "#636efa",
          "dash": "solid"
         },
         "marker": {
          "symbol": "circle"
         },
         "mode": "lines",
         "name": "20, False",
         "orientation": "v",
         "showlegend": true,
         "type": "scatter",
         "x": [
          "global_warming_network",
          "gun_regulations_network",
          "immigration_network",
          "inflation_network",
          "roe_v_wade_network",
          "trump_impeachment_network",
          "ukraine_war_network",
          "vaccine_hesitancy_network"
         ],
         "xaxis": "x",
         "y": [
          0.553547701520479,
          0.7565309958368936,
          0.6512133940347828,
          0.6246794112912807,
          0.746711723088107,
          0.6049698190835172,
          0.6432218906760119,
          0.8196070275900492
         ],
         "yaxis": "y"
        },
        {
         "hovertemplate": "Top N Nodes Clustered=20<br>Is Random Baseline=True<br>Issues=%{x}<br>Silhouette Score=%{y}<extra></extra>",
         "legendgroup": "20, True",
         "line": {
          "color": "#636efa",
          "dash": "dot"
         },
         "marker": {
          "symbol": "circle"
         },
         "mode": "lines",
         "name": "20, True",
         "orientation": "v",
         "showlegend": true,
         "type": "scatter",
         "x": [
          "global_warming_network",
          "gun_regulations_network",
          "immigration_network",
          "inflation_network",
          "roe_v_wade_network",
          "trump_impeachment_network",
          "ukraine_war_network",
          "vaccine_hesitancy_network"
         ],
         "xaxis": "x",
         "y": [
          0.38301926254171825,
          0.45613038332343325,
          0.42689863836497055,
          0.4994699169817494,
          0.4038405968201825,
          0.38444411964690345,
          0.4228188055006233,
          0.41698169325148393
         ],
         "yaxis": "y"
        },
        {
         "hovertemplate": "Top N Nodes Clustered=50<br>Is Random Baseline=False<br>Issues=%{x}<br>Silhouette Score=%{y}<extra></extra>",
         "legendgroup": "50, False",
         "line": {
          "color": "#EF553B",
          "dash": "solid"
         },
         "marker": {
          "symbol": "circle"
         },
         "mode": "lines",
         "name": "50, False",
         "orientation": "v",
         "showlegend": true,
         "type": "scatter",
         "x": [
          "global_warming_network",
          "gun_regulations_network",
          "immigration_network",
          "inflation_network",
          "roe_v_wade_network",
          "trump_impeachment_network",
          "ukraine_war_network",
          "vaccine_hesitancy_network"
         ],
         "xaxis": "x",
         "y": [
          0.5357470001991631,
          0.6615268761963259,
          0.576810342885056,
          0.652757530369546,
          0.652640336313754,
          0.4340852236646559,
          0.6403896304434922,
          0.7487211619686714
         ],
         "yaxis": "y"
        },
        {
         "hovertemplate": "Top N Nodes Clustered=50<br>Is Random Baseline=True<br>Issues=%{x}<br>Silhouette Score=%{y}<extra></extra>",
         "legendgroup": "50, True",
         "line": {
          "color": "#EF553B",
          "dash": "dot"
         },
         "marker": {
          "symbol": "circle"
         },
         "mode": "lines",
         "name": "50, True",
         "orientation": "v",
         "showlegend": true,
         "type": "scatter",
         "x": [
          "global_warming_network",
          "gun_regulations_network",
          "immigration_network",
          "inflation_network",
          "roe_v_wade_network",
          "trump_impeachment_network",
          "ukraine_war_network",
          "vaccine_hesitancy_network"
         ],
         "xaxis": "x",
         "y": [
          0.4343468776902466,
          0.4530288641784033,
          0.4895556286531836,
          0.49613379735984364,
          0.4249119415432288,
          0.45970023236917434,
          0.5109532372747245,
          0.4382186528349443
         ],
         "yaxis": "y"
        },
        {
         "hovertemplate": "Top N Nodes Clustered=100<br>Is Random Baseline=False<br>Issues=%{x}<br>Silhouette Score=%{y}<extra></extra>",
         "legendgroup": "100, False",
         "line": {
          "color": "#00cc96",
          "dash": "solid"
         },
         "marker": {
          "symbol": "circle"
         },
         "mode": "lines",
         "name": "100, False",
         "orientation": "v",
         "showlegend": true,
         "type": "scatter",
         "x": [
          "global_warming_network",
          "gun_regulations_network",
          "immigration_network",
          "inflation_network",
          "roe_v_wade_network",
          "trump_impeachment_network",
          "ukraine_war_network",
          "vaccine_hesitancy_network"
         ],
         "xaxis": "x",
         "y": [
          0.5320877525400156,
          0.6813042359980005,
          0.5128396734403293,
          0.5794708186756204,
          0.6549827969094482,
          0.46216150329006545,
          0.5653413502769509,
          0.7220722437109494
         ],
         "yaxis": "y"
        },
        {
         "hovertemplate": "Top N Nodes Clustered=100<br>Is Random Baseline=True<br>Issues=%{x}<br>Silhouette Score=%{y}<extra></extra>",
         "legendgroup": "100, True",
         "line": {
          "color": "#00cc96",
          "dash": "dot"
         },
         "marker": {
          "symbol": "circle"
         },
         "mode": "lines",
         "name": "100, True",
         "orientation": "v",
         "showlegend": true,
         "type": "scatter",
         "x": [
          "global_warming_network",
          "gun_regulations_network",
          "immigration_network",
          "inflation_network",
          "roe_v_wade_network",
          "trump_impeachment_network",
          "ukraine_war_network",
          "vaccine_hesitancy_network"
         ],
         "xaxis": "x",
         "y": [
          0.45491218882997697,
          0.4146872831930208,
          0.44164966024069247,
          0.44160072646238263,
          0.4065407708109284,
          0.41755137894538086,
          0.4633222024568298,
          0.4252501340687626
         ],
         "yaxis": "y"
        },
        {
         "hovertemplate": "Top N Nodes Clustered=all<br>Is Random Baseline=False<br>Issues=%{x}<br>Silhouette Score=%{y}<extra></extra>",
         "legendgroup": "all, False",
         "line": {
          "color": "#ab63fa",
          "dash": "solid"
         },
         "marker": {
          "symbol": "circle"
         },
         "mode": "lines",
         "name": "all, False",
         "orientation": "v",
         "showlegend": true,
         "type": "scatter",
         "x": [
          "global_warming_network",
          "gun_regulations_network",
          "immigration_network",
          "inflation_network",
          "roe_v_wade_network",
          "trump_impeachment_network",
          "ukraine_war_network",
          "vaccine_hesitancy_network"
         ],
         "xaxis": "x",
         "y": [
          0.5156897337395788,
          0.664834844221105,
          0.5297464753118474,
          0.616986198766401,
          0.6245903646309369,
          0.4547515181453793,
          0.6198691833085063,
          0.69943455273822
         ],
         "yaxis": "y"
        },
        {
         "hovertemplate": "Top N Nodes Clustered=all<br>Is Random Baseline=True<br>Issues=%{x}<br>Silhouette Score=%{y}<extra></extra>",
         "legendgroup": "all, True",
         "line": {
          "color": "#ab63fa",
          "dash": "dot"
         },
         "marker": {
          "symbol": "circle"
         },
         "mode": "lines",
         "name": "all, True",
         "orientation": "v",
         "showlegend": true,
         "type": "scatter",
         "x": [
          "global_warming_network",
          "gun_regulations_network",
          "immigration_network",
          "inflation_network",
          "roe_v_wade_network",
          "trump_impeachment_network",
          "ukraine_war_network",
          "vaccine_hesitancy_network"
         ],
         "xaxis": "x",
         "y": [
          0.46650793455900075,
          0.3988414717576579,
          0.3894897942593019,
          0.4491974538848188,
          0.40971971730687434,
          0.40430543883827985,
          0.40763675575184755,
          0.4064417080229673
         ],
         "yaxis": "y"
        }
       ],
       "layout": {
        "legend": {
         "title": {
          "text": "Top N Nodes Clustered, Is Random Baseline"
         },
         "tracegroupgap": 0
        },
        "margin": {
         "t": 60
        },
        "template": {
         "data": {
          "bar": [
           {
            "error_x": {
             "color": "#2a3f5f"
            },
            "error_y": {
             "color": "#2a3f5f"
            },
            "marker": {
             "line": {
              "color": "#E5ECF6",
              "width": 0.5
             },
             "pattern": {
              "fillmode": "overlay",
              "size": 10,
              "solidity": 0.2
             }
            },
            "type": "bar"
           }
          ],
          "barpolar": [
           {
            "marker": {
             "line": {
              "color": "#E5ECF6",
              "width": 0.5
             },
             "pattern": {
              "fillmode": "overlay",
              "size": 10,
              "solidity": 0.2
             }
            },
            "type": "barpolar"
           }
          ],
          "carpet": [
           {
            "aaxis": {
             "endlinecolor": "#2a3f5f",
             "gridcolor": "white",
             "linecolor": "white",
             "minorgridcolor": "white",
             "startlinecolor": "#2a3f5f"
            },
            "baxis": {
             "endlinecolor": "#2a3f5f",
             "gridcolor": "white",
             "linecolor": "white",
             "minorgridcolor": "white",
             "startlinecolor": "#2a3f5f"
            },
            "type": "carpet"
           }
          ],
          "choropleth": [
           {
            "colorbar": {
             "outlinewidth": 0,
             "ticks": ""
            },
            "type": "choropleth"
           }
          ],
          "contour": [
           {
            "colorbar": {
             "outlinewidth": 0,
             "ticks": ""
            },
            "colorscale": [
             [
              0,
              "#0d0887"
             ],
             [
              0.1111111111111111,
              "#46039f"
             ],
             [
              0.2222222222222222,
              "#7201a8"
             ],
             [
              0.3333333333333333,
              "#9c179e"
             ],
             [
              0.4444444444444444,
              "#bd3786"
             ],
             [
              0.5555555555555556,
              "#d8576b"
             ],
             [
              0.6666666666666666,
              "#ed7953"
             ],
             [
              0.7777777777777778,
              "#fb9f3a"
             ],
             [
              0.8888888888888888,
              "#fdca26"
             ],
             [
              1,
              "#f0f921"
             ]
            ],
            "type": "contour"
           }
          ],
          "contourcarpet": [
           {
            "colorbar": {
             "outlinewidth": 0,
             "ticks": ""
            },
            "type": "contourcarpet"
           }
          ],
          "heatmap": [
           {
            "colorbar": {
             "outlinewidth": 0,
             "ticks": ""
            },
            "colorscale": [
             [
              0,
              "#0d0887"
             ],
             [
              0.1111111111111111,
              "#46039f"
             ],
             [
              0.2222222222222222,
              "#7201a8"
             ],
             [
              0.3333333333333333,
              "#9c179e"
             ],
             [
              0.4444444444444444,
              "#bd3786"
             ],
             [
              0.5555555555555556,
              "#d8576b"
             ],
             [
              0.6666666666666666,
              "#ed7953"
             ],
             [
              0.7777777777777778,
              "#fb9f3a"
             ],
             [
              0.8888888888888888,
              "#fdca26"
             ],
             [
              1,
              "#f0f921"
             ]
            ],
            "type": "heatmap"
           }
          ],
          "heatmapgl": [
           {
            "colorbar": {
             "outlinewidth": 0,
             "ticks": ""
            },
            "colorscale": [
             [
              0,
              "#0d0887"
             ],
             [
              0.1111111111111111,
              "#46039f"
             ],
             [
              0.2222222222222222,
              "#7201a8"
             ],
             [
              0.3333333333333333,
              "#9c179e"
             ],
             [
              0.4444444444444444,
              "#bd3786"
             ],
             [
              0.5555555555555556,
              "#d8576b"
             ],
             [
              0.6666666666666666,
              "#ed7953"
             ],
             [
              0.7777777777777778,
              "#fb9f3a"
             ],
             [
              0.8888888888888888,
              "#fdca26"
             ],
             [
              1,
              "#f0f921"
             ]
            ],
            "type": "heatmapgl"
           }
          ],
          "histogram": [
           {
            "marker": {
             "pattern": {
              "fillmode": "overlay",
              "size": 10,
              "solidity": 0.2
             }
            },
            "type": "histogram"
           }
          ],
          "histogram2d": [
           {
            "colorbar": {
             "outlinewidth": 0,
             "ticks": ""
            },
            "colorscale": [
             [
              0,
              "#0d0887"
             ],
             [
              0.1111111111111111,
              "#46039f"
             ],
             [
              0.2222222222222222,
              "#7201a8"
             ],
             [
              0.3333333333333333,
              "#9c179e"
             ],
             [
              0.4444444444444444,
              "#bd3786"
             ],
             [
              0.5555555555555556,
              "#d8576b"
             ],
             [
              0.6666666666666666,
              "#ed7953"
             ],
             [
              0.7777777777777778,
              "#fb9f3a"
             ],
             [
              0.8888888888888888,
              "#fdca26"
             ],
             [
              1,
              "#f0f921"
             ]
            ],
            "type": "histogram2d"
           }
          ],
          "histogram2dcontour": [
           {
            "colorbar": {
             "outlinewidth": 0,
             "ticks": ""
            },
            "colorscale": [
             [
              0,
              "#0d0887"
             ],
             [
              0.1111111111111111,
              "#46039f"
             ],
             [
              0.2222222222222222,
              "#7201a8"
             ],
             [
              0.3333333333333333,
              "#9c179e"
             ],
             [
              0.4444444444444444,
              "#bd3786"
             ],
             [
              0.5555555555555556,
              "#d8576b"
             ],
             [
              0.6666666666666666,
              "#ed7953"
             ],
             [
              0.7777777777777778,
              "#fb9f3a"
             ],
             [
              0.8888888888888888,
              "#fdca26"
             ],
             [
              1,
              "#f0f921"
             ]
            ],
            "type": "histogram2dcontour"
           }
          ],
          "mesh3d": [
           {
            "colorbar": {
             "outlinewidth": 0,
             "ticks": ""
            },
            "type": "mesh3d"
           }
          ],
          "parcoords": [
           {
            "line": {
             "colorbar": {
              "outlinewidth": 0,
              "ticks": ""
             }
            },
            "type": "parcoords"
           }
          ],
          "pie": [
           {
            "automargin": true,
            "type": "pie"
           }
          ],
          "scatter": [
           {
            "fillpattern": {
             "fillmode": "overlay",
             "size": 10,
             "solidity": 0.2
            },
            "type": "scatter"
           }
          ],
          "scatter3d": [
           {
            "line": {
             "colorbar": {
              "outlinewidth": 0,
              "ticks": ""
             }
            },
            "marker": {
             "colorbar": {
              "outlinewidth": 0,
              "ticks": ""
             }
            },
            "type": "scatter3d"
           }
          ],
          "scattercarpet": [
           {
            "marker": {
             "colorbar": {
              "outlinewidth": 0,
              "ticks": ""
             }
            },
            "type": "scattercarpet"
           }
          ],
          "scattergeo": [
           {
            "marker": {
             "colorbar": {
              "outlinewidth": 0,
              "ticks": ""
             }
            },
            "type": "scattergeo"
           }
          ],
          "scattergl": [
           {
            "marker": {
             "colorbar": {
              "outlinewidth": 0,
              "ticks": ""
             }
            },
            "type": "scattergl"
           }
          ],
          "scattermapbox": [
           {
            "marker": {
             "colorbar": {
              "outlinewidth": 0,
              "ticks": ""
             }
            },
            "type": "scattermapbox"
           }
          ],
          "scatterpolar": [
           {
            "marker": {
             "colorbar": {
              "outlinewidth": 0,
              "ticks": ""
             }
            },
            "type": "scatterpolar"
           }
          ],
          "scatterpolargl": [
           {
            "marker": {
             "colorbar": {
              "outlinewidth": 0,
              "ticks": ""
             }
            },
            "type": "scatterpolargl"
           }
          ],
          "scatterternary": [
           {
            "marker": {
             "colorbar": {
              "outlinewidth": 0,
              "ticks": ""
             }
            },
            "type": "scatterternary"
           }
          ],
          "surface": [
           {
            "colorbar": {
             "outlinewidth": 0,
             "ticks": ""
            },
            "colorscale": [
             [
              0,
              "#0d0887"
             ],
             [
              0.1111111111111111,
              "#46039f"
             ],
             [
              0.2222222222222222,
              "#7201a8"
             ],
             [
              0.3333333333333333,
              "#9c179e"
             ],
             [
              0.4444444444444444,
              "#bd3786"
             ],
             [
              0.5555555555555556,
              "#d8576b"
             ],
             [
              0.6666666666666666,
              "#ed7953"
             ],
             [
              0.7777777777777778,
              "#fb9f3a"
             ],
             [
              0.8888888888888888,
              "#fdca26"
             ],
             [
              1,
              "#f0f921"
             ]
            ],
            "type": "surface"
           }
          ],
          "table": [
           {
            "cells": {
             "fill": {
              "color": "#EBF0F8"
             },
             "line": {
              "color": "white"
             }
            },
            "header": {
             "fill": {
              "color": "#C8D4E3"
             },
             "line": {
              "color": "white"
             }
            },
            "type": "table"
           }
          ]
         },
         "layout": {
          "annotationdefaults": {
           "arrowcolor": "#2a3f5f",
           "arrowhead": 0,
           "arrowwidth": 1
          },
          "autotypenumbers": "strict",
          "coloraxis": {
           "colorbar": {
            "outlinewidth": 0,
            "ticks": ""
           }
          },
          "colorscale": {
           "diverging": [
            [
             0,
             "#8e0152"
            ],
            [
             0.1,
             "#c51b7d"
            ],
            [
             0.2,
             "#de77ae"
            ],
            [
             0.3,
             "#f1b6da"
            ],
            [
             0.4,
             "#fde0ef"
            ],
            [
             0.5,
             "#f7f7f7"
            ],
            [
             0.6,
             "#e6f5d0"
            ],
            [
             0.7,
             "#b8e186"
            ],
            [
             0.8,
             "#7fbc41"
            ],
            [
             0.9,
             "#4d9221"
            ],
            [
             1,
             "#276419"
            ]
           ],
           "sequential": [
            [
             0,
             "#0d0887"
            ],
            [
             0.1111111111111111,
             "#46039f"
            ],
            [
             0.2222222222222222,
             "#7201a8"
            ],
            [
             0.3333333333333333,
             "#9c179e"
            ],
            [
             0.4444444444444444,
             "#bd3786"
            ],
            [
             0.5555555555555556,
             "#d8576b"
            ],
            [
             0.6666666666666666,
             "#ed7953"
            ],
            [
             0.7777777777777778,
             "#fb9f3a"
            ],
            [
             0.8888888888888888,
             "#fdca26"
            ],
            [
             1,
             "#f0f921"
            ]
           ],
           "sequentialminus": [
            [
             0,
             "#0d0887"
            ],
            [
             0.1111111111111111,
             "#46039f"
            ],
            [
             0.2222222222222222,
             "#7201a8"
            ],
            [
             0.3333333333333333,
             "#9c179e"
            ],
            [
             0.4444444444444444,
             "#bd3786"
            ],
            [
             0.5555555555555556,
             "#d8576b"
            ],
            [
             0.6666666666666666,
             "#ed7953"
            ],
            [
             0.7777777777777778,
             "#fb9f3a"
            ],
            [
             0.8888888888888888,
             "#fdca26"
            ],
            [
             1,
             "#f0f921"
            ]
           ]
          },
          "colorway": [
           "#636efa",
           "#EF553B",
           "#00cc96",
           "#ab63fa",
           "#FFA15A",
           "#19d3f3",
           "#FF6692",
           "#B6E880",
           "#FF97FF",
           "#FECB52"
          ],
          "font": {
           "color": "#2a3f5f"
          },
          "geo": {
           "bgcolor": "white",
           "lakecolor": "white",
           "landcolor": "#E5ECF6",
           "showlakes": true,
           "showland": true,
           "subunitcolor": "white"
          },
          "hoverlabel": {
           "align": "left"
          },
          "hovermode": "closest",
          "mapbox": {
           "style": "light"
          },
          "paper_bgcolor": "white",
          "plot_bgcolor": "#E5ECF6",
          "polar": {
           "angularaxis": {
            "gridcolor": "white",
            "linecolor": "white",
            "ticks": ""
           },
           "bgcolor": "#E5ECF6",
           "radialaxis": {
            "gridcolor": "white",
            "linecolor": "white",
            "ticks": ""
           }
          },
          "scene": {
           "xaxis": {
            "backgroundcolor": "#E5ECF6",
            "gridcolor": "white",
            "gridwidth": 2,
            "linecolor": "white",
            "showbackground": true,
            "ticks": "",
            "zerolinecolor": "white"
           },
           "yaxis": {
            "backgroundcolor": "#E5ECF6",
            "gridcolor": "white",
            "gridwidth": 2,
            "linecolor": "white",
            "showbackground": true,
            "ticks": "",
            "zerolinecolor": "white"
           },
           "zaxis": {
            "backgroundcolor": "#E5ECF6",
            "gridcolor": "white",
            "gridwidth": 2,
            "linecolor": "white",
            "showbackground": true,
            "ticks": "",
            "zerolinecolor": "white"
           }
          },
          "shapedefaults": {
           "line": {
            "color": "#2a3f5f"
           }
          },
          "ternary": {
           "aaxis": {
            "gridcolor": "white",
            "linecolor": "white",
            "ticks": ""
           },
           "baxis": {
            "gridcolor": "white",
            "linecolor": "white",
            "ticks": ""
           },
           "bgcolor": "#E5ECF6",
           "caxis": {
            "gridcolor": "white",
            "linecolor": "white",
            "ticks": ""
           }
          },
          "title": {
           "x": 0.05
          },
          "xaxis": {
           "automargin": true,
           "gridcolor": "white",
           "linecolor": "white",
           "ticks": "",
           "title": {
            "standoff": 15
           },
           "zerolinecolor": "white",
           "zerolinewidth": 2
          },
          "yaxis": {
           "automargin": true,
           "gridcolor": "white",
           "linecolor": "white",
           "ticks": "",
           "title": {
            "standoff": 15
           },
           "zerolinecolor": "white",
           "zerolinewidth": 2
          }
         }
        },
        "xaxis": {
         "anchor": "y",
         "domain": [
          0,
          1
         ],
         "title": {
          "text": "Issues"
         }
        },
        "yaxis": {
         "anchor": "x",
         "domain": [
          0,
          1
         ],
         "title": {
          "text": "Silhouette Score"
         }
        }
       }
      }
     },
     "metadata": {},
     "output_type": "display_data"
    }
   ],
   "source": [
    "# save cluster evals\n",
    "\n",
    "infiles = [\n",
    "    \"global_warming_network\",\n",
    "    \"gun_regulations_network\",\n",
    "    \"immigration_network\",\n",
    "    \"inflation_network\",\n",
    "    \"roe_v_wade_network\",\n",
    "    \"trump_impeachment_network\",\n",
    "    \"ukraine_war_network\",\n",
    "    \"vaccine_hesitancy_network\"\n",
    "]\n",
    "outdir = \"output/Incremental_Datasets_extreme/\"\n",
    "#outdir = \"output/archive/\"\n",
    "out_suffix = \"_random_walks_lr_10-3_30K_dc_095_pl_10_bs_10\"\n",
    "#out_suffix = \"_v3_random_walk_batch_10_path_10_50K_lr_3_dim_3\"\n",
    "imdir = \"images/clustering/\"\n",
    "top_n_nodes = [20, 50, 100]\n",
    "issues, scores, top_ns, is_randoms = [], [], [], []\n",
    "combined = msg_passing.load_graph_graphml(outdir + \"combined\" + out_suffix + \".graphml\")\n",
    "for f in infiles:\n",
    "    fname = outdir + f \n",
    "    g, hist, diagnostic_hist = load_results(outdir, f + out_suffix)\n",
    "    pg, _ = msg_passing.prune_graph(g)\n",
    "    cp_g = pg.copy()\n",
    "    msg_passing.initialize_node_values(cp_g, size=pg.nodes()[list(pg)[0]][\"value\"].shape[0])\n",
    "    curr_top_n_nodes = [i for i in top_n_nodes]\n",
    "    curr_top_n_nodes.append(len(pg.nodes()))\n",
    "    for n in curr_top_n_nodes:\n",
    "        num = str(n) \n",
    "        if(n == len(pg.nodes())):\n",
    "            num = \"all\"\n",
    "        nodes = utils.get_top_n_nodes(pg, n)\n",
    "        score = parse_data.evaluate_clusters(combined, nodes, 2)\n",
    "        random_score = parse_data.evaluate_clusters(cp_g, nodes, 2) \n",
    "        issues.append(f)\n",
    "        scores.append(score)\n",
    "        top_ns.append(num)\n",
    "        is_randoms.append(False) \n",
    "        issues.append(f)\n",
    "        scores.append(random_score)\n",
    "        top_ns.append(num) \n",
    "        is_randoms.append(True) \n",
    "\n",
    "df = pd.DataFrame({\"Issues\": issues, \"Silhouette Score\": scores, \"Top N Nodes Clustered\": top_ns, \"Is Random Baseline\": is_randoms})\n",
    "plt_title = \"Cluster Evaluations\"\n",
    "fig = px.line(df, x=\"Issues\", y=\"Silhouette Score\", color=\"Top N Nodes Clustered\", line_dash=\"Is Random Baseline\")\n",
    "fig.show()\n",
    "fig.write_html(\"images/clustering_extreme/cluster_eval_combined.html\")"
   ]
  },
  {
   "cell_type": "code",
   "execution_count": 7,
   "metadata": {},
   "outputs": [],
   "source": [
    "# save cluster evals\n",
    "\n",
    "infiles = [\n",
    "    \"global_warming_network\",\n",
    "    \"gun_regulations_network\",\n",
    "    \"immigration_network\",\n",
    "    \"inflation_network\",\n",
    "    \"roe_v_wade_network\",\n",
    "    \"trump_impeachment_network\",\n",
    "    \"ukraine_war_network\",\n",
    "    \"vaccine_hesitancy_network\"\n",
    "    #\"combined\"\n",
    "]\n",
    "outdir = \"output/Incremental_Datasets_extreme/\"\n",
    "\n",
    "#outdir = \"output/archive/\"\n",
    "out_suffix = \"_random_walks_lr_10-3_30K_dc_095_pl_10_bs_10\"\n",
    "#out_suffix = \"_v3_random_walk_batch_10_path_10_50K_lr_3_dim_3\"\n",
    "imdir = \"images/confusion_matrices_extreme/\"\n",
    "top_n_nodes = [20, 50, 100]\n",
    "combined = msg_passing.load_graph_graphml(outdir + \"combined\" + out_suffix + \".graphml\")\n",
    "for f in infiles:\n",
    "    fname = outdir + f \n",
    "    g, hist, diagnostic_hist = load_results(outdir, f + out_suffix)\n",
    "    pg, _ = msg_passing.prune_graph(g)\n",
    "    cp_g = pg.copy()\n",
    "    msg_passing.initialize_node_values(cp_g, size=3)\n",
    "    curr_top_n_nodes = [i for i in top_n_nodes]\n",
    "    curr_top_n_nodes.append(len(pg.nodes()))\n",
    "    for n in curr_top_n_nodes:\n",
    "        curr_nodes = utils.get_top_n_nodes(pg, n)\n",
    "        fig = display.plot_confusion_matrix(pg, curr_nodes, 2, title=f + \" top \" + str(n) + \" nodes\", show=False)\n",
    "        fig.write_html(imdir + f + f\"_{n}_nodes.html\")\n",
    "        fig = display.plot_confusion_matrix(cp_g, curr_nodes, 2, title=f + \" random top \" + str(n) + \" nodes\", show=False)\n",
    "        fig.write_html(imdir + f + f\"_{n}_nodes_random.html\")\n",
    "        fig = display.plot_confusion_matrix(combined, curr_nodes, 2, title=f + \" combined top \" + str(n) + \" nodes\", show=False) \n",
    "        fig.write_html(imdir + f + f\"_{n}_nodes_combined.html\")"
   ]
  },
  {
   "cell_type": "code",
   "execution_count": 8,
   "metadata": {},
   "outputs": [
    {
     "name": "stdout",
     "output_type": "stream",
     "text": [
      "global_warming_network_random_walks_lr_10-3_20K_dc_095_pl_2_bs_10.graphml\n",
      "images/cm_variable/global_warming_network_random_walks_lr_10-3_20K_dc_095_pl_2_bs_10.html\n",
      "gun_regulations_network_random_walks_lr_10-3_20K_dc_095_pl_6_bs_10.graphml\n",
      "images/cm_variable/gun_regulations_network_random_walks_lr_10-3_20K_dc_095_pl_6_bs_10.html\n",
      "immigration_network_random_walks_lr_10-3_20K_dc_095_pl_4_bs_10.graphml\n",
      "images/cm_variable/immigration_network_random_walks_lr_10-3_20K_dc_095_pl_4_bs_10.html\n",
      "inflation_network_random_walks_lr_10-3_20K_dc_095_pl_2_bs_10.graphml\n",
      "images/cm_variable/inflation_network_random_walks_lr_10-3_20K_dc_095_pl_2_bs_10.html\n",
      "roe_v_wade_network_random_walks_lr_10-3_20K_dc_095_pl_2_bs_10.graphml\n",
      "images/cm_variable/roe_v_wade_network_random_walks_lr_10-3_20K_dc_095_pl_2_bs_10.html\n",
      "trump_impeachment_network_random_walks_lr_10-3_20K_dc_095_pl_9_bs_10.graphml\n",
      "images/cm_variable/trump_impeachment_network_random_walks_lr_10-3_20K_dc_095_pl_9_bs_10.html\n",
      "ukraine_war_network_random_walks_lr_10-3_20K_dc_095_pl_2_bs_10.graphml\n",
      "images/cm_variable/ukraine_war_network_random_walks_lr_10-3_20K_dc_095_pl_2_bs_10.html\n",
      "vaccine_hesitancy_network_random_walks_lr_10-3_20K_dc_095_pl_1_bs_10.graphml\n",
      "images/cm_variable/vaccine_hesitancy_network_random_walks_lr_10-3_20K_dc_095_pl_1_bs_10.html\n"
     ]
    }
   ],
   "source": [
    "outdir = \"output/Incremental_Datasets_variable_path/\"\n",
    "for f in os.listdir(outdir):\n",
    "    if(\"graphml\" not in f or \"cyto\" in f):\n",
    "        continue\n",
    "    print(f)\n",
    "    full_fname = outdir + f\n",
    "    g = msg_passing.load_graph_graphml(full_fname)\n",
    "    pg, _ = msg_passing.prune_graph(g) \n",
    "    curr_nodes = utils.get_top_n_nodes(pg, 20)\n",
    "    fig = display.plot_confusion_matrix_with_random_baseline(pg, curr_nodes, 2, title=f, show=False)\n",
    "    outf = \"images/cm_variable/\" + f[:-len(\".graphml\")] + \".html\"\n",
    "    print(outf)\n",
    "    fig.write_html(outf)"
   ]
  },
  {
   "cell_type": "code",
   "execution_count": 73,
   "metadata": {},
   "outputs": [],
   "source": [
    "titles = [\n",
    "    \"global_warming_network\",\n",
    "    \"gun_regulations_network\",\n",
    "    \"immigration_network\",\n",
    "    \"inflation_network\",\n",
    "    \"roe_v_wade_network\",\n",
    "    \"trump_impeachment_network\",\n",
    "    \"ukraine_war_network\",\n",
    "    \"vaccine_hesitancy_network\"\n",
    "]\n",
    "\n",
    "titles = titles[:6]\n",
    "\n",
    "histdir = \"output/Incremental_Datasets_weighted/\" \n",
    "#suffix = \"_random_walks_lr_10-3_30K_dc_095_pl_10_bs_10\"\n",
    "#suffix = \"_random_walks_lr_10-3_20K_dc_095_pl_10_bs_10\"\n",
    "suffix = \"_random_walks_lr_10-3_15K_dc_095_pl_10_bs_10\"\n",
    "hist_suffix = suffix + \".pkl\"\n",
    "graph_suffix = suffix + \".graphml\"\n",
    "\n",
    "hist_files = [histdir + t + hist_suffix for t in titles]\n",
    "graph_files = [histdir + t + graph_suffix for t in titles]\n",
    "hist, dhist = msg_passing.load_history(hist_files[1])\n",
    "g = msg_passing.load_graph_graphml(graph_files[1])\n",
    "pg, _ = msg_passing.prune_graph(g)\n",
    "#fig = display.plot_diagnostic(dhist)\n",
    "#fig = display.plot_cos_dist_histogram(pg)\n",
    "nodes = utils.get_top_n_nodes(pg, 20)\n",
    "#nodes.append(\"russia's war in ukraine\")\n",
    "#fig = display.plot_confusion_matrix(pg, nodes, 2)\n",
    "#fig = display.plot_top_n_cluster_evaluations(pg, [20, 50, 100], 2, 10, with_random_baseline=True)\n",
    "#fig = display.plot_diagnostic_grid(hist_files, titles, \"Update Magnitude and Loss\", 4, 2)\n",
    "#fig = display.plot_cos_dist_histogram_grid(graph_files, titles, \"Histogram of Pairwaise Cosine Distances - Random Baseline\", 2, 4, random_baseline=True)\n",
    "\n",
    "\"\"\"\n",
    "\n",
    "for i in range(len(titles)):\n",
    "    g = msg_passing.load_graph_graphml(graph_files[i])\n",
    "    g = msg_passing.load_graph_csv(\"Input/Incremental_Datasets/\" + titles[i] + \".csv\", clean_data=True)\n",
    "    pg, _ = msg_passing.prune_graph(g)\n",
    "    pg = utils.largest_connected_component(pg)\n",
    "    msg_passing.save_graph(pg, \"output/cyto_pruned/\" + titles[i]+ \".graphml\")\n",
    "\"\"\"\n",
    "top_n_nodes = [\"20\", \"50\", \"100\", \"all\"]\n",
    "#fig = display.plot_k_cluster_evals(graph_files, titles, top_n_nodes, 2, \"Clustering Comparison with Random Baseline\")\n",
    "\n",
    "\n",
    "for i in range(len(titles)):\n",
    "    g = msg_passing.load_graph_graphml(graph_files[i])\n",
    "    pg, _ = msg_passing.prune_graph(g)\n",
    "    fig = display.plot_confusion_matrix_with_random_baseline(pg, utils.get_top_n_nodes(pg, 20), 2, titles[i] + \" top 20 nodes\", show=False)\n",
    "    #fig = display.plot_top_n_cluster_evals(pg, top_n_nodes, 2, 10, \"N Cluster Scores - \" + titles[i], show=True)\n",
    "    fig.write_html(\"images/clustering_weighted/cm_\" + titles[i] + \".html\")\n",
    "\n",
    "\n",
    "#fig.write_html(\"images/diagnostic_grid_3.html\")\n",
    "#fig.write_html(\"images/histo_grid.html\")\n",
    "#fig.write_html(\"images/cluster_eval_test.html\")\n",
    "#fig.write_html(\"images/cm_test.html\")\n",
    "#print(fig)"
   ]
  },
  {
   "cell_type": "code",
   "execution_count": 77,
   "metadata": {},
   "outputs": [],
   "source": [
    "titles = [\n",
    "    \"global_warming_network\",\n",
    "    \"gun_regulations_network\",\n",
    "    \"immigration_network\",\n",
    "    \"inflation_network\",\n",
    "    \"roe_v_wade_network\",\n",
    "    \"trump_impeachment_network\",\n",
    "    \"ukraine_war_network\",\n",
    "    \"vaccine_hesitancy_network\"\n",
    "]\n",
    "\n",
    "titles = titles[:8]\n",
    "\n",
    "histdir = \"output/Incremental_Datasets_2/\" \n",
    "hist_suffix = \"_random_walks_lr_10-3_30K_dc_095_pl_10_bs_10.pkl\"\n",
    "graph_suffix = \"_random_walks_lr_10-3_30K_dc_095_pl_10_bs_10.graphml\"\n",
    "\n",
    "hist_files = [histdir + t + hist_suffix for t in titles]\n",
    "graph_files = [histdir + t + graph_suffix for t in titles]\n",
    "\n",
    "g = msg_passing.load_graph_graphml(graph_files[4])\n",
    "pg, _ = msg_passing.prune_graph(g)\n",
    "\n",
    "subnet = [ \n",
    "'supreme court',\n",
    "'defund the police',\n",
    "'joe biden',\n",
    "'maga republicans',\n",
    "'biden administration',\n",
    "'republican',\n",
    "'a ban on assault weapons',\n",
    "'biden',\n",
    "'pennsylvania',\n",
    "'an end to gun control \"nationwide.\"',\n",
    "'scotus',\n",
    "'bruen',\n",
    "'right to bear arms',\n",
    "'second amendment',\n",
    "'white house',\n",
    "'donald trump',\n",
    "'florida',\n",
    "'texas',\n",
    "'ron desantis',\n",
    "'democrats',\n",
    "'nra',\n",
    "'national rifle association',\n",
    "]\n",
    "\n",
    "subnet = [ \n",
    "    'mark kelly',\n",
    "    'roe v. wade',\n",
    "    'democratic',\n",
    "    'pro-life republicans'\n",
    "]\n",
    "test = utils.ego_network(pg, \"roe v. wade\", radius=2)\n",
    "sub = pg.subgraph(subnet)\n",
    "msg_passing.save_graph(test, \"output/save.graphml\")\n",
    "msg_passing.save_graph(sub, \"output/sub.graphml\")\n",
    "\n",
    "\"\"\"\n",
    "abs_thresh = 0.8 \n",
    "edges = []\n",
    "num_pos = 0\n",
    "num_neg = 0\n",
    "for u, v, w in pg.edges(data=\"weight\"):\n",
    "    if(abs(w) > abs_thresh):\n",
    "        edges.append((u, v, w))\n",
    "        if(w > 0):\n",
    "            num_pos += 1\n",
    "        else:\n",
    "            num_neg += 1\n",
    "\n",
    "e2 = []\n",
    "for n in pg.nodes():\n",
    "    for neighbor in pg.neighbors(n):\n",
    "        if(len(pg[n][neighbor].keys()) > 1):\n",
    "            weights = [pg[n][neighbor][k][\"weight\"] for k in pg[n][neighbor].keys()]\n",
    "            e2.append([n, neighbor, weights])\n",
    "\n",
    "print(utils.node_degrees(pg)[0][1])\n",
    "print(utils.node_degrees(pg))  \n",
    "print(len(e2), len(e2)/2)\n",
    "for e in e2:\n",
    "    print(e)\n",
    "\n",
    "\"\"\"\n",
    "\n",
    "#print(num_pos, num_neg)\n",
    "#print(edges)\n",
    "\n",
    "if(False):\n",
    "    for i in range(len(titles)):\n",
    "        g = msg_passing.load_graph_graphml(graph_files[i])\n",
    "        pg, _ = msg_passing.prune_graph(g)\n",
    "        fig = display.plot_confusion_matrix_with_random_baseline(pg, utils.get_top_n_nodes(pg, 20), 2, titles[i] + \" top 20 nodes\", show=False)\n",
    "        fig.write_html(\"images/cm_pruned/confusion_matrix_plot_\" + titles[i] + \".html\")\n",
    "\n",
    "#fig.write_html(\"images/diagnostic_grid.html\")\n",
    "#fig.write_html(\"images/histo_grid.html\")\n",
    "#fig.write_html(\"images/cluster_eval_extreme.html\")\n",
    "#print(fig)"
   ]
  }
 ],
 "metadata": {
  "kernelspec": {
   "display_name": "Python 3.9.10 ('venv39': venv)",
   "language": "python",
   "name": "python3"
  },
  "language_info": {
   "codemirror_mode": {
    "name": "ipython",
    "version": 3
   },
   "file_extension": ".py",
   "mimetype": "text/x-python",
   "name": "python",
   "nbconvert_exporter": "python",
   "pygments_lexer": "ipython3",
   "version": "3.9.10"
  },
  "orig_nbformat": 4,
  "vscode": {
   "interpreter": {
    "hash": "b876fb38630d8b7eff3227a637f339eaf3b214f70cea0bf24c7a5b65f81667aa"
   }
  }
 },
 "nbformat": 4,
 "nbformat_minor": 2
}
