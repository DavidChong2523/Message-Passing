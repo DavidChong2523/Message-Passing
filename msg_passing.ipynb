{
 "cells": [
  {
   "cell_type": "code",
   "execution_count": null,
   "metadata": {},
   "outputs": [],
   "source": [
    "%load_ext autoreload\n",
    "%autoreload 2"
   ]
  },
  {
   "cell_type": "code",
   "execution_count": null,
   "metadata": {},
   "outputs": [],
   "source": [
    "import networkx as nx\n",
    "import numpy as np\n",
    "import pandas as pd\n",
    "import random\n",
    "import os\n",
    "import sklearn.cluster \n",
    "\n",
    "import msg_passing\n",
    "import utils\n",
    "import run\n",
    "import display\n",
    "import parse_data"
   ]
  },
  {
   "cell_type": "code",
   "execution_count": null,
   "metadata": {},
   "outputs": [],
   "source": [
    "networks = [\n",
    "    \"global_warming\", \n",
    "    \"gun_regulations\",\n",
    "    \"immigration\",\n",
    "    \"inflation\",\n",
    "    \"roe_v_wade\",\n",
    "    \"trump_impeachment\",\n",
    "    \"ukraine_war\",\n",
    "    \"vaccine_hesitancy\",\n",
    "]\n",
    "prefix = \"output/Incremental_Datasets/\" \n",
    "prefix = \"output/\" \n",
    "network = networks[6]\n",
    "suffix = \"_v3_random_walk_batch_10_path_10_50K_lr_3_dim_3\"\n",
    "\n",
    "\n",
    "fg1 = prefix + network + suffix + \".graphml\" \n",
    "fh1 = prefix + network + suffix + \".pkl\"\n",
    "\n",
    "#fg = \"output/gun_regulations_v2_raw_answer_dedup_ques_50K_lr_3_dim_10.graphml\"\n",
    "#fh = \"output/gun_regulations_v2_raw_answer_dedup_ques_50K_lr_3_dim_10.pkl\"\n",
    "#fg = \"output/combined_v2_general_msg_passing_batch_10_path_10_100K_lr_3_dim_3.graphml\"\n",
    "#fh = \"output/combined_v2_general_msg_passing_batch_10_path_10_100K_lr_3_dim_3.pkl\"\n",
    "\n",
    "\n",
    "#fg = \"output/gun_regulations_v2_general_msg_passing_batch_10_path_10_500K_lr_3_dim_3.graphml\" \n",
    "#fh = \"output/gun_regulations_v2_general_msg_passing_batch_10_path_10_500K_lr_3_dim_3.pkl\"\n",
    "\n",
    "fg = \"output/combined_v3_random_walk_batch_10_path_10_50K_lr_3_dim_3.graphml\"\n",
    "fh = \"output/combined_v3_random_walk_batch_10_path_10_50K_lr_3_dim_3.pkl\"\n",
    "\n",
    "#hist, diagnostic_hist = msg_passing.load_history(fh) \n",
    "g = msg_passing.load_graph_graphml(fg) \n",
    "pg, aux = msg_passing.prune_graph(g)\n",
    "\n",
    "g1 = msg_passing.load_graph_graphml(fg1) \n",
    "pg1, aux1 = msg_passing.prune_graph(g1)\n",
    "#display.plot_diagnostic(diagnostic_hist) \n",
    "top_nodes = [u[0] for u in utils.node_degrees(pg1)]\n",
    "real_top_nodes = []\n",
    "i = 0\n",
    "added = 0\n",
    "while(added < 20):\n",
    "    if(top_nodes[i] in pg.nodes()):\n",
    "        real_top_nodes.append(top_nodes[i]) \n",
    "        added += 1\n",
    "    i += 1\n",
    "#pg = msg_passing.initialize_node_values(pg, size=3)\n",
    "#fig = display.node_confusion_matrix(pg, real_top_nodes, title=network) \n",
    "fig = display.node_confusion_matrix(pg1, real_top_nodes, title=\"single network\")\n",
    "#fig = display.confusion_matrix(pg, 20, title=network)\n",
    "fig.write_html(\"images/\" + network + suffix + \".html\")\n",
    "fig = display.cos_dist_histogram(pg, title=network)\n",
    "print(\"final loss:\", msg_passing.loss_cos_dist(pg))"
   ]
  }
 ],
 "metadata": {
  "kernelspec": {
   "display_name": "Python 3.9.10 ('venv39': venv)",
   "language": "python",
   "name": "python3"
  },
  "language_info": {
   "name": "python",
   "version": "3.9.10"
  },
  "orig_nbformat": 4,
  "vscode": {
   "interpreter": {
    "hash": "b876fb38630d8b7eff3227a637f339eaf3b214f70cea0bf24c7a5b65f81667aa"
   }
  }
 },
 "nbformat": 4,
 "nbformat_minor": 2
}
