{
 "cells": [
  {
   "cell_type": "code",
   "execution_count": 1,
   "metadata": {},
   "outputs": [],
   "source": [
    "%load_ext autoreload\n",
    "%autoreload 2"
   ]
  },
  {
   "cell_type": "code",
   "execution_count": 2,
   "metadata": {},
   "outputs": [],
   "source": [
    "import networkx as nx\n",
    "import numpy as np\n",
    "import pandas as pd\n",
    "import random\n",
    "import os\n",
    "import sklearn.cluster \n",
    "import plotly.express as px\n",
    "\n",
    "import msg_passing\n",
    "import utils\n",
    "import run\n",
    "import display\n",
    "import parse_data"
   ]
  },
  {
   "cell_type": "code",
   "execution_count": 3,
   "metadata": {},
   "outputs": [],
   "source": [
    "def load_results(fdir, f_prefix):\n",
    "    g = msg_passing.load_graph_graphml(fdir + f_prefix + \".graphml\")\n",
    "    hist, diagnostic_hist = msg_passing.load_history(fdir + f_prefix + \".pkl\")\n",
    "    return g, hist, diagnostic_hist\n",
    "\n",
    "def view_history(fdir, f_prefix):\n",
    "    hist, _ = msg_passing.load_history(fdir + f_prefix + \".pkl\") \n",
    "    return hist.keys()\n",
    "\n",
    "def plot_run(fdir, f_prefix, target):\n",
    "    print(\"Plotting run for\", fdir + f_prefix)\n",
    "    g = msg_passing.load_graph_graphml(fdir + f_prefix + \".graphml\")\n",
    "    hist, diagnostic_hist = msg_passing.load_history(fdir + f_prefix + \".pkl\")\n",
    "    display.plot_diagnostic(diagnostic_hist)\n",
    "    display.plot_history(hist, target=target)"
   ]
  },
  {
   "cell_type": "code",
   "execution_count": 5,
   "metadata": {},
   "outputs": [
    {
     "name": "stdout",
     "output_type": "stream",
     "text": [
      "gun_regulations\n",
      "[-1  0  1  2]\n",
      "['letitia james', 'dr. mehmet oz', 'gop', 'everytown for gun safety', 'matt castelli', 'u.s. supreme court', 'georgia', 'gabby giffords', 'buffalo', 'national rifle association', 'state', 'nra', 'arizona', 'democrat', 'national association for gun rights', 'republicans', 'kathy hochul', 'new york', 'republican', 'gun owners of america', 'democratic', 'texas', 'democrats']\n",
      "immigration\n",
      "[-1  0  1]\n",
      "['former president donald trump', 'democratic', 'steve bannon', 'washington', 'doug ducey', 'mexico', 'migrants']\n",
      "recession_fears\n",
      "[-1  0  1  2]\n",
      "['elon musk', 'white house council of economic advisers', 'silicon valley', 'mark zuckerberg', 'jason furman', 'meta', 'bloomberg', 'saudi arabia', 'larry summers', 'san francisco', 'biden']\n",
      "roe_v_wade\n",
      "[-1  0  1  2]\n",
      "['texas', 'democrats', 'kentucky', 'aclu', 'planned parenthood of illinois', 'illinois', 'democratic', 'joe biden']\n",
      "ukraine_war\n",
      "[-1  0  1]\n",
      "['ukraine', 'michael fanone', 'democrats', 'united nations', 'cowboys', 'joe biden', 'russian troops', 'russian forces', 'dallas', 'kyiv']\n",
      "vaccine_hesitancy\n",
      "[-1  0  1]\n",
      "['ime udoka', 'clarence thomas', 'kyrie irving', 'indiana state department of health', 'tim walz', 'nets', 'dakota county northern service center', 'minnesota', 'vaccine mandate']\n"
     ]
    }
   ],
   "source": [
    "infiles = [\n",
    "    \"global_warming_network\",\n",
    "    \"gun_regulations_network\",\n",
    "    \"immigration_network\",\n",
    "    \"inflation_network\",\n",
    "    \"roe_v_wade_network\",\n",
    "    \"trump_impeachment_network\",\n",
    "    \"ukraine_war_network\",\n",
    "    \"vaccine_hesitancy_network\",\n",
    "    \"combined\"\n",
    "]\n",
    "\n",
    "infiles = [\n",
    "    \"gun_regulations\",\n",
    "    \"immigration\",\n",
    "    \"recession_fears\",\n",
    "    \"roe_v_wade\",\n",
    "    \"ukraine_war\",\n",
    "    \"vaccine_hesitancy\",\n",
    "]\n",
    "\n",
    "indir = \"input/Networks/\"\n",
    "\n",
    "#outdir = \"output/Incremental_Datasets_2/\"\n",
    "#outdir = \"output/archive/\"\n",
    "outdir = \"output/Networks_v1/\"\n",
    "\n",
    "in_suffix = \"_network.csv\"\n",
    "\n",
    "#out_suffix = \"_random_walks_lr_10-3_30K_dc_095_pl_10_bs_10\"\n",
    "#out_suffix = \"_v3_random_walk_batch_10_path_10_50K_lr_3_dim_3\"\n",
    "out_suffix = \"_network_random_walks_lr_10-3_20K_dc_095_pl_{path_length}_bs_10\"\n",
    "\n",
    "net = infiles[5] \n",
    "g, hist, diagnostic_hist = load_results(outdir, net + out_suffix)\n",
    "\n",
    "#print(hist.keys())\n",
    "#display.plot_history_with_reference(hist, \"anthony fauci\")\n",
    "#display.plot_top_n_cluster_evaluations(g, [20, 50, 100], 2, 10)\n",
    "#print(view_history(outdir, net + out_suffix))\n",
    "#plot_run(outdir, net + out_suffix, \"biden\")\n",
    "#_ = display.plot_edge_weight_histogram(g, log_scale=False)\n",
    "#_ = display.plot_degree_histogram(g, log_scale=True)\n",
    "\n",
    "#fig = display.plot_confusion_matrix(g, utils.get_top_n_nodes(g, 20), 2, title=net)\n",
    "#_ = display.plot_cos_dist_histogram(g, title=net)\n",
    "#fig.write_html(\"images/vaccine_heatmap.html\")\n",
    "\n",
    "write_dir = \"images/networks_cluster_hdbscan/\"\n",
    "#write_dir = \"output/cyto_pruned_networks/\"\n",
    "for n in infiles:\n",
    "    print(n)\n",
    "    fname = outdir + n + out_suffix + \".graphml\"\n",
    "    #fname = indir + n + in_suffix\n",
    "    #g = msg_passing.load_graph_csv(fname, clean_data=True)\n",
    "    #msg_passing.save_graph(g, write_dir + n + \"_full.graphml\")\n",
    "    g = msg_passing.load_graph_graphml(fname)\n",
    "    pg, _ = msg_passing.prune_graph(g)\n",
    "    #print(parse_data.compute_network_stats(g, include_diameter=False))\n",
    "    top_nodes = 50#len(pg.nodes())\n",
    "    fig = display.plot_confusion_matrix(pg, utils.get_top_n_nodes(pg, top_nodes), 2, title=n, show=False)\n",
    "    fig.write_html(write_dir + n + \"_50_-1s.html\")\n",
    "    #msg_passing.save_graph(pg, write_dir + n + \"_count.graphml\")\n"
   ]
  },
  {
   "cell_type": "code",
   "execution_count": 4,
   "metadata": {},
   "outputs": [],
   "source": [
    "def get_shortest_path_network(g, nodes1, nodes2):\n",
    "    subgraph_nodes = set()\n",
    "    for n1 in nodes1:\n",
    "        for n2 in nodes2:\n",
    "            sps = list(nx.all_shortest_paths(g, n1, n2))\n",
    "            for sp in sps:\n",
    "                for n in sp:\n",
    "                    subgraph_nodes.add(n) \n",
    "    \n",
    "    return g.subgraph(subgraph_nodes)\n",
    "\n",
    "gf = \"output/Networks_v1/gun_regulations_network_random_walks_lr_10-3_20K_dc_095_pl_{path_length}_bs_10.graphml\"\n",
    "#gf = \"output/Networks_v1/roe_v_wade_network_random_walks_lr_10-3_20K_dc_095_pl_{path_length}_bs_10.graphml\"\n",
    "gf = \"output/Networks_v1/recession_fears_network_random_walks_lr_10-3_20K_dc_095_pl_{path_length}_bs_10.graphml\"\n",
    "g = msg_passing.load_graph_graphml(gf)\n",
    "pg, _ = msg_passing.prune_graph(g) \n",
    "n1 = [\"second amendment\", \"bruen\", \"greg abbott\", \"gerald smith\", \"iowa firearms coalition\", \"supreme court\"]\n",
    "#n2 = [\"second amendment foundation\", \"adam kraut\"]\n",
    "n2 = [\"joe biden\", \"kamala harris\", \"a ban on assault weapons\", \"biden\", \"white house\"]\n",
    "#n1 = [\"donald trump\", \"white house\", \"supreme court\", \"clarence thomas\"]\n",
    "#n2 = [\"republican\", \"republicans\", \"gop\", \"arizona\", \"planned parenthood\", \"anti-abortion\"]\n",
    "n1 = [\"opec\", \"fox news\", \"saudis\"]\n",
    "n2 = [\"jerome powell\", \"joe biden\", \"janet yellen\"]\n",
    "\n",
    "sg = get_shortest_path_network(pg, n1, n2)\n",
    "write_dir = \"output/cyto_pruned_networks/\"\n",
    "outname = write_dir + \"recession_1.graphml\" \n",
    "msg_passing.save_graph(sg, outname)"
   ]
  },
  {
   "cell_type": "code",
   "execution_count": null,
   "metadata": {},
   "outputs": [],
   "source": [
    "networks = [\n",
    "    \"global_warming\", \n",
    "    \"gun_regulations\",\n",
    "    \"immigration\",\n",
    "    \"inflation\",\n",
    "    \"roe_v_wade\",\n",
    "    \"trump_impeachment\",\n",
    "    \"ukraine_war\",\n",
    "    \"vaccine_hesitancy\",\n",
    "]\n",
    "prefix = \"output/Incremental_Datasets_old/\" \n",
    "prefix = \"output/Incremental_Datasets_weighted/\" \n",
    "network = networks[6]\n",
    "suffix = \"_network_random_walks_lr_10-3_15K_dc_095_pl_10_bs_10.graphml\"\n",
    "\n",
    "fg1 = prefix + network + suffix + \".graphml\" \n",
    "fh1 = prefix + network + suffix + \".pkl\"\n",
    "\n",
    "#fg = \"output/gun_regulations_v2_raw_answer_dedup_ques_50K_lr_3_dim_10.graphml\"\n",
    "#fh = \"output/gun_regulations_v2_raw_answer_dedup_ques_50K_lr_3_dim_10.pkl\"\n",
    "#fg = \"output/combined_v2_general_msg_passing_batch_10_path_10_100K_lr_3_dim_3.graphml\"\n",
    "#fh = \"output/combined_v2_general_msg_passing_batch_10_path_10_100K_lr_3_dim_3.pkl\"\n",
    "\n",
    "\n",
    "#fg = \"output/gun_regulations_v2_general_msg_passing_batch_10_path_10_500K_lr_3_dim_3.graphml\" \n",
    "#fh = \"output/gun_regulations_v2_general_msg_passing_batch_10_path_10_500K_lr_3_dim_3.pkl\"\n",
    "\n",
    "fg = \"output/archive/combined_v3_random_walk_batch_10_path_10_50K_lr_3_dim_3.graphml\"\n",
    "fh = \"output/archive/combined_v3_random_walk_batch_10_path_10_50K_lr_3_dim_3.pkl\"\n",
    "\n",
    "#hist, diagnostic_hist = msg_passing.load_history(fh) \n",
    "g = msg_passing.load_graph_graphml(fg) \n",
    "pg, aux = msg_passing.prune_graph(g)\n",
    "\n",
    "g1 = msg_passing.load_graph_graphml(fg1) \n",
    "pg1, aux1 = msg_passing.prune_graph(g1)\n",
    "#display.plot_diagnostic(diagnostic_hist) \n",
    "top_nodes = [u[0] for u in utils.node_degrees(pg1)]\n",
    "real_top_nodes = []\n",
    "i = 0\n",
    "added = 0\n",
    "while(added < 20):\n",
    "    if(top_nodes[i] in pg.nodes()):\n",
    "        real_top_nodes.append(top_nodes[i]) \n",
    "        added += 1\n",
    "    i += 1\n",
    "#pg = msg_passing.initialize_node_values(pg, size=3)\n",
    "#fig = display.node_confusion_matrix(pg, real_top_nodes, title=network) \n",
    "fig = display.node_confusion_matrix(pg1, real_top_nodes, title=\"single network\")\n",
    "fig = display.confusion_matrix(pg, 20, title=network)\n",
    "fig.write_html(\"images/\" + network + suffix + \".html\")\n",
    "fig = display.cos_dist_histogram(pg, title=network)\n",
    "print(\"final loss:\", msg_passing.loss_cos_dist(pg))"
   ]
  },
  {
   "cell_type": "code",
   "execution_count": 38,
   "metadata": {},
   "outputs": [],
   "source": [
    "# save cluster evals\n",
    "\n",
    "infiles = [\n",
    "    \"global_warming_network\",\n",
    "    \"gun_regulations_network\",\n",
    "    \"immigration_network\",\n",
    "    \"inflation_network\",\n",
    "    \"roe_v_wade_network\",\n",
    "    \"trump_impeachment_network\",\n",
    "    \"ukraine_war_network\",\n",
    "    \"vaccine_hesitancy_network\"\n",
    "]\n",
    "outdir = \"output/Incremental_Datasets/\"\n",
    "#outdir = \"output/archive/\"\n",
    "out_suffix = \"_random_walks_lr_10-3_40K_dc_095_pl_10_bs_10\"\n",
    "#out_suffix = \"_v3_random_walk_batch_10_path_10_50K_lr_3_dim_3\"\n",
    "imdir = \"images/clustering/\"\n",
    "top_n_nodes = [20, 50, 100]\n",
    "for f in infiles:\n",
    "    fname = outdir + f \n",
    "    g, hist, diagnostic_hist = load_results(outdir, f + out_suffix)\n",
    "    pg, _ = msg_passing.prune_graph(g)\n",
    "    #msg_passing.initialize_node_values(pg, size=3)\n",
    "    curr_top_n_nodes = [i for i in top_n_nodes]\n",
    "    curr_top_n_nodes.append(len(pg.nodes()))\n",
    "    fig = display.plot_top_n_cluster_evaluations(pg, curr_top_n_nodes, 2, 10, title=f, with_random_baseline=True, show=False)\n",
    "    fig.write_html(imdir + f + f\"_cluster_evals.html\")"
   ]
  },
  {
   "cell_type": "code",
   "execution_count": 64,
   "metadata": {},
   "outputs": [
    {
     "data": {
      "application/vnd.plotly.v1+json": {
       "config": {
        "plotlyServerURL": "https://plot.ly"
       },
       "data": [
        {
         "hovertemplate": "Top N Nodes Clustered=20<br>Is Random Baseline=False<br>Issues=%{x}<br>Silhouette Score=%{y}<extra></extra>",
         "legendgroup": "20, False",
         "line": {
          "color": "#636efa",
          "dash": "solid"
         },
         "marker": {
          "symbol": "circle"
         },
         "mode": "lines",
         "name": "20, False",
         "orientation": "v",
         "showlegend": true,
         "type": "scatter",
         "x": [
          "global_warming_network",
          "gun_regulations_network",
          "immigration_network",
          "inflation_network",
          "roe_v_wade_network",
          "trump_impeachment_network",
          "ukraine_war_network",
          "vaccine_hesitancy_network"
         ],
         "xaxis": "x",
         "y": [
          0.553547701520479,
          0.7565309958368936,
          0.6512133940347828,
          0.6246794112912807,
          0.746711723088107,
          0.6049698190835172,
          0.6432218906760119,
          0.8196070275900492
         ],
         "yaxis": "y"
        },
        {
         "hovertemplate": "Top N Nodes Clustered=20<br>Is Random Baseline=True<br>Issues=%{x}<br>Silhouette Score=%{y}<extra></extra>",
         "legendgroup": "20, True",
         "line": {
          "color": "#636efa",
          "dash": "dot"
         },
         "marker": {
          "symbol": "circle"
         },
         "mode": "lines",
         "name": "20, True",
         "orientation": "v",
         "showlegend": true,
         "type": "scatter",
         "x": [
          "global_warming_network",
          "gun_regulations_network",
          "immigration_network",
          "inflation_network",
          "roe_v_wade_network",
          "trump_impeachment_network",
          "ukraine_war_network",
          "vaccine_hesitancy_network"
         ],
         "xaxis": "x",
         "y": [
          0.38301926254171825,
          0.45613038332343325,
          0.42689863836497055,
          0.4994699169817494,
          0.4038405968201825,
          0.38444411964690345,
          0.4228188055006233,
          0.41698169325148393
         ],
         "yaxis": "y"
        },
        {
         "hovertemplate": "Top N Nodes Clustered=50<br>Is Random Baseline=False<br>Issues=%{x}<br>Silhouette Score=%{y}<extra></extra>",
         "legendgroup": "50, False",
         "line": {
          "color": "#EF553B",
          "dash": "solid"
         },
         "marker": {
          "symbol": "circle"
         },
         "mode": "lines",
         "name": "50, False",
         "orientation": "v",
         "showlegend": true,
         "type": "scatter",
         "x": [
          "global_warming_network",
          "gun_regulations_network",
          "immigration_network",
          "inflation_network",
          "roe_v_wade_network",
          "trump_impeachment_network",
          "ukraine_war_network",
          "vaccine_hesitancy_network"
         ],
         "xaxis": "x",
         "y": [
          0.5357470001991631,
          0.6615268761963259,
          0.576810342885056,
          0.652757530369546,
          0.652640336313754,
          0.4340852236646559,
          0.6403896304434922,
          0.7487211619686714
         ],
         "yaxis": "y"
        },
        {
         "hovertemplate": "Top N Nodes Clustered=50<br>Is Random Baseline=True<br>Issues=%{x}<br>Silhouette Score=%{y}<extra></extra>",
         "legendgroup": "50, True",
         "line": {
          "color": "#EF553B",
          "dash": "dot"
         },
         "marker": {
          "symbol": "circle"
         },
         "mode": "lines",
         "name": "50, True",
         "orientation": "v",
         "showlegend": true,
         "type": "scatter",
         "x": [
          "global_warming_network",
          "gun_regulations_network",
          "immigration_network",
          "inflation_network",
          "roe_v_wade_network",
          "trump_impeachment_network",
          "ukraine_war_network",
          "vaccine_hesitancy_network"
         ],
         "xaxis": "x",
         "y": [
          0.4343468776902466,
          0.4530288641784033,
          0.4895556286531836,
          0.49613379735984364,
          0.4249119415432288,
          0.45970023236917434,
          0.5109532372747245,
          0.4382186528349443
         ],
         "yaxis": "y"
        },
        {
         "hovertemplate": "Top N Nodes Clustered=100<br>Is Random Baseline=False<br>Issues=%{x}<br>Silhouette Score=%{y}<extra></extra>",
         "legendgroup": "100, False",
         "line": {
          "color": "#00cc96",
          "dash": "solid"
         },
         "marker": {
          "symbol": "circle"
         },
         "mode": "lines",
         "name": "100, False",
         "orientation": "v",
         "showlegend": true,
         "type": "scatter",
         "x": [
          "global_warming_network",
          "gun_regulations_network",
          "immigration_network",
          "inflation_network",
          "roe_v_wade_network",
          "trump_impeachment_network",
          "ukraine_war_network",
          "vaccine_hesitancy_network"
         ],
         "xaxis": "x",
         "y": [
          0.5320877525400156,
          0.6813042359980005,
          0.5128396734403293,
          0.5794708186756204,
          0.6549827969094482,
          0.46216150329006545,
          0.5653413502769509,
          0.7220722437109494
         ],
         "yaxis": "y"
        },
        {
         "hovertemplate": "Top N Nodes Clustered=100<br>Is Random Baseline=True<br>Issues=%{x}<br>Silhouette Score=%{y}<extra></extra>",
         "legendgroup": "100, True",
         "line": {
          "color": "#00cc96",
          "dash": "dot"
         },
         "marker": {
          "symbol": "circle"
         },
         "mode": "lines",
         "name": "100, True",
         "orientation": "v",
         "showlegend": true,
         "type": "scatter",
         "x": [
          "global_warming_network",
          "gun_regulations_network",
          "immigration_network",
          "inflation_network",
          "roe_v_wade_network",
          "trump_impeachment_network",
          "ukraine_war_network",
          "vaccine_hesitancy_network"
         ],
         "xaxis": "x",
         "y": [
          0.45491218882997697,
          0.4146872831930208,
          0.44164966024069247,
          0.44160072646238263,
          0.4065407708109284,
          0.41755137894538086,
          0.4633222024568298,
          0.4252501340687626
         ],
         "yaxis": "y"
        },
        {
         "hovertemplate": "Top N Nodes Clustered=all<br>Is Random Baseline=False<br>Issues=%{x}<br>Silhouette Score=%{y}<extra></extra>",
         "legendgroup": "all, False",
         "line": {
          "color": "#ab63fa",
          "dash": "solid"
         },
         "marker": {
          "symbol": "circle"
         },
         "mode": "lines",
         "name": "all, False",
         "orientation": "v",
         "showlegend": true,
         "type": "scatter",
         "x": [
          "global_warming_network",
          "gun_regulations_network",
          "immigration_network",
          "inflation_network",
          "roe_v_wade_network",
          "trump_impeachment_network",
          "ukraine_war_network",
          "vaccine_hesitancy_network"
         ],
         "xaxis": "x",
         "y": [
          0.5156897337395788,
          0.664834844221105,
          0.5297464753118474,
          0.616986198766401,
          0.6245903646309369,
          0.4547515181453793,
          0.6198691833085063,
          0.69943455273822
         ],
         "yaxis": "y"
        },
        {
         "hovertemplate": "Top N Nodes Clustered=all<br>Is Random Baseline=True<br>Issues=%{x}<br>Silhouette Score=%{y}<extra></extra>",
         "legendgroup": "all, True",
         "line": {
          "color": "#ab63fa",
          "dash": "dot"
         },
         "marker": {
          "symbol": "circle"
         },
         "mode": "lines",
         "name": "all, True",
         "orientation": "v",
         "showlegend": true,
         "type": "scatter",
         "x": [
          "global_warming_network",
          "gun_regulations_network",
          "immigration_network",
          "inflation_network",
          "roe_v_wade_network",
          "trump_impeachment_network",
          "ukraine_war_network",
          "vaccine_hesitancy_network"
         ],
         "xaxis": "x",
         "y": [
          0.46650793455900075,
          0.3988414717576579,
          0.3894897942593019,
          0.4491974538848188,
          0.40971971730687434,
          0.40430543883827985,
          0.40763675575184755,
          0.4064417080229673
         ],
         "yaxis": "y"
        }
       ],
       "layout": {
        "legend": {
         "title": {
          "text": "Top N Nodes Clustered, Is Random Baseline"
         },
         "tracegroupgap": 0
        },
        "margin": {
         "t": 60
        },
        "template": {
         "data": {
          "bar": [
           {
            "error_x": {
             "color": "#2a3f5f"
            },
            "error_y": {
             "color": "#2a3f5f"
            },
            "marker": {
             "line": {
              "color": "#E5ECF6",
              "width": 0.5
             },
             "pattern": {
              "fillmode": "overlay",
              "size": 10,
              "solidity": 0.2
             }
            },
            "type": "bar"
           }
          ],
          "barpolar": [
           {
            "marker": {
             "line": {
              "color": "#E5ECF6",
              "width": 0.5
             },
             "pattern": {
              "fillmode": "overlay",
              "size": 10,
              "solidity": 0.2
             }
            },
            "type": "barpolar"
           }
          ],
          "carpet": [
           {
            "aaxis": {
             "endlinecolor": "#2a3f5f",
             "gridcolor": "white",
             "linecolor": "white",
             "minorgridcolor": "white",
             "startlinecolor": "#2a3f5f"
            },
            "baxis": {
             "endlinecolor": "#2a3f5f",
             "gridcolor": "white",
             "linecolor": "white",
             "minorgridcolor": "white",
             "startlinecolor": "#2a3f5f"
            },
            "type": "carpet"
           }
          ],
          "choropleth": [
           {
            "colorbar": {
             "outlinewidth": 0,
             "ticks": ""
            },
            "type": "choropleth"
           }
          ],
          "contour": [
           {
            "colorbar": {
             "outlinewidth": 0,
             "ticks": ""
            },
            "colorscale": [
             [
              0,
              "#0d0887"
             ],
             [
              0.1111111111111111,
              "#46039f"
             ],
             [
              0.2222222222222222,
              "#7201a8"
             ],
             [
              0.3333333333333333,
              "#9c179e"
             ],
             [
              0.4444444444444444,
              "#bd3786"
             ],
             [
              0.5555555555555556,
              "#d8576b"
             ],
             [
              0.6666666666666666,
              "#ed7953"
             ],
             [
              0.7777777777777778,
              "#fb9f3a"
             ],
             [
              0.8888888888888888,
              "#fdca26"
             ],
             [
              1,
              "#f0f921"
             ]
            ],
            "type": "contour"
           }
          ],
          "contourcarpet": [
           {
            "colorbar": {
             "outlinewidth": 0,
             "ticks": ""
            },
            "type": "contourcarpet"
           }
          ],
          "heatmap": [
           {
            "colorbar": {
             "outlinewidth": 0,
             "ticks": ""
            },
            "colorscale": [
             [
              0,
              "#0d0887"
             ],
             [
              0.1111111111111111,
              "#46039f"
             ],
             [
              0.2222222222222222,
              "#7201a8"
             ],
             [
              0.3333333333333333,
              "#9c179e"
             ],
             [
              0.4444444444444444,
              "#bd3786"
             ],
             [
              0.5555555555555556,
              "#d8576b"
             ],
             [
              0.6666666666666666,
              "#ed7953"
             ],
             [
              0.7777777777777778,
              "#fb9f3a"
             ],
             [
              0.8888888888888888,
              "#fdca26"
             ],
             [
              1,
              "#f0f921"
             ]
            ],
            "type": "heatmap"
           }
          ],
          "heatmapgl": [
           {
            "colorbar": {
             "outlinewidth": 0,
             "ticks": ""
            },
            "colorscale": [
             [
              0,
              "#0d0887"
             ],
             [
              0.1111111111111111,
              "#46039f"
             ],
             [
              0.2222222222222222,
              "#7201a8"
             ],
             [
              0.3333333333333333,
              "#9c179e"
             ],
             [
              0.4444444444444444,
              "#bd3786"
             ],
             [
              0.5555555555555556,
              "#d8576b"
             ],
             [
              0.6666666666666666,
              "#ed7953"
             ],
             [
              0.7777777777777778,
              "#fb9f3a"
             ],
             [
              0.8888888888888888,
              "#fdca26"
             ],
             [
              1,
              "#f0f921"
             ]
            ],
            "type": "heatmapgl"
           }
          ],
          "histogram": [
           {
            "marker": {
             "pattern": {
              "fillmode": "overlay",
              "size": 10,
              "solidity": 0.2
             }
            },
            "type": "histogram"
           }
          ],
          "histogram2d": [
           {
            "colorbar": {
             "outlinewidth": 0,
             "ticks": ""
            },
            "colorscale": [
             [
              0,
              "#0d0887"
             ],
             [
              0.1111111111111111,
              "#46039f"
             ],
             [
              0.2222222222222222,
              "#7201a8"
             ],
             [
              0.3333333333333333,
              "#9c179e"
             ],
             [
              0.4444444444444444,
              "#bd3786"
             ],
             [
              0.5555555555555556,
              "#d8576b"
             ],
             [
              0.6666666666666666,
              "#ed7953"
             ],
             [
              0.7777777777777778,
              "#fb9f3a"
             ],
             [
              0.8888888888888888,
              "#fdca26"
             ],
             [
              1,
              "#f0f921"
             ]
            ],
            "type": "histogram2d"
           }
          ],
          "histogram2dcontour": [
           {
            "colorbar": {
             "outlinewidth": 0,
             "ticks": ""
            },
            "colorscale": [
             [
              0,
              "#0d0887"
             ],
             [
              0.1111111111111111,
              "#46039f"
             ],
             [
              0.2222222222222222,
              "#7201a8"
             ],
             [
              0.3333333333333333,
              "#9c179e"
             ],
             [
              0.4444444444444444,
              "#bd3786"
             ],
             [
              0.5555555555555556,
              "#d8576b"
             ],
             [
              0.6666666666666666,
              "#ed7953"
             ],
             [
              0.7777777777777778,
              "#fb9f3a"
             ],
             [
              0.8888888888888888,
              "#fdca26"
             ],
             [
              1,
              "#f0f921"
             ]
            ],
            "type": "histogram2dcontour"
           }
          ],
          "mesh3d": [
           {
            "colorbar": {
             "outlinewidth": 0,
             "ticks": ""
            },
            "type": "mesh3d"
           }
          ],
          "parcoords": [
           {
            "line": {
             "colorbar": {
              "outlinewidth": 0,
              "ticks": ""
             }
            },
            "type": "parcoords"
           }
          ],
          "pie": [
           {
            "automargin": true,
            "type": "pie"
           }
          ],
          "scatter": [
           {
            "fillpattern": {
             "fillmode": "overlay",
             "size": 10,
             "solidity": 0.2
            },
            "type": "scatter"
           }
          ],
          "scatter3d": [
           {
            "line": {
             "colorbar": {
              "outlinewidth": 0,
              "ticks": ""
             }
            },
            "marker": {
             "colorbar": {
              "outlinewidth": 0,
              "ticks": ""
             }
            },
            "type": "scatter3d"
           }
          ],
          "scattercarpet": [
           {
            "marker": {
             "colorbar": {
              "outlinewidth": 0,
              "ticks": ""
             }
            },
            "type": "scattercarpet"
           }
          ],
          "scattergeo": [
           {
            "marker": {
             "colorbar": {
              "outlinewidth": 0,
              "ticks": ""
             }
            },
            "type": "scattergeo"
           }
          ],
          "scattergl": [
           {
            "marker": {
             "colorbar": {
              "outlinewidth": 0,
              "ticks": ""
             }
            },
            "type": "scattergl"
           }
          ],
          "scattermapbox": [
           {
            "marker": {
             "colorbar": {
              "outlinewidth": 0,
              "ticks": ""
             }
            },
            "type": "scattermapbox"
           }
          ],
          "scatterpolar": [
           {
            "marker": {
             "colorbar": {
              "outlinewidth": 0,
              "ticks": ""
             }
            },
            "type": "scatterpolar"
           }
          ],
          "scatterpolargl": [
           {
            "marker": {
             "colorbar": {
              "outlinewidth": 0,
              "ticks": ""
             }
            },
            "type": "scatterpolargl"
           }
          ],
          "scatterternary": [
           {
            "marker": {
             "colorbar": {
              "outlinewidth": 0,
              "ticks": ""
             }
            },
            "type": "scatterternary"
           }
          ],
          "surface": [
           {
            "colorbar": {
             "outlinewidth": 0,
             "ticks": ""
            },
            "colorscale": [
             [
              0,
              "#0d0887"
             ],
             [
              0.1111111111111111,
              "#46039f"
             ],
             [
              0.2222222222222222,
              "#7201a8"
             ],
             [
              0.3333333333333333,
              "#9c179e"
             ],
             [
              0.4444444444444444,
              "#bd3786"
             ],
             [
              0.5555555555555556,
              "#d8576b"
             ],
             [
              0.6666666666666666,
              "#ed7953"
             ],
             [
              0.7777777777777778,
              "#fb9f3a"
             ],
             [
              0.8888888888888888,
              "#fdca26"
             ],
             [
              1,
              "#f0f921"
             ]
            ],
            "type": "surface"
           }
          ],
          "table": [
           {
            "cells": {
             "fill": {
              "color": "#EBF0F8"
             },
             "line": {
              "color": "white"
             }
            },
            "header": {
             "fill": {
              "color": "#C8D4E3"
             },
             "line": {
              "color": "white"
             }
            },
            "type": "table"
           }
          ]
         },
         "layout": {
          "annotationdefaults": {
           "arrowcolor": "#2a3f5f",
           "arrowhead": 0,
           "arrowwidth": 1
          },
          "autotypenumbers": "strict",
          "coloraxis": {
           "colorbar": {
            "outlinewidth": 0,
            "ticks": ""
           }
          },
          "colorscale": {
           "diverging": [
            [
             0,
             "#8e0152"
            ],
            [
             0.1,
             "#c51b7d"
            ],
            [
             0.2,
             "#de77ae"
            ],
            [
             0.3,
             "#f1b6da"
            ],
            [
             0.4,
             "#fde0ef"
            ],
            [
             0.5,
             "#f7f7f7"
            ],
            [
             0.6,
             "#e6f5d0"
            ],
            [
             0.7,
             "#b8e186"
            ],
            [
             0.8,
             "#7fbc41"
            ],
            [
             0.9,
             "#4d9221"
            ],
            [
             1,
             "#276419"
            ]
           ],
           "sequential": [
            [
             0,
             "#0d0887"
            ],
            [
             0.1111111111111111,
             "#46039f"
            ],
            [
             0.2222222222222222,
             "#7201a8"
            ],
            [
             0.3333333333333333,
             "#9c179e"
            ],
            [
             0.4444444444444444,
             "#bd3786"
            ],
            [
             0.5555555555555556,
             "#d8576b"
            ],
            [
             0.6666666666666666,
             "#ed7953"
            ],
            [
             0.7777777777777778,
             "#fb9f3a"
            ],
            [
             0.8888888888888888,
             "#fdca26"
            ],
            [
             1,
             "#f0f921"
            ]
           ],
           "sequentialminus": [
            [
             0,
             "#0d0887"
            ],
            [
             0.1111111111111111,
             "#46039f"
            ],
            [
             0.2222222222222222,
             "#7201a8"
            ],
            [
             0.3333333333333333,
             "#9c179e"
            ],
            [
             0.4444444444444444,
             "#bd3786"
            ],
            [
             0.5555555555555556,
             "#d8576b"
            ],
            [
             0.6666666666666666,
             "#ed7953"
            ],
            [
             0.7777777777777778,
             "#fb9f3a"
            ],
            [
             0.8888888888888888,
             "#fdca26"
            ],
            [
             1,
             "#f0f921"
            ]
           ]
          },
          "colorway": [
           "#636efa",
           "#EF553B",
           "#00cc96",
           "#ab63fa",
           "#FFA15A",
           "#19d3f3",
           "#FF6692",
           "#B6E880",
           "#FF97FF",
           "#FECB52"
          ],
          "font": {
           "color": "#2a3f5f"
          },
          "geo": {
           "bgcolor": "white",
           "lakecolor": "white",
           "landcolor": "#E5ECF6",
           "showlakes": true,
           "showland": true,
           "subunitcolor": "white"
          },
          "hoverlabel": {
           "align": "left"
          },
          "hovermode": "closest",
          "mapbox": {
           "style": "light"
          },
          "paper_bgcolor": "white",
          "plot_bgcolor": "#E5ECF6",
          "polar": {
           "angularaxis": {
            "gridcolor": "white",
            "linecolor": "white",
            "ticks": ""
           },
           "bgcolor": "#E5ECF6",
           "radialaxis": {
            "gridcolor": "white",
            "linecolor": "white",
            "ticks": ""
           }
          },
          "scene": {
           "xaxis": {
            "backgroundcolor": "#E5ECF6",
            "gridcolor": "white",
            "gridwidth": 2,
            "linecolor": "white",
            "showbackground": true,
            "ticks": "",
            "zerolinecolor": "white"
           },
           "yaxis": {
            "backgroundcolor": "#E5ECF6",
            "gridcolor": "white",
            "gridwidth": 2,
            "linecolor": "white",
            "showbackground": true,
            "ticks": "",
            "zerolinecolor": "white"
           },
           "zaxis": {
            "backgroundcolor": "#E5ECF6",
            "gridcolor": "white",
            "gridwidth": 2,
            "linecolor": "white",
            "showbackground": true,
            "ticks": "",
            "zerolinecolor": "white"
           }
          },
          "shapedefaults": {
           "line": {
            "color": "#2a3f5f"
           }
          },
          "ternary": {
           "aaxis": {
            "gridcolor": "white",
            "linecolor": "white",
            "ticks": ""
           },
           "baxis": {
            "gridcolor": "white",
            "linecolor": "white",
            "ticks": ""
           },
           "bgcolor": "#E5ECF6",
           "caxis": {
            "gridcolor": "white",
            "linecolor": "white",
            "ticks": ""
           }
          },
          "title": {
           "x": 0.05
          },
          "xaxis": {
           "automargin": true,
           "gridcolor": "white",
           "linecolor": "white",
           "ticks": "",
           "title": {
            "standoff": 15
           },
           "zerolinecolor": "white",
           "zerolinewidth": 2
          },
          "yaxis": {
           "automargin": true,
           "gridcolor": "white",
           "linecolor": "white",
           "ticks": "",
           "title": {
            "standoff": 15
           },
           "zerolinecolor": "white",
           "zerolinewidth": 2
          }
         }
        },
        "xaxis": {
         "anchor": "y",
         "domain": [
          0,
          1
         ],
         "title": {
          "text": "Issues"
         }
        },
        "yaxis": {
         "anchor": "x",
         "domain": [
          0,
          1
         ],
         "title": {
          "text": "Silhouette Score"
         }
        }
       }
      }
     },
     "metadata": {},
     "output_type": "display_data"
    }
   ],
   "source": [
    "# save cluster evals\n",
    "\n",
    "infiles = [\n",
    "    \"global_warming_network\",\n",
    "    \"gun_regulations_network\",\n",
    "    \"immigration_network\",\n",
    "    \"inflation_network\",\n",
    "    \"roe_v_wade_network\",\n",
    "    \"trump_impeachment_network\",\n",
    "    \"ukraine_war_network\",\n",
    "    \"vaccine_hesitancy_network\"\n",
    "]\n",
    "outdir = \"output/Incremental_Datasets_extreme/\"\n",
    "#outdir = \"output/archive/\"\n",
    "out_suffix = \"_random_walks_lr_10-3_30K_dc_095_pl_10_bs_10\"\n",
    "#out_suffix = \"_v3_random_walk_batch_10_path_10_50K_lr_3_dim_3\"\n",
    "imdir = \"images/clustering/\"\n",
    "top_n_nodes = [20, 50, 100]\n",
    "issues, scores, top_ns, is_randoms = [], [], [], []\n",
    "combined = msg_passing.load_graph_graphml(outdir + \"combined\" + out_suffix + \".graphml\")\n",
    "for f in infiles:\n",
    "    fname = outdir + f \n",
    "    g, hist, diagnostic_hist = load_results(outdir, f + out_suffix)\n",
    "    pg, _ = msg_passing.prune_graph(g)\n",
    "    cp_g = pg.copy()\n",
    "    msg_passing.initialize_node_values(cp_g, size=pg.nodes()[list(pg)[0]][\"value\"].shape[0])\n",
    "    curr_top_n_nodes = [i for i in top_n_nodes]\n",
    "    curr_top_n_nodes.append(len(pg.nodes()))\n",
    "    for n in curr_top_n_nodes:\n",
    "        num = str(n) \n",
    "        if(n == len(pg.nodes())):\n",
    "            num = \"all\"\n",
    "        nodes = utils.get_top_n_nodes(pg, n)\n",
    "        score = parse_data.evaluate_clusters(combined, nodes, 2)\n",
    "        random_score = parse_data.evaluate_clusters(cp_g, nodes, 2) \n",
    "        issues.append(f)\n",
    "        scores.append(score)\n",
    "        top_ns.append(num)\n",
    "        is_randoms.append(False) \n",
    "        issues.append(f)\n",
    "        scores.append(random_score)\n",
    "        top_ns.append(num) \n",
    "        is_randoms.append(True) \n",
    "\n",
    "df = pd.DataFrame({\"Issues\": issues, \"Silhouette Score\": scores, \"Top N Nodes Clustered\": top_ns, \"Is Random Baseline\": is_randoms})\n",
    "plt_title = \"Cluster Evaluations\"\n",
    "fig = px.line(df, x=\"Issues\", y=\"Silhouette Score\", color=\"Top N Nodes Clustered\", line_dash=\"Is Random Baseline\")\n",
    "fig.show()\n",
    "fig.write_html(\"images/clustering_extreme/cluster_eval_combined.html\")"
   ]
  },
  {
   "cell_type": "code",
   "execution_count": 7,
   "metadata": {},
   "outputs": [],
   "source": [
    "# save cluster evals\n",
    "\n",
    "infiles = [\n",
    "    \"global_warming_network\",\n",
    "    \"gun_regulations_network\",\n",
    "    \"immigration_network\",\n",
    "    \"inflation_network\",\n",
    "    \"roe_v_wade_network\",\n",
    "    \"trump_impeachment_network\",\n",
    "    \"ukraine_war_network\",\n",
    "    \"vaccine_hesitancy_network\"\n",
    "    #\"combined\"\n",
    "]\n",
    "outdir = \"output/Incremental_Datasets_extreme/\"\n",
    "\n",
    "#outdir = \"output/archive/\"\n",
    "out_suffix = \"_random_walks_lr_10-3_30K_dc_095_pl_10_bs_10\"\n",
    "#out_suffix = \"_v3_random_walk_batch_10_path_10_50K_lr_3_dim_3\"\n",
    "imdir = \"images/confusion_matrices_extreme/\"\n",
    "top_n_nodes = [20, 50, 100]\n",
    "combined = msg_passing.load_graph_graphml(outdir + \"combined\" + out_suffix + \".graphml\")\n",
    "for f in infiles:\n",
    "    fname = outdir + f \n",
    "    g, hist, diagnostic_hist = load_results(outdir, f + out_suffix)\n",
    "    pg, _ = msg_passing.prune_graph(g)\n",
    "    cp_g = pg.copy()\n",
    "    msg_passing.initialize_node_values(cp_g, size=3)\n",
    "    curr_top_n_nodes = [i for i in top_n_nodes]\n",
    "    curr_top_n_nodes.append(len(pg.nodes()))\n",
    "    for n in curr_top_n_nodes:\n",
    "        curr_nodes = utils.get_top_n_nodes(pg, n)\n",
    "        fig = display.plot_confusion_matrix(pg, curr_nodes, 2, title=f + \" top \" + str(n) + \" nodes\", show=False)\n",
    "        fig.write_html(imdir + f + f\"_{n}_nodes.html\")\n",
    "        fig = display.plot_confusion_matrix(cp_g, curr_nodes, 2, title=f + \" random top \" + str(n) + \" nodes\", show=False)\n",
    "        fig.write_html(imdir + f + f\"_{n}_nodes_random.html\")\n",
    "        fig = display.plot_confusion_matrix(combined, curr_nodes, 2, title=f + \" combined top \" + str(n) + \" nodes\", show=False) \n",
    "        fig.write_html(imdir + f + f\"_{n}_nodes_combined.html\")"
   ]
  },
  {
   "cell_type": "code",
   "execution_count": 8,
   "metadata": {},
   "outputs": [
    {
     "name": "stdout",
     "output_type": "stream",
     "text": [
      "global_warming_network_random_walks_lr_10-3_20K_dc_095_pl_2_bs_10.graphml\n",
      "images/cm_variable/global_warming_network_random_walks_lr_10-3_20K_dc_095_pl_2_bs_10.html\n",
      "gun_regulations_network_random_walks_lr_10-3_20K_dc_095_pl_6_bs_10.graphml\n",
      "images/cm_variable/gun_regulations_network_random_walks_lr_10-3_20K_dc_095_pl_6_bs_10.html\n",
      "immigration_network_random_walks_lr_10-3_20K_dc_095_pl_4_bs_10.graphml\n",
      "images/cm_variable/immigration_network_random_walks_lr_10-3_20K_dc_095_pl_4_bs_10.html\n",
      "inflation_network_random_walks_lr_10-3_20K_dc_095_pl_2_bs_10.graphml\n",
      "images/cm_variable/inflation_network_random_walks_lr_10-3_20K_dc_095_pl_2_bs_10.html\n",
      "roe_v_wade_network_random_walks_lr_10-3_20K_dc_095_pl_2_bs_10.graphml\n",
      "images/cm_variable/roe_v_wade_network_random_walks_lr_10-3_20K_dc_095_pl_2_bs_10.html\n",
      "trump_impeachment_network_random_walks_lr_10-3_20K_dc_095_pl_9_bs_10.graphml\n",
      "images/cm_variable/trump_impeachment_network_random_walks_lr_10-3_20K_dc_095_pl_9_bs_10.html\n",
      "ukraine_war_network_random_walks_lr_10-3_20K_dc_095_pl_2_bs_10.graphml\n",
      "images/cm_variable/ukraine_war_network_random_walks_lr_10-3_20K_dc_095_pl_2_bs_10.html\n",
      "vaccine_hesitancy_network_random_walks_lr_10-3_20K_dc_095_pl_1_bs_10.graphml\n",
      "images/cm_variable/vaccine_hesitancy_network_random_walks_lr_10-3_20K_dc_095_pl_1_bs_10.html\n"
     ]
    }
   ],
   "source": [
    "outdir = \"output/Incremental_Datasets_variable_path/\"\n",
    "for f in os.listdir(outdir):\n",
    "    if(\"graphml\" not in f or \"cyto\" in f):\n",
    "        continue\n",
    "    print(f)\n",
    "    full_fname = outdir + f\n",
    "    g = msg_passing.load_graph_graphml(full_fname)\n",
    "    pg, _ = msg_passing.prune_graph(g) \n",
    "    curr_nodes = utils.get_top_n_nodes(pg, 20)\n",
    "    fig = display.plot_confusion_matrix_with_random_baseline(pg, curr_nodes, 2, title=f, show=False)\n",
    "    outf = \"images/cm_variable/\" + f[:-len(\".graphml\")] + \".html\"\n",
    "    print(outf)\n",
    "    fig.write_html(outf)"
   ]
  },
  {
   "cell_type": "code",
   "execution_count": 73,
   "metadata": {},
   "outputs": [],
   "source": [
    "titles = [\n",
    "    \"global_warming_network\",\n",
    "    \"gun_regulations_network\",\n",
    "    \"immigration_network\",\n",
    "    \"inflation_network\",\n",
    "    \"roe_v_wade_network\",\n",
    "    \"trump_impeachment_network\",\n",
    "    \"ukraine_war_network\",\n",
    "    \"vaccine_hesitancy_network\"\n",
    "]\n",
    "\n",
    "titles = titles[:6]\n",
    "\n",
    "histdir = \"output/Incremental_Datasets_weighted/\" \n",
    "#suffix = \"_random_walks_lr_10-3_30K_dc_095_pl_10_bs_10\"\n",
    "#suffix = \"_random_walks_lr_10-3_20K_dc_095_pl_10_bs_10\"\n",
    "suffix = \"_random_walks_lr_10-3_15K_dc_095_pl_10_bs_10\"\n",
    "hist_suffix = suffix + \".pkl\"\n",
    "graph_suffix = suffix + \".graphml\"\n",
    "\n",
    "hist_files = [histdir + t + hist_suffix for t in titles]\n",
    "graph_files = [histdir + t + graph_suffix for t in titles]\n",
    "hist, dhist = msg_passing.load_history(hist_files[1])\n",
    "g = msg_passing.load_graph_graphml(graph_files[1])\n",
    "pg, _ = msg_passing.prune_graph(g)\n",
    "#fig = display.plot_diagnostic(dhist)\n",
    "#fig = display.plot_cos_dist_histogram(pg)\n",
    "nodes = utils.get_top_n_nodes(pg, 20)\n",
    "#nodes.append(\"russia's war in ukraine\")\n",
    "#fig = display.plot_confusion_matrix(pg, nodes, 2)\n",
    "#fig = display.plot_top_n_cluster_evaluations(pg, [20, 50, 100], 2, 10, with_random_baseline=True)\n",
    "#fig = display.plot_diagnostic_grid(hist_files, titles, \"Update Magnitude and Loss\", 4, 2)\n",
    "#fig = display.plot_cos_dist_histogram_grid(graph_files, titles, \"Histogram of Pairwaise Cosine Distances - Random Baseline\", 2, 4, random_baseline=True)\n",
    "\n",
    "\"\"\"\n",
    "\n",
    "for i in range(len(titles)):\n",
    "    g = msg_passing.load_graph_graphml(graph_files[i])\n",
    "    g = msg_passing.load_graph_csv(\"Input/Incremental_Datasets/\" + titles[i] + \".csv\", clean_data=True)\n",
    "    pg, _ = msg_passing.prune_graph(g)\n",
    "    pg = utils.largest_connected_component(pg)\n",
    "    msg_passing.save_graph(pg, \"output/cyto_pruned/\" + titles[i]+ \".graphml\")\n",
    "\"\"\"\n",
    "top_n_nodes = [\"20\", \"50\", \"100\", \"all\"]\n",
    "#fig = display.plot_k_cluster_evals(graph_files, titles, top_n_nodes, 2, \"Clustering Comparison with Random Baseline\")\n",
    "\n",
    "\n",
    "for i in range(len(titles)):\n",
    "    g = msg_passing.load_graph_graphml(graph_files[i])\n",
    "    pg, _ = msg_passing.prune_graph(g)\n",
    "    fig = display.plot_confusion_matrix_with_random_baseline(pg, utils.get_top_n_nodes(pg, 20), 2, titles[i] + \" top 20 nodes\", show=False)\n",
    "    #fig = display.plot_top_n_cluster_evals(pg, top_n_nodes, 2, 10, \"N Cluster Scores - \" + titles[i], show=True)\n",
    "    fig.write_html(\"images/clustering_weighted/cm_\" + titles[i] + \".html\")\n",
    "\n",
    "\n",
    "#fig.write_html(\"images/diagnostic_grid_3.html\")\n",
    "#fig.write_html(\"images/histo_grid.html\")\n",
    "#fig.write_html(\"images/cluster_eval_test.html\")\n",
    "#fig.write_html(\"images/cm_test.html\")\n",
    "#print(fig)"
   ]
  },
  {
   "cell_type": "code",
   "execution_count": 77,
   "metadata": {},
   "outputs": [],
   "source": [
    "titles = [\n",
    "    \"global_warming_network\",\n",
    "    \"gun_regulations_network\",\n",
    "    \"immigration_network\",\n",
    "    \"inflation_network\",\n",
    "    \"roe_v_wade_network\",\n",
    "    \"trump_impeachment_network\",\n",
    "    \"ukraine_war_network\",\n",
    "    \"vaccine_hesitancy_network\"\n",
    "]\n",
    "\n",
    "titles = titles[:8]\n",
    "\n",
    "histdir = \"output/Incremental_Datasets_2/\" \n",
    "hist_suffix = \"_random_walks_lr_10-3_30K_dc_095_pl_10_bs_10.pkl\"\n",
    "graph_suffix = \"_random_walks_lr_10-3_30K_dc_095_pl_10_bs_10.graphml\"\n",
    "\n",
    "hist_files = [histdir + t + hist_suffix for t in titles]\n",
    "graph_files = [histdir + t + graph_suffix for t in titles]\n",
    "\n",
    "g = msg_passing.load_graph_graphml(graph_files[4])\n",
    "pg, _ = msg_passing.prune_graph(g)\n",
    "\n",
    "subnet = [ \n",
    "'supreme court',\n",
    "'defund the police',\n",
    "'joe biden',\n",
    "'maga republicans',\n",
    "'biden administration',\n",
    "'republican',\n",
    "'a ban on assault weapons',\n",
    "'biden',\n",
    "'pennsylvania',\n",
    "'an end to gun control \"nationwide.\"',\n",
    "'scotus',\n",
    "'bruen',\n",
    "'right to bear arms',\n",
    "'second amendment',\n",
    "'white house',\n",
    "'donald trump',\n",
    "'florida',\n",
    "'texas',\n",
    "'ron desantis',\n",
    "'democrats',\n",
    "'nra',\n",
    "'national rifle association',\n",
    "]\n",
    "\n",
    "subnet = [ \n",
    "    'mark kelly',\n",
    "    'roe v. wade',\n",
    "    'democratic',\n",
    "    'pro-life republicans'\n",
    "]\n",
    "test = utils.ego_network(pg, \"roe v. wade\", radius=2)\n",
    "sub = pg.subgraph(subnet)\n",
    "msg_passing.save_graph(test, \"output/save.graphml\")\n",
    "msg_passing.save_graph(sub, \"output/sub.graphml\")\n",
    "\n",
    "\"\"\"\n",
    "abs_thresh = 0.8 \n",
    "edges = []\n",
    "num_pos = 0\n",
    "num_neg = 0\n",
    "for u, v, w in pg.edges(data=\"weight\"):\n",
    "    if(abs(w) > abs_thresh):\n",
    "        edges.append((u, v, w))\n",
    "        if(w > 0):\n",
    "            num_pos += 1\n",
    "        else:\n",
    "            num_neg += 1\n",
    "\n",
    "e2 = []\n",
    "for n in pg.nodes():\n",
    "    for neighbor in pg.neighbors(n):\n",
    "        if(len(pg[n][neighbor].keys()) > 1):\n",
    "            weights = [pg[n][neighbor][k][\"weight\"] for k in pg[n][neighbor].keys()]\n",
    "            e2.append([n, neighbor, weights])\n",
    "\n",
    "print(utils.node_degrees(pg)[0][1])\n",
    "print(utils.node_degrees(pg))  \n",
    "print(len(e2), len(e2)/2)\n",
    "for e in e2:\n",
    "    print(e)\n",
    "\n",
    "\"\"\"\n",
    "\n",
    "#print(num_pos, num_neg)\n",
    "#print(edges)\n",
    "\n",
    "if(False):\n",
    "    for i in range(len(titles)):\n",
    "        g = msg_passing.load_graph_graphml(graph_files[i])\n",
    "        pg, _ = msg_passing.prune_graph(g)\n",
    "        fig = display.plot_confusion_matrix_with_random_baseline(pg, utils.get_top_n_nodes(pg, 20), 2, titles[i] + \" top 20 nodes\", show=False)\n",
    "        fig.write_html(\"images/cm_pruned/confusion_matrix_plot_\" + titles[i] + \".html\")\n",
    "\n",
    "#fig.write_html(\"images/diagnostic_grid.html\")\n",
    "#fig.write_html(\"images/histo_grid.html\")\n",
    "#fig.write_html(\"images/cluster_eval_extreme.html\")\n",
    "#print(fig)"
   ]
  }
 ],
 "metadata": {
  "kernelspec": {
   "display_name": "Python 3.9.10 ('venv39': venv)",
   "language": "python",
   "name": "python3"
  },
  "language_info": {
   "codemirror_mode": {
    "name": "ipython",
    "version": 3
   },
   "file_extension": ".py",
   "mimetype": "text/x-python",
   "name": "python",
   "nbconvert_exporter": "python",
   "pygments_lexer": "ipython3",
   "version": "3.9.10"
  },
  "orig_nbformat": 4,
  "vscode": {
   "interpreter": {
    "hash": "b876fb38630d8b7eff3227a637f339eaf3b214f70cea0bf24c7a5b65f81667aa"
   }
  }
 },
 "nbformat": 4,
 "nbformat_minor": 2
}
